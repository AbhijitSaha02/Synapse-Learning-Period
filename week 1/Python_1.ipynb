{
  "nbformat": 4,
  "nbformat_minor": 0,
  "metadata": {
    "colab": {
      "name": "Python-1.ipynb",
      "provenance": [],
      "collapsed_sections": []
    },
    "kernelspec": {
      "name": "python3",
      "display_name": "Python 3"
    },
    "language_info": {
      "name": "python"
    }
  },
  "cells": [
    {
      "cell_type": "markdown",
      "metadata": {
        "id": "zqeDmCmHpxTp"
      },
      "source": [
        "#**Arithmetic Operators**\n",
        "\n",
        "###**Task:**\n",
        "Now perform all the arithematic operations on the numbers 7 and 2."
      ]
    },
    {
      "cell_type": "code",
      "metadata": {
        "colab": {
          "base_uri": "https://localhost:8080/"
        },
        "id": "j5G8Pwg2pWmB",
        "outputId": "d2ed2d9d-60de-4ae0-f66d-991bab69f294"
      },
      "source": [
        "# While showing the output use print()\n",
        "\n",
        "# add 7 and 2 below\n",
        "print(7+2)\n",
        "\n",
        "# substract 2 from 7 below\n",
        "print(7-2)\n",
        "\n",
        "# multiply 7 and 2 below\n",
        "print(7*2)\n",
        "\n",
        "# divide 7 by 2 below\n",
        "print(7/2)\n",
        "\n",
        "# remainder after we divide 7 by 2 below\n",
        "print(7%2)\n",
        "\n",
        "# 7 raise to the power 2 below\n",
        "print(7**2)\n",
        "\n",
        "# divide 7 by 2 nd round it to the nearest integer\n",
        "print(7//2)"
      ],
      "execution_count": 1,
      "outputs": [
        {
          "output_type": "stream",
          "name": "stdout",
          "text": [
            "9\n",
            "5\n",
            "14\n",
            "3.5\n",
            "1\n",
            "49\n",
            "3\n"
          ]
        }
      ]
    },
    {
      "cell_type": "markdown",
      "metadata": {
        "id": "yPqBoA3C2uNI"
      },
      "source": [
        "#**Order Of Operations**\n",
        "\n",
        "###**Question:**\n",
        "In this quiz you're going to do some calculations for your \n",
        "bills. Your net expenditure for the past 5 months has been \n",
        "1200, 2000, 800, 1500 and 1700. What is your average monthly\n",
        "expenditure."
      ]
    },
    {
      "cell_type": "code",
      "metadata": {
        "colab": {
          "base_uri": "https://localhost:8080/"
        },
        "id": "PIH7dkBg3FD2",
        "outputId": "b2bd7455-b090-4bee-c2c2-18248c07a977"
      },
      "source": [
        "average = (1200 + 2000 + 800 + 1500 + 1700)/5\n",
        "print(f'The average monthly expenditure is {average}')"
      ],
      "execution_count": 2,
      "outputs": [
        {
          "output_type": "stream",
          "name": "stdout",
          "text": [
            "The average monthly expenditure is 1440.0\n"
          ]
        }
      ]
    },
    {
      "cell_type": "markdown",
      "metadata": {
        "id": "imVqRU4Z3oOI"
      },
      "source": [
        "###**Question:**\n",
        "\n",
        "In this quiz you're going to do some calculations for a mason. Two rooms in a house needs to be filled. One room is 4 ft wide by 11 ft long, the other is 5 ft wide by 9 ft long. Tiles come in packages of 7 and each tile is 1ftx1ft in size<br><br>\n",
        "1) How many tiles are needed?<br>\n",
        "2) You buy 17 packages each containing 6 tiles each. How many tiles will be left over?"
      ]
    },
    {
      "cell_type": "code",
      "metadata": {
        "colab": {
          "base_uri": "https://localhost:8080/"
        },
        "id": "F6n59RWL32xM",
        "outputId": "c5a1372b-be04-4daa-faac-5037b8c0e53f"
      },
      "source": [
        "area_of_tile = 1\n",
        "area_of_house_1 = 4*11\n",
        "area_of_house_2 = 5*9\n",
        "\n",
        "# write the code that calculates how many tiles are needed down below.\n",
        "total_tiles = (area_of_house_1 + area_of_house_2)/area_of_tile\n",
        "print(int(total_tiles))\n",
        "\n",
        "# write the code that calculates how many tiles will be left over.\n",
        "tiles_bought = 17*6\n",
        "tiles_left = tiles_bought - total_tiles\n",
        "print(int(tiles_left))"
      ],
      "execution_count": 4,
      "outputs": [
        {
          "output_type": "stream",
          "name": "stdout",
          "text": [
            "89\n",
            "13\n"
          ]
        }
      ]
    },
    {
      "cell_type": "markdown",
      "metadata": {
        "id": "UeBQFZty5OhJ"
      },
      "source": [
        "#**Multiple Assignment Operator**\n",
        "\n",
        "###**Question:**\n",
        "Find the length of the vector with its start coordinates as the origin and the end coordinates as (4,5,6).\n",
        "\n",
        "> *length = squareroot(x^2 + y^2 + z^2)*"
      ]
    },
    {
      "cell_type": "code",
      "metadata": {
        "colab": {
          "base_uri": "https://localhost:8080/"
        },
        "id": "2mo9r0Wj5kqf",
        "outputId": "172a2a67-1b3e-446c-feb1-f4c2b608aa78"
      },
      "source": [
        "# write your code here\n",
        "import math\n",
        "\n",
        "x, y, z = 4, 5, 6\n",
        "length = math.sqrt(x**2 + y**2 + z**2)\n",
        "print(f'The length is {length}')"
      ],
      "execution_count": 6,
      "outputs": [
        {
          "output_type": "stream",
          "name": "stdout",
          "text": [
            "The length is 8.774964387392123\n"
          ]
        }
      ]
    },
    {
      "cell_type": "markdown",
      "metadata": {
        "id": "UdWbdkdt6Fg1"
      },
      "source": [
        "#**Variable Naming Conventions**\n",
        "\n",
        "###**Question:**\n",
        "You are managing your finances using python:\n",
        "\n",
        "* complete the tasks mentioned in the comments. and then print the amount left in your bank.\n",
        "\n",
        "> *Note that this code uses scientific notation to define large numbers. 1.2e6 is equal to        1.2 * 10 ** 6 which is equal to 1200000.*"
      ]
    },
    {
      "cell_type": "code",
      "metadata": {
        "colab": {
          "base_uri": "https://localhost:8080/"
        },
        "id": "uu7fPyo56uyI",
        "outputId": "16a183bd-fa59-4717-8385-f93eb6dee8e4"
      },
      "source": [
        "# the amount of money in your bank account is 1.2e5\n",
        "amt = 1.2e6\n",
        "\n",
        "# money recieved every year in form of salary\n",
        "salary = 9.3e5\n",
        "\n",
        "# decrease the salary by 30% as tax paied to the government.\n",
        "salary -= 0.3*salary\n",
        "\n",
        "# Add the salary to the bank account amt variable\n",
        "amt += salary\n",
        "\n",
        "# increase the amt by 4% that you recieved from the bank as intrest\n",
        "amt += 0.04*amt\n",
        "\n",
        "# substract 1.2e5 from amt as the rent paied\n",
        "amt -= 1.2e5\n",
        "\n",
        "# print the new value of the amt variable\n",
        "print(amt)"
      ],
      "execution_count": 7,
      "outputs": [
        {
          "output_type": "stream",
          "name": "stdout",
          "text": [
            "1805040.0\n"
          ]
        }
      ]
    },
    {
      "cell_type": "markdown",
      "metadata": {
        "id": "rNgGCKE37N4x"
      },
      "source": [
        "#**Boolean Datatype, Comparison and Logical Operators**\n",
        "\n",
        "###**Question:**\n",
        "\n",
        "Is **Mumbai** more **dense** than Delhi?\n",
        "> *Print ***True*** if it is and ***False*** if it is not.*\n"
      ]
    },
    {
      "cell_type": "code",
      "metadata": {
        "colab": {
          "base_uri": "https://localhost:8080/"
        },
        "id": "CtqgCNkU7Zor",
        "outputId": "d73a836b-9fa2-4771-e5ec-13a05aa68de7"
      },
      "source": [
        "mum_population, mum_area = 20411000, 4355\n",
        "del_population, del_area = 30291000, 1484\n",
        "\n",
        "mum_francisco_pop_density = mum_population/mum_area\n",
        "del_de_janeiro_pop_density = del_population/del_area\n",
        "\n",
        "# Print True if Mumbai is denser than Delhi, and False otherwise\n",
        "is_dense = mum_francisco_pop_density > del_de_janeiro_pop_density\n",
        "print(is_dense)"
      ],
      "execution_count": 8,
      "outputs": [
        {
          "output_type": "stream",
          "name": "stdout",
          "text": [
            "False\n"
          ]
        }
      ]
    },
    {
      "cell_type": "markdown",
      "metadata": {
        "id": "0HoC31HG7wJY"
      },
      "source": [
        "#**Strings**\n",
        "\n",
        "### **Question:**\n",
        "\n",
        "The line of code in the following code block will cause a *SyntaxError*, thanks to the misuse of quotation marks. First run it with Test Run to view the error message. Then resolve the problem so that the quote (from Mahatama Gandhi) is correctly assigned to the variable *gandhi_quote*."
      ]
    },
    {
      "cell_type": "code",
      "metadata": {
        "colab": {
          "base_uri": "https://localhost:8080/"
        },
        "id": "OSeHY5DI8uAY",
        "outputId": "d2a2539c-8488-4eae-a802-cc302e980d8c"
      },
      "source": [
        "# TODO: Fix this string!\n",
        "gandhi_quote = 'If you don\\'t ask, you don\\'t get it'\n",
        "print(gandhi_quote)"
      ],
      "execution_count": 10,
      "outputs": [
        {
          "output_type": "stream",
          "name": "stdout",
          "text": [
            "If you don't ask, you don't get it\n"
          ]
        }
      ]
    },
    {
      "cell_type": "markdown",
      "metadata": {
        "id": "BrtRy7Rj9JMa"
      },
      "source": [
        "### **Question:**\n",
        "\n",
        "In this question you have to print the accuracy logs of a model in training."
      ]
    },
    {
      "cell_type": "code",
      "metadata": {
        "colab": {
          "base_uri": "https://localhost:8080/"
        },
        "id": "ha7ummGh9LYf",
        "outputId": "71d81e92-f35e-4d01-c8d2-7f4e1d6496df"
      },
      "source": [
        "model = \"VGG16\"\n",
        "iteration = \"150\"\n",
        "accuracy = \"67.98\"\n",
        "\n",
        "# TODO: print a log message using the variables above\n",
        "# This message should have the same format as this one:\n",
        "# \"the accuracy of ResNET50 model in 100th iteration is: 42.16%\"\n",
        "\n",
        "print(f'The accuracy of {model} model in  {iteration}th iteration is: {accuracy}%')"
      ],
      "execution_count": 12,
      "outputs": [
        {
          "output_type": "stream",
          "name": "stdout",
          "text": [
            "The accuracy of VGG16 model in  150th iteration is: 67.98%\n"
          ]
        }
      ]
    },
    {
      "cell_type": "markdown",
      "metadata": {
        "id": "up0C-6iY9fLv"
      },
      "source": [
        "### **Question:**\n",
        "\n",
        "Use string concatination and *len()* function to fing the length of a persons complete name and store it in the variable *name_length*.\n",
        "\n",
        "As a business card designer find if the name can fit into a business card. "
      ]
    },
    {
      "cell_type": "code",
      "metadata": {
        "colab": {
          "base_uri": "https://localhost:8080/"
        },
        "id": "_rQWaU8F9h2H",
        "outputId": "c93e8181-8489-4a40-eb72-f4f29f3c0bbf"
      },
      "source": [
        "given_name = \"Rahul\"\n",
        "middle_names = \"Shastri\"\n",
        "family_name = \"Mishra\"\n",
        "\n",
        "name_length = len(given_name + \" \" +  middle_names + \" \" + family_name)\n",
        "\n",
        "# Now we check to make sure that the name fits within the driving license character limit\n",
        "# Nothing you need to do here\n",
        "driving_license_character_limit = 28\n",
        "print(name_length <= driving_license_character_limit)"
      ],
      "execution_count": 18,
      "outputs": [
        {
          "output_type": "stream",
          "name": "stdout",
          "text": [
            "True\n"
          ]
        }
      ]
    },
    {
      "cell_type": "markdown",
      "metadata": {
        "id": "ivE1-Cip-Eq_"
      },
      "source": [
        "#**Type and Type Conversion Revision**\n",
        "\n",
        "### **Question:**\n",
        "\n",
        "In this quiz, you’ll need to change the types of the input and output data in order to get the result you want.\n",
        "\n",
        "Calculate and print the total sales for the week from the data provided. Print out a string of the form \"This week's total sales: xxx\", where xxx will be the actual total of all the numbers. You’ll need to change the type of the input data in order to calculate that total."
      ]
    },
    {
      "cell_type": "code",
      "metadata": {
        "colab": {
          "base_uri": "https://localhost:8080/"
        },
        "id": "Y2OEXlL7-Pve",
        "outputId": "975074b7-2354-4443-c2ac-7a05806d6278"
      },
      "source": [
        "mon_sales = \"121\"\n",
        "tues_sales = \"105\"\n",
        "wed_sales = \"110\"\n",
        "thurs_sales = \"98\"\n",
        "fri_sales = \"95\"\n",
        "\n",
        "#TODO: Print a string with this format: This week's total sales: xxx\n",
        "# You will probably need to write some lines of code before the print statement.\n",
        "total_sales =  int(mon_sales) + int(tues_sales) + int(wed_sales) + int(thurs_sales) + int(fri_sales)\n",
        "print('This week\\'s total sales: ' + str(total_sales))"
      ],
      "execution_count": 19,
      "outputs": [
        {
          "output_type": "stream",
          "name": "stdout",
          "text": [
            "This week's total sales: 529\n"
          ]
        }
      ]
    },
    {
      "cell_type": "markdown",
      "metadata": {
        "id": "_BpwSAKF_APb"
      },
      "source": [
        "#**Lists and Membership Operators**\n",
        "\n",
        "### **Question:**\n",
        "\n",
        "Try to use *len()* to pull the last element from the above list\n",
        ">students = ['sam', 'pam', 'rocky', 'austin', 'steve', 'banner']"
      ]
    },
    {
      "cell_type": "code",
      "metadata": {
        "colab": {
          "base_uri": "https://localhost:8080/"
        },
        "id": "uys4O5LK_MUi",
        "outputId": "94026e13-d0c5-41e0-fae7-09970dcc2254"
      },
      "source": [
        "students = ['sam', 'pam', 'rocky', 'austin', 'steve', 'banner']\n",
        "print(students[len(students)-1])"
      ],
      "execution_count": 21,
      "outputs": [
        {
          "output_type": "stream",
          "name": "stdout",
          "text": [
            "banner\n"
          ]
        }
      ]
    },
    {
      "cell_type": "markdown",
      "metadata": {
        "id": "sQozG9qF_sES"
      },
      "source": [
        "#**Dictionary And Identity Operators**\n",
        "\n",
        "### Task:\n",
        "Define a dictionary named population that contains this data:\n",
        "\n",
        "**Keys** ->\t    **Values**\n",
        "\n",
        "New York ->\t\t17.8\n",
        "\n",
        "Spain\t  ->\t   13.3\n",
        "\n",
        "Dhaka\t  ->\t   13.0\n",
        "\n",
        "Mumbai\t  ->\t 12.5"
      ]
    },
    {
      "cell_type": "code",
      "metadata": {
        "colab": {
          "base_uri": "https://localhost:8080/"
        },
        "id": "5pZHLm-z_yYV",
        "outputId": "e61a9c3b-7f79-4b4f-f863-56addc8b62bf"
      },
      "source": [
        "places = {'New York': 17.8, 'Spain': 13.3, 'Dhaka': 13.0, 'Mumbai': 12.5}\n",
        "for (key, value) in places.items() :\n",
        "  print('Key: {} and Value: {}'.format(key.ljust(8), value))"
      ],
      "execution_count": 28,
      "outputs": [
        {
          "output_type": "stream",
          "name": "stdout",
          "text": [
            "Key: New York and Value: 17.8\n",
            "Key: Spain    and Value: 13.3\n",
            "Key: Dhaka    and Value: 13.0\n",
            "Key: Mumbai   and Value: 12.5\n"
          ]
        }
      ]
    },
    {
      "cell_type": "markdown",
      "metadata": {
        "id": "UqYy0vBuBgxs"
      },
      "source": [
        "### **Question:**\n",
        "\n",
        "Try your hand at working with nested dictionaries. Add another entry, *'is_noble_gas,'* to each dictionary in the *elements* dictionary. After inserting the new entries you should be able to perform these lookups:\n",
        "\n",
        "\n",
        "\n",
        "---\n",
        "\n",
        "> print(elements['hydrogen']['is_noble_gas'])<br>\n",
        "False\n",
        "\n",
        "> print(elements['helium']['is_noble_gas'])<br>\n",
        "True"
      ]
    },
    {
      "cell_type": "code",
      "metadata": {
        "colab": {
          "base_uri": "https://localhost:8080/"
        },
        "id": "MMBMB_5oBz16",
        "outputId": "348488ab-54b2-4e7f-f031-c36c3f51d2c7"
      },
      "source": [
        "elements = {'hydrogen': {'number': 1, 'weight': 1.00794, 'symbol': 'H'},\n",
        "            'helium': {'number': 2, 'weight': 4.002602, 'symbol': 'He'}}\n",
        "\n",
        "def add_key(dictionary, key, value) :\n",
        "  if key not in dictionary:\n",
        "    dictionary[key].append(value)\n",
        "  else :\n",
        "    dictionary[key] = [dictionary[key], value]\n",
        "\n",
        "add_key(elements, 'hydrogen', {'is_noble_gas': False})\n",
        "add_key(elements, 'helium', {'is_noble_gas': True })\n",
        "print(elements)\n",
        "\n",
        "print(elements['hydrogen'][1]['is_noble_gas'])\n",
        "print(elements['helium'][1]['is_noble_gas'])"
      ],
      "execution_count": 30,
      "outputs": [
        {
          "output_type": "stream",
          "name": "stdout",
          "text": [
            "{'hydrogen': [{'number': 1, 'weight': 1.00794, 'symbol': 'H'}, {'is_noble_gas': False}], 'helium': [{'number': 2, 'weight': 4.002602, 'symbol': 'He'}, {'is_noble_gas': True}]}\n",
            "False\n",
            "True\n"
          ]
        }
      ]
    }
  ]
}