{
  "nbformat": 4,
  "nbformat_minor": 0,
  "metadata": {
    "colab": {
      "name": "Python-2.ipynb",
      "provenance": [],
      "collapsed_sections": []
    },
    "kernelspec": {
      "name": "python3",
      "display_name": "Python 3"
    },
    "language_info": {
      "name": "python"
    }
  },
  "cells": [
    {
      "cell_type": "markdown",
      "metadata": {
        "id": "sB1NprDiwTFY"
      },
      "source": [
        "#**Function**\n",
        "\n",
        "###**TASK**\n",
        "Try making a function to print the message you want the way we just did...  For now keep the name of the function <b>Synapse</b>  and run the two cells below..."
      ]
    },
    {
      "cell_type": "code",
      "metadata": {
        "colab": {
          "base_uri": "https://localhost:8080/"
        },
        "id": "0DOkMBX_v2AC",
        "outputId": "d7283c01-00ac-4eec-866b-a61c3b93d049"
      },
      "source": [
        "def Synapse():\n",
        "  ## PRINT WHATEVER YOU WANT TO PRINT BUT MAKE SURE TO INDENT THE CODE PROPERLY\n",
        "  print('Feeling excited to start working with Synapse :)')\n",
        "  print('Hoping to learn many new things')\n",
        "\n",
        "# DON'T WORRY AFTER YOU RUN THIS CELL,THERE WOULD BE NO OUTPUT AS YOU ARE JUST DEFINING THE FUNCTION\n",
        "\n",
        "Synapse()    ## HERE WE ARE CALLING THE FUNCTION, IT SHOULD PRIINT THE STATEMENT YOU ASKED THE FUNCTION TO PRINT IN THE ABOVE CELL"
      ],
      "execution_count": 3,
      "outputs": [
        {
          "output_type": "stream",
          "name": "stdout",
          "text": [
            "Feeling excited to start working with Synapse :)\n",
            "Hoping to learn many new things\n"
          ]
        }
      ]
    },
    {
      "cell_type": "markdown",
      "metadata": {
        "id": "cnsqAMbAxPNu"
      },
      "source": [
        "###**Task:**\n",
        "Write a function which takes two number as arguments and print the multiplication of the two numbers"
      ]
    },
    {
      "cell_type": "code",
      "metadata": {
        "colab": {
          "base_uri": "https://localhost:8080/"
        },
        "id": "T5Mzj7hzxUck",
        "outputId": "e74c8b05-67f1-490f-b08a-3f695211978b"
      },
      "source": [
        "def Multiply(a, b):\n",
        "  ## WRITE THE CODE TO PRINT THE MULTIPLICATION OF TWO NUMBERS\n",
        "  print(a*b)\n",
        "\n",
        "\n",
        "# Call the multiply function you just defined  \n",
        "Multiply(6, 14)"
      ],
      "execution_count": 5,
      "outputs": [
        {
          "output_type": "stream",
          "name": "stdout",
          "text": [
            "84\n"
          ]
        }
      ]
    },
    {
      "cell_type": "markdown",
      "metadata": {
        "id": "QrzmJi9zx7W4"
      },
      "source": [
        "### **Question:**\n",
        "Write a function named population_density that takes two arguments, population and land_area, and returns a population density calculated from those values. I've included two test cases that you can use to verify that your function works correctly. Once you've written your function, use the Test Run button to test your code."
      ]
    },
    {
      "cell_type": "code",
      "metadata": {
        "colab": {
          "base_uri": "https://localhost:8080/"
        },
        "id": "ZK6u4Zg0x8nK",
        "outputId": "163991b2-582d-4cc5-d6a0-7f2ff40fb5fd"
      },
      "source": [
        "import math\n",
        "\n",
        "# write your function here\n",
        "def population_density(population, land_area) :\n",
        "  return(population/land_area)\n",
        "\n",
        "\n",
        "\n",
        "# test cases for your function\n",
        "test1 = population_density(10, 1)\n",
        "if(math.modf(test1)[0]==0) :\n",
        "  test1 = int(test1)\n",
        "expected_result1 = 10\n",
        "print(\"expected result: {}, actual result: {}\".format(expected_result1, test1))\n",
        "\n",
        "test2 = population_density(864816, 121.4)\n",
        "expected_result2 = 7123.6902801\n",
        "print(\"expected result: {}, actual result: {}\".format(expected_result2, test2))"
      ],
      "execution_count": 10,
      "outputs": [
        {
          "output_type": "stream",
          "name": "stdout",
          "text": [
            "0.0\n",
            "expected result: 10, actual result: 10\n",
            "expected result: 7123.6902801, actual result: 7123.690280065897\n"
          ]
        }
      ]
    },
    {
      "cell_type": "markdown",
      "metadata": {
        "id": "6Ypqy6DEzyYu"
      },
      "source": [
        "### **Question:**\n",
        "Write a function named readable_timedelta. The function should take one argument, an integer days, and return a string that says how many weeks and days that is. For example, calling the function and printing the result like this:\n",
        "\n",
        "```\n",
        "print(readable_timedelta(10))\n",
        "```\n",
        "should output the following:\n",
        "```\n",
        "1 week(s) and 3 day(s).\n",
        "```"
      ]
    },
    {
      "cell_type": "code",
      "metadata": {
        "colab": {
          "base_uri": "https://localhost:8080/"
        },
        "id": "zOTkQSQgz2Ow",
        "outputId": "c204aa59-0f33-47e2-eed8-eb7ec3c8d7c4"
      },
      "source": [
        "# write your function here\n",
        "def readable_timedelta(days) :\n",
        "  week = 0\n",
        "  while(days >= 7) :\n",
        "    days -= 7\n",
        "    week += 1\n",
        "  \n",
        "  s = '{} week(s) and {} day(s).'.format(week, days)\n",
        "  return s\n",
        "\n",
        "# test your function\n",
        "print(readable_timedelta(10))"
      ],
      "execution_count": 15,
      "outputs": [
        {
          "output_type": "stream",
          "name": "stdout",
          "text": [
            "1 week(s) and 3 day(s).\n"
          ]
        }
      ]
    },
    {
      "cell_type": "markdown",
      "metadata": {
        "id": "Dii6y1bZ1LTZ"
      },
      "source": [
        "#**Lambda Function**\n",
        "\n",
        "### **Question:**\n",
        "map() is a higher-order built-in function that takes a function and iterable as inputs, and returns an iterator that applies the function to each element of the iterable. The code below uses map() to find the mean of each list in numbers to create the list averages. Give it a test run to see what happens.\n",
        "\n",
        "Rewrite this code to be more concise by replacing the mean function with a lambda expression defined within the call to map()."
      ]
    },
    {
      "cell_type": "code",
      "metadata": {
        "colab": {
          "base_uri": "https://localhost:8080/"
        },
        "id": "n-_-GNDY1MTU",
        "outputId": "a03a325c-7f44-43be-dadd-01cb08ace77e"
      },
      "source": [
        "numbers = [\n",
        "              [34, 63, 88, 71, 29],\n",
        "              [90, 78, 51, 27, 45],\n",
        "              [63, 37, 85, 46, 22],\n",
        "              [51, 22, 34, 11, 18]\n",
        "           ]\n",
        "\n",
        "averages = list(map(lambda num_list : sum(num_list) / len(num_list), numbers))\n",
        "print(averages)"
      ],
      "execution_count": 27,
      "outputs": [
        {
          "output_type": "stream",
          "name": "stdout",
          "text": [
            "[57.0, 58.2, 50.6, 27.2]\n"
          ]
        }
      ]
    },
    {
      "cell_type": "markdown",
      "metadata": {
        "id": "ZYZF8-xG376p"
      },
      "source": [
        "#**DOCSTRINGS**\n",
        "\n",
        "###**TASK**\n",
        "Write a python function find max(a/b) for all (a,b) belongs to {x1, x2, x3}, where x1, x2 and x3 are the numbers passed as an argument to the function.\n",
        "<br><br>\n",
        "for e.g: if we pass 1, 2 and 3 to the function , then it should return:\n",
        "\n",
        "**max( 1/1, 1/2, 1/3, 2/1, 2/2, 2/3, 3/1, 3/2, 3/3 )**\n",
        "so the answer for the example will be 3 *i.e* 3/1.   \n",
        "\n",
        "also write an appropriate docstring for that"
      ]
    },
    {
      "cell_type": "code",
      "metadata": {
        "colab": {
          "base_uri": "https://localhost:8080/"
        },
        "id": "swgwVqaa4SsG",
        "outputId": "31183f60-9a31-4e9c-eaf1-eeecf8c8ba3d"
      },
      "source": [
        "# your function here\n",
        "def maximum(x1, x2, x3):\n",
        "  \"\"\"\n",
        "  Calculates the maximum of all the combinations of a/b where a and b both belongs to {x1, x2, x3}\n",
        "  INPUT:\n",
        "  numbers: stores the numbers passed as list \n",
        "  max: to store the maximum value\n",
        "\n",
        "  max is first assigned a infinitely large negative value\n",
        "  numbers is assigned the list of all the numbers passed as argument\n",
        "  two for loops are used to go through all the possible combinations of a and b and assign max as r=the value of a/b if max is less than a/b \n",
        "\n",
        "  OUTPUT:\n",
        "  returns max which stores maximum of all the possible combinations\n",
        "  \"\"\"\n",
        "\n",
        "  max_number = float('-inf')\n",
        "  numbers = [x1, x2, x3]\n",
        "  for a in numbers :\n",
        "    for b in numbers :\n",
        "      if(max_number < (a/b)) :\n",
        "        max_number = a/b\n",
        "\n",
        "  return max_number\n",
        "\n",
        "max_value = maximum(7, 12, 25)\n",
        "print(maximum.__doc__)\n",
        "print(max_value)"
      ],
      "execution_count": 31,
      "outputs": [
        {
          "output_type": "stream",
          "name": "stdout",
          "text": [
            "\n",
            "  Calculates the maximum of all the combinations of a/b where a and b both belongs to {x1, x2, x3}\n",
            "  INPUT:\n",
            "  numbers: stores the numbers passed as list \n",
            "  max: to store the maximum value\n",
            "\n",
            "  max is first assigned a infinitely large negative value\n",
            "  numbers is assigned the list of all the numbers passed as argument\n",
            "  two for loops are used to go through all the possible combinations of a and b and assign max as r=the value of a/b if max is less than a/b \n",
            "\n",
            "  OUTPUT:\n",
            "  returns max which stores maximum of all the possible combinations\n",
            "  \n",
            "3.5714285714285716\n"
          ]
        }
      ]
    }
  ]
}