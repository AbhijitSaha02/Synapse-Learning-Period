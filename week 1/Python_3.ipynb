{
  "nbformat": 4,
  "nbformat_minor": 0,
  "metadata": {
    "colab": {
      "name": "Python-3.ipynb",
      "provenance": [],
      "collapsed_sections": [],
      "toc_visible": true
    },
    "kernelspec": {
      "name": "python3",
      "display_name": "Python 3"
    },
    "language_info": {
      "name": "python"
    }
  },
  "cells": [
    {
      "cell_type": "markdown",
      "metadata": {
        "id": "2fvB0lGR5Xr6"
      },
      "source": [
        "#**Conditional If Else Statements**\n",
        "\n",
        "###**Ouestion**:\n",
        "\n",
        "Write an if statement that lets a student know which of these grades they got based on the number they got in exams, which is stored in the integer variable *marks*.\n",
        "\n",
        "Marks -> Grade\n",
        "\n",
        "100-90 -> A+\n",
        "\n",
        "90-80 -> A\n",
        "\n",
        "80-70 -> B\n",
        "\n",
        "70-60 -> C\n",
        "\n",
        "60-50 -> D\n",
        "\n",
        "50-40 -> E\n",
        "\n",
        "<40 -> F\n",
        "\n",
        "> All of the lower and upper bounds here are inclusive, and marks can only take on positive integer values up to 100.\n",
        "\n",
        "In your if statement, assign the result variable to a string holding the appropriate message based on the value of marks.\n",
        "\n",
        "\"you have scored *[Grade]* Grade.\""
      ]
    },
    {
      "cell_type": "code",
      "metadata": {
        "colab": {
          "base_uri": "https://localhost:8080/"
        },
        "id": "QJB_KQf45PVH",
        "outputId": "4ffad194-72fe-4d26-a873-930a3815461e"
      },
      "source": [
        "marks = 60  # use this input to make your submission\n",
        "\n",
        "# write your if statement here\n",
        "if marks > 0 :\n",
        "  if marks >= 90 :\n",
        "    result = 'You have scored A+ Grade'\n",
        "  elif marks >= 80 :\n",
        "    result = 'You have scored A Grade'\n",
        "  elif marks >= 70 : \n",
        "    result = 'You have scored B Grade'\n",
        "  elif marks >= 60 :\n",
        "    result = 'You have scored C Grade' \n",
        "  elif marks >= 50 :\n",
        "    result = 'You have scored D Grade'\n",
        "  elif marks >= 40 :\n",
        "    result = 'You have scored E Grade'\n",
        "  else :\n",
        "    result = 'You have scored F Grade'\n",
        "\n",
        "\n",
        "print(result)"
      ],
      "execution_count": 4,
      "outputs": [
        {
          "output_type": "stream",
          "name": "stdout",
          "text": [
            "You have scored C Grade\n"
          ]
        }
      ]
    },
    {
      "cell_type": "markdown",
      "metadata": {
        "id": "XEaXtJ4R7gEO"
      },
      "source": [
        "###**Question:**\n",
        "\n",
        "Depending on where an individual is from we need to tax them appropriately. The states of CA, MN, and NY have taxes of 7.5%, 9.5%, and 8.9% respectively. Use this information to take the amount of a purchase and the corresponding state to assure that they are taxed by the right amount."
      ]
    },
    {
      "cell_type": "code",
      "metadata": {
        "colab": {
          "base_uri": "https://localhost:8080/"
        },
        "id": "bryTDK587k06",
        "outputId": "58202c95-e4db-47dd-d14f-208ba404fd54"
      },
      "source": [
        "state = input('Enter the state: ')\n",
        "purchase_amount = int(input('Enter the amount of purchase: '))\n",
        "\n",
        "if state == 'CA' :\n",
        "    tax_amount = .075\n",
        "    total_cost = purchase_amount*(1+tax_amount)\n",
        "    result = \"Since you're from {}, your total cost is {}.\".format(state, total_cost)\n",
        "\n",
        "elif state == 'MN' :\n",
        "    tax_amount = .095\n",
        "    total_cost = purchase_amount*(1+tax_amount)\n",
        "    result = \"Since you're from {}, your total cost is {}.\".format(state, total_cost)\n",
        "\n",
        "elif state == 'NY' :\n",
        "    tax_amount = .089\n",
        "    total_cost = purchase_amount*(1+tax_amount)\n",
        "    result = \"Since you're from {}, your total cost is {}.\".format(state, total_cost)\n",
        "\n",
        "print(result)"
      ],
      "execution_count": 9,
      "outputs": [
        {
          "output_type": "stream",
          "name": "stdout",
          "text": [
            "Enter the state: NY\n",
            "Enter the amount of purchase: 3250\n",
            "Since you're from NY, your total cost is 3539.25.\n"
          ]
        }
      ]
    },
    {
      "cell_type": "markdown",
      "metadata": {
        "id": "at5_sb58-K27"
      },
      "source": [
        "#**Truth Value Testing**\n",
        "\n",
        "### **Ouestion:**\n",
        "Imagine an air traffic control program that tracks three variables, *altitude*, *speed*, and *propulsion* which for a particular airplane have the values specified below.\n",
        "```\n",
        "altitude = 10000\n",
        "speed = 250\n",
        "propulsion = \"Propeller\"\n",
        "```\n",
        "For each of the following boolean expressions, work out whether it evaluates to True or False and match the correct value.\n",
        "\n",
        "-  altitude < 1000 and speed > 100\n",
        "- (propulsion == \"Jet\" or propulsion == \"Turboprop\") and speed < 300 and altitude > 20000\n",
        "- not (speed > 400 and propulsion == \"Propeller\")\n",
        "- (altitude > 500 and speed > 100) or not propulsion == \"Propeller\""
      ]
    },
    {
      "cell_type": "code",
      "metadata": {
        "colab": {
          "base_uri": "https://localhost:8080/"
        },
        "id": "myoWtPAK-dJ2",
        "outputId": "db29bb48-7d5b-4921-e18f-80cdecd95db6"
      },
      "source": [
        "altitude = 10000\n",
        "speed = 250\n",
        "propulsion = \"Propeller\"\n",
        "\n",
        "# write your code here\n",
        "if altitude < 1000 and speed > 100 :\n",
        "  print('altitude < 1000 and speed > 100 evalates to True')\n",
        "else :\n",
        "  print('altitude < 1000 and speed > 100 evaluates to False')\n",
        "\n",
        "print()\n",
        "\n",
        "if (propulsion == \"Jet\" or propulsion == \"Turboprop\") and speed < 300 and altitude > 20000 :\n",
        "  print('(propulsion == \"Jet\" or propulsion == \"Turboprop\") and speed < 300 and altitude > 20000 evaluates to True')\n",
        "else :\n",
        "  print('(propulsion == \"Jet\" or propulsion == \"Turboprop\") and speed < 300 and altitude > 20000) evaluates to False')\n",
        "\n",
        "print()\n",
        "\n",
        "if not (speed > 400 and propulsion == \"Propeller\") :\n",
        "  print('not (speed > 400 and propulsion == \"Propeller\") evaluates to True')\n",
        "else :\n",
        "  print('not (speed > 400 and propulsion == \"Propeller\") evaluates to False')\n",
        "\n",
        "print()\n",
        "\n",
        "if (altitude > 500 and speed > 100) or not propulsion == \"Propeller\" :\n",
        "  print('(altitude > 500 and speed > 100) or not propulsion == \"Propeller\" evaluates to True')\n",
        "else :\n",
        "  print('(altitude > 500 and speed > 100) or not propulsion == \"Propeller\" evaluates to False')"
      ],
      "execution_count": 14,
      "outputs": [
        {
          "output_type": "stream",
          "name": "stdout",
          "text": [
            "altitude < 1000 and speed > 100 evaluates to False\n",
            "\n",
            "(propulsion == \"Jet\" or propulsion == \"Turboprop\") and speed < 300 and altitude > 20000) evaluates to False\n",
            "\n",
            "not (speed > 400 and propulsion == \"Propeller\") evaluates to True\n",
            "\n",
            "(altitude > 500 and speed > 100) or not propulsion == \"Propeller\" evaluates to True\n"
          ]
        }
      ]
    },
    {
      "cell_type": "markdown",
      "metadata": {
        "id": "xEXZ1xluBuCa"
      },
      "source": [
        "#**Creating and modifying lists**\n",
        "\n",
        "### **Question:**\n",
        "Write a for loop below that will print out every whole number that is a multiple of 5 and less than or equal to 30."
      ]
    },
    {
      "cell_type": "code",
      "metadata": {
        "colab": {
          "base_uri": "https://localhost:8080/"
        },
        "id": "B5XSGluYrxp3",
        "outputId": "0fa46ae6-567b-4bc7-e8af-6c86ebfe588a"
      },
      "source": [
        "# Write a for loop using range() to print out multiples of 5 up to 30 inclusint(i)\n",
        "for i in range(31) :\n",
        "  if i % 5 == 0 :\n",
        "    print(i)\n",
        "\n",
        "print()\n",
        "# Or\n",
        "for i in range(0, 35, 5) :\n",
        "  print(i)"
      ],
      "execution_count": 7,
      "outputs": [
        {
          "output_type": "stream",
          "name": "stdout",
          "text": [
            "0\n",
            "5\n",
            "10\n",
            "15\n",
            "20\n",
            "25\n",
            "30\n",
            "\n",
            "0\n",
            "5\n",
            "10\n",
            "15\n",
            "20\n",
            "25\n",
            "30\n"
          ]
        }
      ]
    },
    {
      "cell_type": "markdown",
      "metadata": {
        "id": "dtd5-M88trmh"
      },
      "source": [
        "### **Question:**\n",
        "Write a for loop that iterates over the names list to create a usernames list. To create a username for each name, make everything lowercase and replace spaces with underscores. Running your for loop over the list:\n",
        "```\n",
        "names = [\"Joey Tribbiani\", \"Monica Geller\", \"Chandler Bing\", \"Phoebe Buffay\"]\n",
        "```\n",
        "should create the list:\n",
        "\n",
        "```\n",
        "usernames = [\"joey_tribbiani\", \"monica_geller\", \"chandler_bing\", \"phoebe_buffay\"]\n",
        "```"
      ]
    },
    {
      "cell_type": "code",
      "metadata": {
        "colab": {
          "base_uri": "https://localhost:8080/"
        },
        "id": "MVe-MZENtyRI",
        "outputId": "87ce946f-bf96-401e-9194-87b9f6e9d3fa"
      },
      "source": [
        "names = [\"Joey Tribbiani\", \"Monica Geller\", \"Chandler Bing\", \"Phoebe Buffay\"]\n",
        "usernames = []\n",
        "\n",
        "# write your for loop here\n",
        "for i in range(len(names)) :\n",
        "  usernames.append(names[i].lower().replace(' ', '_'))\n",
        "\n",
        "print(usernames)"
      ],
      "execution_count": 15,
      "outputs": [
        {
          "output_type": "stream",
          "name": "stdout",
          "text": [
            "['joey_tribbiani', 'monica_geller', 'chandler_bing', 'phoebe_buffay']\n"
          ]
        }
      ]
    },
    {
      "cell_type": "markdown",
      "metadata": {
        "id": "rnCoHP12wnZQ"
      },
      "source": [
        "### **Question:**\n",
        "Write a for loop that iterates over a list of strings, tokens, and counts how many of them are XML tags. \n",
        "\n",
        "> XML is a data language similar to HTML. You can tell if a string is an XML tag if it begins with a left angle bracket \"<\" and ends with a right angle bracket \">\". \n",
        "\n",
        "Keep track of the number of tags using the variable count.\n",
        "\n",
        "You can assume that the list of strings will not contain empty strings."
      ]
    },
    {
      "cell_type": "code",
      "metadata": {
        "colab": {
          "base_uri": "https://localhost:8080/"
        },
        "id": "PEvw8Vvjwod4",
        "outputId": "f85fe836-c538-46ca-a3e7-dfdc19a7269a"
      },
      "source": [
        "tokens = ['<greeting>', 'Hello World!', '</greeting>']\n",
        "count = 0\n",
        "\n",
        "# write your for loop here\n",
        "for token in tokens :\n",
        "  if (token.startswith('<') and token.endswith('>')) :\n",
        "    count += 1\n",
        "\n",
        "print(count)"
      ],
      "execution_count": 20,
      "outputs": [
        {
          "output_type": "stream",
          "name": "stdout",
          "text": [
            "2\n"
          ]
        }
      ]
    },
    {
      "cell_type": "markdown",
      "metadata": {
        "id": "EiQefGIbxeAW"
      },
      "source": [
        "### **Question:**\n",
        "Write some code, including a for loop, that iterates over a list of strings and creates a single string, html_str, which is an HTML list. For example, if the list is items = ['first string', 'second string'], printing html_str should output:\n",
        "```\n",
        "<ul>\n",
        "<li>first string</li>\n",
        "<li>second string</li>\n",
        "</ul>\n",
        "```\n",
        "That is, the string's first line should be the opening tag ```<ul>```. Following that is one line per element in the source list, surrounded by ```<li>``` and ```</li>``` tags. The final line of the string should be the closing tag ```</ul>```."
      ]
    },
    {
      "cell_type": "code",
      "metadata": {
        "colab": {
          "base_uri": "https://localhost:8080/"
        },
        "id": "q7u8UhPFxe4U",
        "outputId": "a39fd861-fb0c-451d-ef8d-93318592a00e"
      },
      "source": [
        "items = ['first string', 'second string']\n",
        "html_str = \"<ul>\\n\"  # \"\\ n\" is the character that marks the end of the line, it does\n",
        "                     # the characters that are after it in html_str are on the next line\n",
        "\n",
        "# write your code here\n",
        "for item in items :\n",
        "  html_str += \"<li>\" + item + \"</li>\\n\"\n",
        "\n",
        "html_str += \"</ul>\"\n",
        "\n",
        "print(html_str)"
      ],
      "execution_count": 25,
      "outputs": [
        {
          "output_type": "stream",
          "name": "stdout",
          "text": [
            "<ul>\n",
            "<li>first string</li>\n",
            "<li>second string</li>\n",
            "</ul>\n"
          ]
        }
      ]
    },
    {
      "cell_type": "markdown",
      "metadata": {
        "id": "zoW7hHDvzdI_"
      },
      "source": [
        "#**Iterating through Dictionaries with For Loop**\n",
        "\n",
        "###**Ouestion:**\n",
        "You would like to count the number of fruits in your basket. In order to do this, you have the following dictionary and list of fruits. Use the dictionary and list to count the total number of fruits, but you do not want to count the other items in your basket."
      ]
    },
    {
      "cell_type": "code",
      "metadata": {
        "colab": {
          "base_uri": "https://localhost:8080/"
        },
        "id": "F8RHbSxxznIN",
        "outputId": "4dede2d7-0984-44da-e061-b3791039ec15"
      },
      "source": [
        "result = 0\n",
        "basket_items = {'apples': 4, 'oranges': 19, 'kites': 3, 'sandwiches': 8}\n",
        "fruits = ['apples', 'oranges', 'pears', 'peaches', 'grapes', 'bananas']\n",
        "\n",
        "#Iterate through the dictionary\n",
        "for (key, value) in basket_items.items() :\n",
        "#if the key is in the list of fruits, add the value (number of fruits) to result\n",
        "  if key in fruits :\n",
        "    result += 1\n",
        "\n",
        "\n",
        "print(result)"
      ],
      "execution_count": 29,
      "outputs": [
        {
          "output_type": "stream",
          "name": "stdout",
          "text": [
            "2\n"
          ]
        }
      ]
    },
    {
      "cell_type": "markdown",
      "metadata": {
        "id": "vKfaxLa71coI"
      },
      "source": [
        "#**While Loops**\n",
        "\n",
        "###**Question:**\n",
        "Find the factorial of a number using a while loop.\n",
        "\n",
        "A factorial of a whole number is that number multiplied by every whole number between itself and 1. For example, 6 factorial (written \"6!\") equals 6 x 5 x 4 x 3 x 2 x 1 = 720. So 6! = 720.\n",
        "\n",
        "We can write a while loop to take any given number and figure out what its factorial is.\n",
        "\n",
        "Example: If number is 6, your code should compute and print the product, 720."
      ]
    },
    {
      "cell_type": "code",
      "metadata": {
        "colab": {
          "base_uri": "https://localhost:8080/"
        },
        "id": "FZDjqjbe1kb7",
        "outputId": "39f17a77-c5c0-43ae-c917-4f6f1f37dd74"
      },
      "source": [
        "# number to find the factorial of\n",
        "number = 6   \n",
        "\n",
        "# start with our product equal to one\n",
        "product = 1\n",
        "\n",
        "# track the current number being multiplied\n",
        "current = 1\n",
        "\n",
        "# write your while loop here\n",
        "while current <= number :\n",
        "    # multiply the product so far by the current number\n",
        "    product *= current\n",
        "    \n",
        "    # increment current with each iteration until it reaches number\n",
        "    current += 1\n",
        "\n",
        "\n",
        "# print the factorial of number\n",
        "print(product)"
      ],
      "execution_count": 30,
      "outputs": [
        {
          "output_type": "stream",
          "name": "stdout",
          "text": [
            "720\n"
          ]
        }
      ]
    },
    {
      "cell_type": "markdown",
      "metadata": {
        "id": "7HnUMjCf2Qvo"
      },
      "source": [
        "### **Question:**\n",
        "Now use a for loop to find the factorial!\n",
        "\n",
        "It will now be great practice for you to try to revise the code you wrote above to find the factorial of a number, but this time, using a for loop. Try it in the code editor below!"
      ]
    },
    {
      "cell_type": "code",
      "metadata": {
        "colab": {
          "base_uri": "https://localhost:8080/"
        },
        "id": "pIj0cjLW2VHF",
        "outputId": "f3683641-4bdf-4619-aafc-33aa597183cf"
      },
      "source": [
        "# number to find the factorial of\n",
        "number = 6   \n",
        "\n",
        "# start with our product equal to one\n",
        "product = 1\n",
        "\n",
        "# write your for loop here\n",
        "for current in range(1, number+1) :\n",
        "  product *= current\n",
        "\n",
        "\n",
        "# print the factorial of number\n",
        "print(product)"
      ],
      "execution_count": 33,
      "outputs": [
        {
          "output_type": "stream",
          "name": "stdout",
          "text": [
            "720\n"
          ]
        }
      ]
    },
    {
      "cell_type": "markdown",
      "metadata": {
        "id": "AorqOb-e3dof"
      },
      "source": [
        "###**Question:**\n",
        "Suppose you want to count from some number start_num by another number count_by until you hit a final number end_num. Use break_num as the variable that you'll change each time through the loop. For simplicity, assume that end_num is always larger than start_num and count_by is always positive.\n",
        "<br>\n",
        "<br>\n",
        "\n",
        "Before the loop, what do you want to set break_num equal to? How do you want to change break_num each time through the loop? What condition will you use to see when it's time to stop looping?\n",
        "<br>\n",
        "<br>\n",
        "After the loop is done, print out break_num, showing the value that indicated it was time to stop looping. It is the case that break_num should be a number that is the first number larger than end_num.\n",
        "<br>\n",
        "<br>"
      ]
    },
    {
      "cell_type": "code",
      "metadata": {
        "colab": {
          "base_uri": "https://localhost:8080/"
        },
        "id": "yecf7soQ3hMF",
        "outputId": "9268514d-bcd3-4db1-c44b-8c13486afde0"
      },
      "source": [
        "start_num = 5\n",
        "end_num = 30\n",
        "count_by = 3\n",
        "\n",
        "break_num = 7\n",
        "# write a while loop that uses break_num as the ongoing number to \n",
        "#   check against end_num\n",
        "while break_num <= end_num :\n",
        "  break_num += count_by\n",
        "\n",
        "print(break_num)"
      ],
      "execution_count": 34,
      "outputs": [
        {
          "output_type": "stream",
          "name": "stdout",
          "text": [
            "31\n"
          ]
        }
      ]
    },
    {
      "cell_type": "markdown",
      "metadata": {
        "id": "AocXx3YQ47t2"
      },
      "source": [
        "#**Break and Continue**\n",
        "\n",
        "###**Question:**\n",
        "\n",
        "Write a loop with a break statement to create a string, news_ticker, that is exactly 140 characters long. You should create the news ticker by adding headlines from the headlines list, inserting a space in between each headline. If necessary, truncate the last headline in the middle so that news_ticker is exactly 140 characters long.\n",
        "\n",
        "> Remember that break works in both for and while loops. Use whichever loop seems most appropriate. Consider adding print statements to your code to help you resolve bugs."
      ]
    },
    {
      "cell_type": "code",
      "metadata": {
        "colab": {
          "base_uri": "https://localhost:8080/"
        },
        "id": "NqgslE1b5D9K",
        "outputId": "3912c1e7-1a8a-4070-86cc-c61734bc204a"
      },
      "source": [
        "headlines = [\"Local Bear Eaten by Man\",\n",
        "             \"Legislature Announces New Laws\",\n",
        "             \"Peasant Discovers Violence Inherent in System\",\n",
        "             \"Cat Rescues Fireman Stuck in Tree\",\n",
        "             \"Brave Knight Runs Away\",\n",
        "             \"Papperbok Review: Totally Triffic\"]\n",
        "\n",
        "news_ticker = \"\"\n",
        "# write your loop here\n",
        "for line in headlines :\n",
        "  if (len(news_ticker) + len(line)) < 140 :\n",
        "    news_ticker += line + \" \"\n",
        "\n",
        "  elif len(news_ticker) == 140 :\n",
        "    break\n",
        "\n",
        "  else :\n",
        "    news_ticker += line[:140-len(news_ticker)]\n",
        "\n",
        "print(len(news_ticker))\n",
        "print(news_ticker)"
      ],
      "execution_count": 66,
      "outputs": [
        {
          "output_type": "stream",
          "name": "stdout",
          "text": [
            "140\n",
            "Local Bear Eaten by Man Legislature Announces New Laws Peasant Discovers Violence Inherent in System Cat Rescues Fireman Stuck in Tree Brave\n"
          ]
        }
      ]
    },
    {
      "cell_type": "markdown",
      "metadata": {
        "id": "Si_eUjLVGSL0"
      },
      "source": [
        "#**Zip and Enumerate**\n",
        "\n",
        "###**Question:**\n",
        "\n",
        "Use zip to write a for loop that creates a string specifying the label and coordinates of each point and appends it to the list points. Each string should be formatted as ``` label: x, y, z ``` . For example, the string for the first coordinate should be ```F: 23, 677, 4```."
      ]
    },
    {
      "cell_type": "code",
      "metadata": {
        "colab": {
          "base_uri": "https://localhost:8080/"
        },
        "id": "dop67dfSGcT5",
        "outputId": "0204725b-fd1b-4073-dbaf-8a2105b32701"
      },
      "source": [
        "x_coord = [23, 53, 2, -12, 95, 103, 14, -5]\n",
        "y_coord = [677, 233, 405, 433, 905, 376, 432, 445]\n",
        "z_coord = [4, 16, -6, -42, 3, -6, 23, -1]\n",
        "labels = [\"F\", \"J\", \"A\", \"Q\", \"Y\", \"B\", \"W\", \"X\"]\n",
        "\n",
        "points = []\n",
        "# write your for loop here\n",
        "for label, x, y, z in zip(labels, x_coord, y_coord, z_coord) :\n",
        "  points.append(\"{}: {}, {}, {}\".format(label, x, y, z))\n",
        "\n",
        "for point in points:\n",
        "    print(point)"
      ],
      "execution_count": 83,
      "outputs": [
        {
          "output_type": "stream",
          "name": "stdout",
          "text": [
            "F: 23, 677, 4\n",
            "J: 53, 233, 16\n",
            "A: 2, 405, -6\n",
            "Q: -12, 433, -42\n",
            "Y: 95, 905, 3\n",
            "B: 103, 376, -6\n",
            "W: 14, 432, 23\n",
            "X: -5, 445, -1\n"
          ]
        }
      ]
    },
    {
      "cell_type": "markdown",
      "metadata": {
        "id": "4KcbfEdcXL1K"
      },
      "source": [
        "###**Question:**\n",
        "\n",
        "Use zip to create a dictionary cast that uses names as keys and heights as values.\n"
      ]
    },
    {
      "cell_type": "code",
      "metadata": {
        "colab": {
          "base_uri": "https://localhost:8080/"
        },
        "id": "t9XkiXllXPJA",
        "outputId": "8d8c6e89-ad50-45be-8174-d6e2d5ca24de"
      },
      "source": [
        "cast_names = [\"Joey Tribbiani\", \"Monica Geller\", \"Chandler Bing\", \n",
        "              \"Ross Geller\", \"Phoebe Buffay\"]\n",
        "\n",
        "cast_heights = [172, 168, 172, 166, 170]\n",
        "\n",
        "cast = dict(zip(cast_names, cast_heights))    # dict(zip(key, value))\n",
        "print(cast)"
      ],
      "execution_count": 85,
      "outputs": [
        {
          "output_type": "stream",
          "name": "stdout",
          "text": [
            "{'Joey Tribbiani': 172, 'Monica Geller': 168, 'Chandler Bing': 172, 'Ross Geller': 166, 'Phoebe Buffay': 170}\n"
          ]
        }
      ]
    },
    {
      "cell_type": "markdown",
      "metadata": {
        "id": "8rgZvLGKYUdN"
      },
      "source": [
        "###**Question:**\n",
        "\n",
        "Use zip to transpose data from a 4-by-3 matrix to a 3-by-4 matrix. "
      ]
    },
    {
      "cell_type": "code",
      "metadata": {
        "colab": {
          "base_uri": "https://localhost:8080/"
        },
        "id": "b5zkVTOgYjfh",
        "outputId": "a2001665-5434-45b5-db91-bf939f033b35"
      },
      "source": [
        "data = ((0, 1, 2), (3, 4, 5), (6, 7, 8), (9, 10, 11))\n",
        "\n",
        "data_transpose = list(zip(*data))\n",
        "print(data_transpose)"
      ],
      "execution_count": 87,
      "outputs": [
        {
          "output_type": "stream",
          "name": "stdout",
          "text": [
            "[(0, 3, 6, 9), (1, 4, 7, 10), (2, 5, 8, 11)]\n"
          ]
        }
      ]
    },
    {
      "cell_type": "markdown",
      "metadata": {
        "id": "8dyokTkhZVMC"
      },
      "source": [
        "###**Question:**\n",
        "\n",
        "Use enumerate to modify the cast list so that each element contains the name followed by the character's corresponding income in $ 1000. For example, the first element of cast should change from \"Barney Stinson\" to \"Barney Stinson 150\"."
      ]
    },
    {
      "cell_type": "code",
      "metadata": {
        "colab": {
          "base_uri": "https://localhost:8080/"
        },
        "id": "sVYuCI3eZadQ",
        "outputId": "b27405fd-42ea-403c-e86a-e863d4ec1dab"
      },
      "source": [
        "cast = [\"Barney Stinson\", \"Robin Scherbatsky\", \"Ted Mosby\", \n",
        "        \"Lily Aldrin\", \"Marshall Eriksen\"]\n",
        "heights = [150, 100, 40, 0, 80]\n",
        "\n",
        "# write your for loop here\n",
        "for i, height in enumerate(heights) :\n",
        "  cast[i] += \" \" + str(height)\n",
        "\n",
        "print(cast)"
      ],
      "execution_count": 91,
      "outputs": [
        {
          "output_type": "stream",
          "name": "stdout",
          "text": [
            "['Barney Stinson 150', 'Robin Scherbatsky 100', 'Ted Mosby 40', 'Lily Aldrin 0', 'Marshall Eriksen 80']\n"
          ]
        }
      ]
    },
    {
      "cell_type": "markdown",
      "metadata": {
        "id": "zGaNKoNEbT8l"
      },
      "source": [
        "#**List Comprehensions**\n",
        "\n",
        "###**Question:**\n",
        "\n",
        "Use a list comprehension to create a new list first_names containing just the first names in names in lowercase."
      ]
    },
    {
      "cell_type": "code",
      "metadata": {
        "colab": {
          "base_uri": "https://localhost:8080/"
        },
        "id": "QnQfMWUQcZ83",
        "outputId": "0a3d9817-740e-4355-f6c8-dbbc2a8a8d9e"
      },
      "source": [
        "names = [\"Barney Stinson\", \"Robin Scherbatsky\", \"Ted Mosby\", \n",
        "        \"Lily Aldrin\", \"Marshall Eriksen\"]\n",
        "\n",
        "first_names = [name.split()[0].lower() for name in names]   # split()[0] gives the first element in the list that is made by splitting the string\n",
        "print(first_names)"
      ],
      "execution_count": 95,
      "outputs": [
        {
          "output_type": "stream",
          "name": "stdout",
          "text": [
            "['barney', 'robin', 'ted', 'lily', 'marshall']\n"
          ]
        }
      ]
    },
    {
      "cell_type": "markdown",
      "metadata": {
        "id": "F-CRHz7tePxN"
      },
      "source": [
        "###**Question:**\n",
        "\n",
        "Use a list comprehension to create a list multiples_3 containing the first 20 multiples of 3."
      ]
    },
    {
      "cell_type": "code",
      "metadata": {
        "colab": {
          "base_uri": "https://localhost:8080/"
        },
        "id": "l0F8te31eT5w",
        "outputId": "adb0e678-6dd5-4af6-dc4c-96be89003e60"
      },
      "source": [
        "multiples_3 = [i for i in range(1, 61) if i % 3 == 0]\n",
        "print(multiples_3)"
      ],
      "execution_count": 102,
      "outputs": [
        {
          "output_type": "stream",
          "name": "stdout",
          "text": [
            "[3, 6, 9, 12, 15, 18, 21, 24, 27, 30, 33, 36, 39, 42, 45, 48, 51, 54, 57, 60]\n"
          ]
        }
      ]
    },
    {
      "cell_type": "markdown",
      "metadata": {
        "id": "iFssXYMrijMx"
      },
      "source": [
        "###**Question:**\n",
        "Use a list comprehension to create a list of names passed that only include those that scored at least 65."
      ]
    },
    {
      "cell_type": "code",
      "metadata": {
        "colab": {
          "base_uri": "https://localhost:8080/"
        },
        "id": "7oAmg9s3ingJ",
        "outputId": "4899b510-728a-4c5f-ddd8-439656dab001"
      },
      "source": [
        "scores = {\n",
        "             \"Deku\": 70,\n",
        "             \"Bakugo\": 35,\n",
        "             \"Tenya\": 82,\n",
        "             \"Shoto\": 23,\n",
        "             \"All Might\": 98\n",
        "          }\n",
        "\n",
        "passed = [key for (key, value) in scores.items() if value >= 65]\n",
        "print(passed)"
      ],
      "execution_count": 104,
      "outputs": [
        {
          "output_type": "stream",
          "name": "stdout",
          "text": [
            "['Deku', 'Tenya', 'All Might']\n"
          ]
        }
      ]
    }
  ]
}