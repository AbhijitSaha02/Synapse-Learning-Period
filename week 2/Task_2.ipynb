{
  "nbformat": 4,
  "nbformat_minor": 0,
  "metadata": {
    "colab": {
      "name": "SynapseTask2.ipynb",
      "provenance": [],
      "collapsed_sections": []
    },
    "kernelspec": {
      "display_name": "Python 3",
      "name": "python3"
    },
    "language_info": {
      "name": "python"
    }
  },
  "cells": [
    {
      "cell_type": "markdown",
      "metadata": {
        "id": "BpvJOb8y9gNY"
      },
      "source": [
        "# Task 2"
      ]
    },
    {
      "cell_type": "code",
      "metadata": {
        "colab": {
          "base_uri": "https://localhost:8080/"
        },
        "id": "gkYeeMiK9cHA",
        "outputId": "e4267970-a8b5-4993-99a9-08cc2250c9b0"
      },
      "source": [
        "from google.colab import drive\n",
        "drive.mount(\"/content/gdrive\")"
      ],
      "execution_count": 145,
      "outputs": [
        {
          "output_type": "stream",
          "name": "stdout",
          "text": [
            "Drive already mounted at /content/gdrive; to attempt to forcibly remount, call drive.mount(\"/content/gdrive\", force_remount=True).\n"
          ]
        }
      ]
    },
    {
      "cell_type": "markdown",
      "metadata": {
        "id": "ojM8HaxU-MMl"
      },
      "source": [
        "# 1)  Linear Regression on Housing Price"
      ]
    },
    {
      "cell_type": "markdown",
      "metadata": {
        "id": "fe44PPjb-Vcb"
      },
      "source": [
        "### Import packages and dataset"
      ]
    },
    {
      "cell_type": "code",
      "metadata": {
        "id": "mBVLB2PB-Yw8"
      },
      "source": [
        "# import numpy, pandas, matplotlib, seaborn\n",
        "# add code here\n",
        "\n",
        "import numpy as np\n",
        "import pandas as pd\n",
        "import matplotlib.pyplot as plt\n",
        "import seaborn as sns\n",
        "\n",
        "%matplotlib inline"
      ],
      "execution_count": 146,
      "outputs": []
    },
    {
      "cell_type": "markdown",
      "metadata": {
        "id": "4Seko9-k-gQq"
      },
      "source": [
        "**Read housing_data.csv using pandas and call head() to show first few records.**"
      ]
    },
    {
      "cell_type": "code",
      "metadata": {
        "colab": {
          "base_uri": "https://localhost:8080/",
          "height": 304
        },
        "id": "TnIIaagY-hKj",
        "outputId": "41e94242-9714-4cbc-ade3-379978aa44bb"
      },
      "source": [
        "# add code here\n",
        "\n",
        "housing_path = \"/content/gdrive/MyDrive/synapse_w2/housing_data.csv\"\n",
        "\n",
        "housing_df = pd.read_csv(housing_path)\n",
        "housing_df.head()"
      ],
      "execution_count": 147,
      "outputs": [
        {
          "output_type": "execute_result",
          "data": {
            "text/html": [
              "<div>\n",
              "<style scoped>\n",
              "    .dataframe tbody tr th:only-of-type {\n",
              "        vertical-align: middle;\n",
              "    }\n",
              "\n",
              "    .dataframe tbody tr th {\n",
              "        vertical-align: top;\n",
              "    }\n",
              "\n",
              "    .dataframe thead th {\n",
              "        text-align: right;\n",
              "    }\n",
              "</style>\n",
              "<table border=\"1\" class=\"dataframe\">\n",
              "  <thead>\n",
              "    <tr style=\"text-align: right;\">\n",
              "      <th></th>\n",
              "      <th>Avg. Area Income</th>\n",
              "      <th>Avg. Area House Age</th>\n",
              "      <th>Avg. Area Number of Rooms</th>\n",
              "      <th>Avg. Area Number of Bedrooms</th>\n",
              "      <th>Area Population</th>\n",
              "      <th>Price</th>\n",
              "      <th>Address</th>\n",
              "    </tr>\n",
              "  </thead>\n",
              "  <tbody>\n",
              "    <tr>\n",
              "      <th>0</th>\n",
              "      <td>79545.458574</td>\n",
              "      <td>5.682861</td>\n",
              "      <td>7.009188</td>\n",
              "      <td>4.09</td>\n",
              "      <td>23086.800503</td>\n",
              "      <td>1.059034e+06</td>\n",
              "      <td>208 Michael Ferry Apt. 674\\nLaurabury, NE 3701...</td>\n",
              "    </tr>\n",
              "    <tr>\n",
              "      <th>1</th>\n",
              "      <td>79248.642455</td>\n",
              "      <td>6.002900</td>\n",
              "      <td>6.730821</td>\n",
              "      <td>3.09</td>\n",
              "      <td>40173.072174</td>\n",
              "      <td>1.505891e+06</td>\n",
              "      <td>188 Johnson Views Suite 079\\nLake Kathleen, CA...</td>\n",
              "    </tr>\n",
              "    <tr>\n",
              "      <th>2</th>\n",
              "      <td>61287.067179</td>\n",
              "      <td>5.865890</td>\n",
              "      <td>8.512727</td>\n",
              "      <td>5.13</td>\n",
              "      <td>36882.159400</td>\n",
              "      <td>1.058988e+06</td>\n",
              "      <td>9127 Elizabeth Stravenue\\nDanieltown, WI 06482...</td>\n",
              "    </tr>\n",
              "    <tr>\n",
              "      <th>3</th>\n",
              "      <td>63345.240046</td>\n",
              "      <td>7.188236</td>\n",
              "      <td>5.586729</td>\n",
              "      <td>3.26</td>\n",
              "      <td>34310.242831</td>\n",
              "      <td>1.260617e+06</td>\n",
              "      <td>USS Barnett\\nFPO AP 44820</td>\n",
              "    </tr>\n",
              "    <tr>\n",
              "      <th>4</th>\n",
              "      <td>59982.197226</td>\n",
              "      <td>5.040555</td>\n",
              "      <td>7.839388</td>\n",
              "      <td>4.23</td>\n",
              "      <td>26354.109472</td>\n",
              "      <td>6.309435e+05</td>\n",
              "      <td>USNS Raymond\\nFPO AE 09386</td>\n",
              "    </tr>\n",
              "  </tbody>\n",
              "</table>\n",
              "</div>"
            ],
            "text/plain": [
              "   Avg. Area Income  ...                                            Address\n",
              "0      79545.458574  ...  208 Michael Ferry Apt. 674\\nLaurabury, NE 3701...\n",
              "1      79248.642455  ...  188 Johnson Views Suite 079\\nLake Kathleen, CA...\n",
              "2      61287.067179  ...  9127 Elizabeth Stravenue\\nDanieltown, WI 06482...\n",
              "3      63345.240046  ...                          USS Barnett\\nFPO AP 44820\n",
              "4      59982.197226  ...                         USNS Raymond\\nFPO AE 09386\n",
              "\n",
              "[5 rows x 7 columns]"
            ]
          },
          "metadata": {},
          "execution_count": 147
        }
      ]
    },
    {
      "cell_type": "markdown",
      "metadata": {
        "id": "h0FxGOv0AZ2d"
      },
      "source": [
        "### Exloratory Data Analysis (EDA)"
      ]
    },
    {
      "cell_type": "markdown",
      "metadata": {
        "id": "X2d3MXVhAcmL"
      },
      "source": [
        "**'info()' method to check the data types and number**"
      ]
    },
    {
      "cell_type": "code",
      "metadata": {
        "colab": {
          "base_uri": "https://localhost:8080/"
        },
        "id": "3E976q51AP4V",
        "outputId": "8fe410ac-4014-4560-94e1-6bc7364af37b"
      },
      "source": [
        "# add code here\n",
        "\n",
        "housing_df.info()"
      ],
      "execution_count": 148,
      "outputs": [
        {
          "output_type": "stream",
          "name": "stdout",
          "text": [
            "<class 'pandas.core.frame.DataFrame'>\n",
            "RangeIndex: 5000 entries, 0 to 4999\n",
            "Data columns (total 7 columns):\n",
            " #   Column                        Non-Null Count  Dtype  \n",
            "---  ------                        --------------  -----  \n",
            " 0   Avg. Area Income              5000 non-null   float64\n",
            " 1   Avg. Area House Age           5000 non-null   float64\n",
            " 2   Avg. Area Number of Rooms     5000 non-null   float64\n",
            " 3   Avg. Area Number of Bedrooms  5000 non-null   float64\n",
            " 4   Area Population               5000 non-null   float64\n",
            " 5   Price                         5000 non-null   float64\n",
            " 6   Address                       5000 non-null   object \n",
            "dtypes: float64(6), object(1)\n",
            "memory usage: 273.6+ KB\n"
          ]
        }
      ]
    },
    {
      "cell_type": "markdown",
      "metadata": {
        "id": "SunRIphJBGE6"
      },
      "source": [
        "**Get the statistical summary of the data set**"
      ]
    },
    {
      "cell_type": "code",
      "metadata": {
        "colab": {
          "base_uri": "https://localhost:8080/",
          "height": 312
        },
        "id": "fnrWBuWiBJ-p",
        "outputId": "cee1924b-1807-45ac-988d-1d0596474776"
      },
      "source": [
        "# add code here\n",
        "\n",
        "housing_df.describe()"
      ],
      "execution_count": 149,
      "outputs": [
        {
          "output_type": "execute_result",
          "data": {
            "text/html": [
              "<div>\n",
              "<style scoped>\n",
              "    .dataframe tbody tr th:only-of-type {\n",
              "        vertical-align: middle;\n",
              "    }\n",
              "\n",
              "    .dataframe tbody tr th {\n",
              "        vertical-align: top;\n",
              "    }\n",
              "\n",
              "    .dataframe thead th {\n",
              "        text-align: right;\n",
              "    }\n",
              "</style>\n",
              "<table border=\"1\" class=\"dataframe\">\n",
              "  <thead>\n",
              "    <tr style=\"text-align: right;\">\n",
              "      <th></th>\n",
              "      <th>Avg. Area Income</th>\n",
              "      <th>Avg. Area House Age</th>\n",
              "      <th>Avg. Area Number of Rooms</th>\n",
              "      <th>Avg. Area Number of Bedrooms</th>\n",
              "      <th>Area Population</th>\n",
              "      <th>Price</th>\n",
              "    </tr>\n",
              "  </thead>\n",
              "  <tbody>\n",
              "    <tr>\n",
              "      <th>count</th>\n",
              "      <td>5000.000000</td>\n",
              "      <td>5000.000000</td>\n",
              "      <td>5000.000000</td>\n",
              "      <td>5000.000000</td>\n",
              "      <td>5000.000000</td>\n",
              "      <td>5.000000e+03</td>\n",
              "    </tr>\n",
              "    <tr>\n",
              "      <th>mean</th>\n",
              "      <td>68583.108984</td>\n",
              "      <td>5.977222</td>\n",
              "      <td>6.987792</td>\n",
              "      <td>3.981330</td>\n",
              "      <td>36163.516039</td>\n",
              "      <td>1.232073e+06</td>\n",
              "    </tr>\n",
              "    <tr>\n",
              "      <th>std</th>\n",
              "      <td>10657.991214</td>\n",
              "      <td>0.991456</td>\n",
              "      <td>1.005833</td>\n",
              "      <td>1.234137</td>\n",
              "      <td>9925.650114</td>\n",
              "      <td>3.531176e+05</td>\n",
              "    </tr>\n",
              "    <tr>\n",
              "      <th>min</th>\n",
              "      <td>17796.631190</td>\n",
              "      <td>2.644304</td>\n",
              "      <td>3.236194</td>\n",
              "      <td>2.000000</td>\n",
              "      <td>172.610686</td>\n",
              "      <td>1.593866e+04</td>\n",
              "    </tr>\n",
              "    <tr>\n",
              "      <th>25%</th>\n",
              "      <td>61480.562388</td>\n",
              "      <td>5.322283</td>\n",
              "      <td>6.299250</td>\n",
              "      <td>3.140000</td>\n",
              "      <td>29403.928702</td>\n",
              "      <td>9.975771e+05</td>\n",
              "    </tr>\n",
              "    <tr>\n",
              "      <th>50%</th>\n",
              "      <td>68804.286404</td>\n",
              "      <td>5.970429</td>\n",
              "      <td>7.002902</td>\n",
              "      <td>4.050000</td>\n",
              "      <td>36199.406689</td>\n",
              "      <td>1.232669e+06</td>\n",
              "    </tr>\n",
              "    <tr>\n",
              "      <th>75%</th>\n",
              "      <td>75783.338666</td>\n",
              "      <td>6.650808</td>\n",
              "      <td>7.665871</td>\n",
              "      <td>4.490000</td>\n",
              "      <td>42861.290769</td>\n",
              "      <td>1.471210e+06</td>\n",
              "    </tr>\n",
              "    <tr>\n",
              "      <th>max</th>\n",
              "      <td>107701.748378</td>\n",
              "      <td>9.519088</td>\n",
              "      <td>10.759588</td>\n",
              "      <td>6.500000</td>\n",
              "      <td>69621.713378</td>\n",
              "      <td>2.469066e+06</td>\n",
              "    </tr>\n",
              "  </tbody>\n",
              "</table>\n",
              "</div>"
            ],
            "text/plain": [
              "       Avg. Area Income  Avg. Area House Age  ...  Area Population         Price\n",
              "count       5000.000000          5000.000000  ...      5000.000000  5.000000e+03\n",
              "mean       68583.108984             5.977222  ...     36163.516039  1.232073e+06\n",
              "std        10657.991214             0.991456  ...      9925.650114  3.531176e+05\n",
              "min        17796.631190             2.644304  ...       172.610686  1.593866e+04\n",
              "25%        61480.562388             5.322283  ...     29403.928702  9.975771e+05\n",
              "50%        68804.286404             5.970429  ...     36199.406689  1.232669e+06\n",
              "75%        75783.338666             6.650808  ...     42861.290769  1.471210e+06\n",
              "max       107701.748378             9.519088  ...     69621.713378  2.469066e+06\n",
              "\n",
              "[8 rows x 6 columns]"
            ]
          },
          "metadata": {},
          "execution_count": 149
        }
      ]
    },
    {
      "cell_type": "markdown",
      "metadata": {
        "id": "AX2EKQ0VBTcC"
      },
      "source": [
        "**Print the names of the columns(features)**"
      ]
    },
    {
      "cell_type": "code",
      "metadata": {
        "colab": {
          "base_uri": "https://localhost:8080/"
        },
        "id": "TpdCXol3BV5j",
        "outputId": "5385cbe8-96ff-4d1e-b6a5-440d5aa79dfc"
      },
      "source": [
        "# add code here\n",
        "\n",
        "print('{}'.format('\\n'.join(housing_df.columns)))"
      ],
      "execution_count": 150,
      "outputs": [
        {
          "output_type": "stream",
          "name": "stdout",
          "text": [
            "Avg. Area Income\n",
            "Avg. Area House Age\n",
            "Avg. Area Number of Rooms\n",
            "Avg. Area Number of Bedrooms\n",
            "Area Population\n",
            "Price\n",
            "Address\n"
          ]
        }
      ]
    },
    {
      "cell_type": "markdown",
      "metadata": {
        "id": "RAZLREHXCJn5"
      },
      "source": [
        "### Basic plotting and visualization"
      ]
    },
    {
      "cell_type": "markdown",
      "metadata": {
        "id": "ppkyX-ZYCMDf"
      },
      "source": [
        "**The target quantity is price. Let us see its distribution.** <br>\n",
        "Plot a histogram of Price. Choose the number of bins by experimenting a little. (Expected: a bell curve shape)"
      ]
    },
    {
      "cell_type": "code",
      "metadata": {
        "colab": {
          "base_uri": "https://localhost:8080/",
          "height": 369
        },
        "id": "T9Swz8S0CPRI",
        "outputId": "18836e25-0b0f-4700-de83-31b2132112c1"
      },
      "source": [
        "# add code here\n",
        "\n",
        "fig, ax = plt.subplots(figsize = (8, 5))\n",
        "ax.hist(housing_df['Price'], bins = 'auto', color = 'orange',\n",
        "        edgecolor = 'green')\n",
        "ax.set_title('Price Histogram')\n",
        "ax.set_xlabel('Price')\n",
        "ax.set_ylabel('Density')\n",
        "plt.tight_layout()"
      ],
      "execution_count": 151,
      "outputs": [
        {
          "output_type": "display_data",
          "data": {
            "image/png": "[encoded data removed]",
            "text/plain": [
              "<Figure size 576x360 with 1 Axes>"
            ]
          },
          "metadata": {
            "needs_background": "light"
          }
        }
      ]
    },
    {
      "cell_type": "markdown",
      "metadata": {
        "id": "3-sUEI67JkJq"
      },
      "source": [
        "**Let us see how the different features are correlated with each other by printing a Correlation Matrix**"
      ]
    },
    {
      "cell_type": "code",
      "metadata": {
        "colab": {
          "base_uri": "https://localhost:8080/",
          "height": 284
        },
        "id": "b21eWpiAJswX",
        "outputId": "8157f407-0b4b-404c-cc57-812d6ef6c97a"
      },
      "source": [
        "# add code here\n",
        "\n",
        "housing_df.corr()"
      ],
      "execution_count": 152,
      "outputs": [
        {
          "output_type": "execute_result",
          "data": {
            "text/html": [
              "<div>\n",
              "<style scoped>\n",
              "    .dataframe tbody tr th:only-of-type {\n",
              "        vertical-align: middle;\n",
              "    }\n",
              "\n",
              "    .dataframe tbody tr th {\n",
              "        vertical-align: top;\n",
              "    }\n",
              "\n",
              "    .dataframe thead th {\n",
              "        text-align: right;\n",
              "    }\n",
              "</style>\n",
              "<table border=\"1\" class=\"dataframe\">\n",
              "  <thead>\n",
              "    <tr style=\"text-align: right;\">\n",
              "      <th></th>\n",
              "      <th>Avg. Area Income</th>\n",
              "      <th>Avg. Area House Age</th>\n",
              "      <th>Avg. Area Number of Rooms</th>\n",
              "      <th>Avg. Area Number of Bedrooms</th>\n",
              "      <th>Area Population</th>\n",
              "      <th>Price</th>\n",
              "    </tr>\n",
              "  </thead>\n",
              "  <tbody>\n",
              "    <tr>\n",
              "      <th>Avg. Area Income</th>\n",
              "      <td>1.000000</td>\n",
              "      <td>-0.002007</td>\n",
              "      <td>-0.011032</td>\n",
              "      <td>0.019788</td>\n",
              "      <td>-0.016234</td>\n",
              "      <td>0.639734</td>\n",
              "    </tr>\n",
              "    <tr>\n",
              "      <th>Avg. Area House Age</th>\n",
              "      <td>-0.002007</td>\n",
              "      <td>1.000000</td>\n",
              "      <td>-0.009428</td>\n",
              "      <td>0.006149</td>\n",
              "      <td>-0.018743</td>\n",
              "      <td>0.452543</td>\n",
              "    </tr>\n",
              "    <tr>\n",
              "      <th>Avg. Area Number of Rooms</th>\n",
              "      <td>-0.011032</td>\n",
              "      <td>-0.009428</td>\n",
              "      <td>1.000000</td>\n",
              "      <td>0.462695</td>\n",
              "      <td>0.002040</td>\n",
              "      <td>0.335664</td>\n",
              "    </tr>\n",
              "    <tr>\n",
              "      <th>Avg. Area Number of Bedrooms</th>\n",
              "      <td>0.019788</td>\n",
              "      <td>0.006149</td>\n",
              "      <td>0.462695</td>\n",
              "      <td>1.000000</td>\n",
              "      <td>-0.022168</td>\n",
              "      <td>0.171071</td>\n",
              "    </tr>\n",
              "    <tr>\n",
              "      <th>Area Population</th>\n",
              "      <td>-0.016234</td>\n",
              "      <td>-0.018743</td>\n",
              "      <td>0.002040</td>\n",
              "      <td>-0.022168</td>\n",
              "      <td>1.000000</td>\n",
              "      <td>0.408556</td>\n",
              "    </tr>\n",
              "    <tr>\n",
              "      <th>Price</th>\n",
              "      <td>0.639734</td>\n",
              "      <td>0.452543</td>\n",
              "      <td>0.335664</td>\n",
              "      <td>0.171071</td>\n",
              "      <td>0.408556</td>\n",
              "      <td>1.000000</td>\n",
              "    </tr>\n",
              "  </tbody>\n",
              "</table>\n",
              "</div>"
            ],
            "text/plain": [
              "                              Avg. Area Income  ...     Price\n",
              "Avg. Area Income                      1.000000  ...  0.639734\n",
              "Avg. Area House Age                  -0.002007  ...  0.452543\n",
              "Avg. Area Number of Rooms            -0.011032  ...  0.335664\n",
              "Avg. Area Number of Bedrooms          0.019788  ...  0.171071\n",
              "Area Population                      -0.016234  ...  0.408556\n",
              "Price                                 0.639734  ...  1.000000\n",
              "\n",
              "[6 rows x 6 columns]"
            ]
          },
          "metadata": {},
          "execution_count": 152
        }
      ]
    },
    {
      "cell_type": "markdown",
      "metadata": {
        "id": "kHSxcoJuKKzN"
      },
      "source": [
        "### Feature and variable sets"
      ]
    },
    {
      "cell_type": "markdown",
      "metadata": {
        "id": "3Hv9NbUdKL6J"
      },
      "source": [
        "**Make a list of data frame column names**<br>\n",
        "**Create a new dataframe containing all the numerical training features(note that Address is a string so ignore that) and store it in a variable called \"X\"**<br><br>\n",
        "**Then create a new dataframe containing the target (Price) and store it in a variable called \"y\"**"
      ]
    },
    {
      "cell_type": "code",
      "metadata": {
        "colab": {
          "base_uri": "https://localhost:8080/"
        },
        "id": "PW80SdW_KP8n",
        "outputId": "7a00404e-0aea-4a13-9a86-f47f727aaf21"
      },
      "source": [
        "# add code here\n",
        "# This code should print (5000, 5) and (5000,) if everything is correct\n",
        "\n",
        "column_names_housing = list(housing_df.columns)\n",
        "\n",
        "X = pd.DataFrame(housing_df).drop(['Price', 'Address'], axis = 1)\n",
        "\n",
        "y = pd.DataFrame(housing_df)['Price']\n",
        "\n",
        "print(X.shape, y.shape)"
      ],
      "execution_count": 153,
      "outputs": [
        {
          "output_type": "stream",
          "name": "stdout",
          "text": [
            "(5000, 5) (5000,)\n"
          ]
        }
      ]
    },
    {
      "cell_type": "code",
      "metadata": {
        "colab": {
          "base_uri": "https://localhost:8080/",
          "height": 357
        },
        "id": "RJAB0Bz0KSUt",
        "outputId": "42ad8f04-17d2-4516-e1fa-7c84ec6f3411"
      },
      "source": [
        "# print a few record of X\n",
        "# add code here\n",
        "\n",
        "X.head(10)"
      ],
      "execution_count": 154,
      "outputs": [
        {
          "output_type": "execute_result",
          "data": {
            "text/html": [
              "<div>\n",
              "<style scoped>\n",
              "    .dataframe tbody tr th:only-of-type {\n",
              "        vertical-align: middle;\n",
              "    }\n",
              "\n",
              "    .dataframe tbody tr th {\n",
              "        vertical-align: top;\n",
              "    }\n",
              "\n",
              "    .dataframe thead th {\n",
              "        text-align: right;\n",
              "    }\n",
              "</style>\n",
              "<table border=\"1\" class=\"dataframe\">\n",
              "  <thead>\n",
              "    <tr style=\"text-align: right;\">\n",
              "      <th></th>\n",
              "      <th>Avg. Area Income</th>\n",
              "      <th>Avg. Area House Age</th>\n",
              "      <th>Avg. Area Number of Rooms</th>\n",
              "      <th>Avg. Area Number of Bedrooms</th>\n",
              "      <th>Area Population</th>\n",
              "    </tr>\n",
              "  </thead>\n",
              "  <tbody>\n",
              "    <tr>\n",
              "      <th>0</th>\n",
              "      <td>79545.458574</td>\n",
              "      <td>5.682861</td>\n",
              "      <td>7.009188</td>\n",
              "      <td>4.09</td>\n",
              "      <td>23086.800503</td>\n",
              "    </tr>\n",
              "    <tr>\n",
              "      <th>1</th>\n",
              "      <td>79248.642455</td>\n",
              "      <td>6.002900</td>\n",
              "      <td>6.730821</td>\n",
              "      <td>3.09</td>\n",
              "      <td>40173.072174</td>\n",
              "    </tr>\n",
              "    <tr>\n",
              "      <th>2</th>\n",
              "      <td>61287.067179</td>\n",
              "      <td>5.865890</td>\n",
              "      <td>8.512727</td>\n",
              "      <td>5.13</td>\n",
              "      <td>36882.159400</td>\n",
              "    </tr>\n",
              "    <tr>\n",
              "      <th>3</th>\n",
              "      <td>63345.240046</td>\n",
              "      <td>7.188236</td>\n",
              "      <td>5.586729</td>\n",
              "      <td>3.26</td>\n",
              "      <td>34310.242831</td>\n",
              "    </tr>\n",
              "    <tr>\n",
              "      <th>4</th>\n",
              "      <td>59982.197226</td>\n",
              "      <td>5.040555</td>\n",
              "      <td>7.839388</td>\n",
              "      <td>4.23</td>\n",
              "      <td>26354.109472</td>\n",
              "    </tr>\n",
              "    <tr>\n",
              "      <th>5</th>\n",
              "      <td>80175.754159</td>\n",
              "      <td>4.988408</td>\n",
              "      <td>6.104512</td>\n",
              "      <td>4.04</td>\n",
              "      <td>26748.428425</td>\n",
              "    </tr>\n",
              "    <tr>\n",
              "      <th>6</th>\n",
              "      <td>64698.463428</td>\n",
              "      <td>6.025336</td>\n",
              "      <td>8.147760</td>\n",
              "      <td>3.41</td>\n",
              "      <td>60828.249085</td>\n",
              "    </tr>\n",
              "    <tr>\n",
              "      <th>7</th>\n",
              "      <td>78394.339278</td>\n",
              "      <td>6.989780</td>\n",
              "      <td>6.620478</td>\n",
              "      <td>2.42</td>\n",
              "      <td>36516.358972</td>\n",
              "    </tr>\n",
              "    <tr>\n",
              "      <th>8</th>\n",
              "      <td>59927.660813</td>\n",
              "      <td>5.362126</td>\n",
              "      <td>6.393121</td>\n",
              "      <td>2.30</td>\n",
              "      <td>29387.396003</td>\n",
              "    </tr>\n",
              "    <tr>\n",
              "      <th>9</th>\n",
              "      <td>81885.927184</td>\n",
              "      <td>4.423672</td>\n",
              "      <td>8.167688</td>\n",
              "      <td>6.10</td>\n",
              "      <td>40149.965749</td>\n",
              "    </tr>\n",
              "  </tbody>\n",
              "</table>\n",
              "</div>"
            ],
            "text/plain": [
              "   Avg. Area Income  ...  Area Population\n",
              "0      79545.458574  ...     23086.800503\n",
              "1      79248.642455  ...     40173.072174\n",
              "2      61287.067179  ...     36882.159400\n",
              "3      63345.240046  ...     34310.242831\n",
              "4      59982.197226  ...     26354.109472\n",
              "5      80175.754159  ...     26748.428425\n",
              "6      64698.463428  ...     60828.249085\n",
              "7      78394.339278  ...     36516.358972\n",
              "8      59927.660813  ...     29387.396003\n",
              "9      81885.927184  ...     40149.965749\n",
              "\n",
              "[10 rows x 5 columns]"
            ]
          },
          "metadata": {},
          "execution_count": 154
        }
      ]
    },
    {
      "cell_type": "code",
      "metadata": {
        "colab": {
          "base_uri": "https://localhost:8080/"
        },
        "id": "iFf-hLefKZ3e",
        "outputId": "8d8a3ef1-0202-4e30-8f97-2e3de39ec55c"
      },
      "source": [
        "# print a few record of y\n",
        "# add code here\n",
        "\n",
        "y.head(10)"
      ],
      "execution_count": 155,
      "outputs": [
        {
          "output_type": "execute_result",
          "data": {
            "text/plain": [
              "0    1.059034e+06\n",
              "1    1.505891e+06\n",
              "2    1.058988e+06\n",
              "3    1.260617e+06\n",
              "4    6.309435e+05\n",
              "5    1.068138e+06\n",
              "6    1.502056e+06\n",
              "7    1.573937e+06\n",
              "8    7.988695e+05\n",
              "9    1.545155e+06\n",
              "Name: Price, dtype: float64"
            ]
          },
          "metadata": {},
          "execution_count": 155
        }
      ]
    },
    {
      "cell_type": "markdown",
      "metadata": {
        "id": "YCXbfiLFQYul"
      },
      "source": [
        "### Test-train split"
      ]
    },
    {
      "cell_type": "markdown",
      "metadata": {
        "id": "Yrh9W3c4Qfsd"
      },
      "source": [
        "**Import train_test_split function from scikit-learn**"
      ]
    },
    {
      "cell_type": "code",
      "metadata": {
        "id": "yHBW3-_DQgh6"
      },
      "source": [
        "# add code here\n",
        "\n",
        "from sklearn.model_selection import train_test_split"
      ],
      "execution_count": 156,
      "outputs": []
    },
    {
      "cell_type": "markdown",
      "metadata": {
        "id": "7ZQsjQhMQ4YK"
      },
      "source": [
        "**Create X and y train and test splits in one command using a test size of 0.3 and a random seed**<br>\n",
        "They should be called X_train, X_test, y_train, y_test"
      ]
    },
    {
      "cell_type": "code",
      "metadata": {
        "id": "geCr0J0bQ5f7"
      },
      "source": [
        "# add code here\n",
        "\n",
        "X_train, X_test, y_train, y_test = train_test_split(X, y, test_size = 0.3, \n",
        "                                                    random_state = 20212008)"
      ],
      "execution_count": 157,
      "outputs": []
    },
    {
      "cell_type": "markdown",
      "metadata": {
        "id": "DkUFyyXCT7Lw"
      },
      "source": [
        "**Print the size and shape of each of the train/test splits (it should be in the ratio as per test_size parameter above)**"
      ]
    },
    {
      "cell_type": "code",
      "metadata": {
        "colab": {
          "base_uri": "https://localhost:8080/"
        },
        "id": "WDGt3aF8T8Mm",
        "outputId": "20332779-17e8-4b83-fd05-78839050feea"
      },
      "source": [
        "# add code here\n",
        "\n",
        "print('The size of X_train is {} and X_test is {}'.format(X_train.size, X_test.size))\n",
        "print('The size of y_train is {} and y_test is {}'.format(y_train.size, y_test.size))\n",
        "print('The shape of X_train is {} and X_test is {}'.format(X_train.shape, X_test.shape))\n",
        "print('The shape of y_train is {} and y_test is {}'.format(y_train.shape, y_test.shape))"
      ],
      "execution_count": 158,
      "outputs": [
        {
          "output_type": "stream",
          "name": "stdout",
          "text": [
            "The size of X_train is 17500 and X_test is 7500\n",
            "The size of y_train is 3500 and y_test is 1500\n",
            "The shape of X_train is (3500, 5) and X_test is (1500, 5)\n",
            "The shape of y_train is (3500,) and y_test is (1500,)\n"
          ]
        }
      ]
    },
    {
      "cell_type": "markdown",
      "metadata": {
        "id": "5fAtwl6oVbm9"
      },
      "source": [
        "### Model fit and training"
      ]
    },
    {
      "cell_type": "markdown",
      "metadata": {
        "id": "uddPB8XmVe3T"
      },
      "source": [
        "**Import LinearRegression and metrics from scikit-learn**"
      ]
    },
    {
      "cell_type": "code",
      "metadata": {
        "colab": {
          "base_uri": "https://localhost:8080/"
        },
        "id": "664S6-StVjpy",
        "outputId": "4f789962-f366-4c40-9af9-c08366f0d097"
      },
      "source": [
        "# add code for imports here\n",
        "\n",
        "from sklearn.linear_model import LinearRegression\n",
        "import sklearn.metrics as skm\n",
        "\n",
        "# Create a Linear Regression object 'lm' by calling LinearRegression()\n",
        "# add code here\n",
        "lm = LinearRegression()\n",
        "lm"
      ],
      "execution_count": 159,
      "outputs": [
        {
          "output_type": "execute_result",
          "data": {
            "text/plain": [
              "LinearRegression(copy_X=True, fit_intercept=True, n_jobs=None, normalize=False)"
            ]
          },
          "metadata": {},
          "execution_count": 159
        }
      ]
    },
    {
      "cell_type": "markdown",
      "metadata": {
        "id": "KtauOdAVXrGm"
      },
      "source": [
        "**Fit the model on to the instantiated object itself using the X_train and y_train created earlier. No need to create another variable**"
      ]
    },
    {
      "cell_type": "code",
      "metadata": {
        "colab": {
          "base_uri": "https://localhost:8080/"
        },
        "id": "L9Xy2FGgXr6X",
        "outputId": "68ea4e84-e828-4191-8653-795dbec62d9f"
      },
      "source": [
        "# add code here\n",
        "lm.fit(X_train, y_train)"
      ],
      "execution_count": 160,
      "outputs": [
        {
          "output_type": "execute_result",
          "data": {
            "text/plain": [
              "LinearRegression(copy_X=True, fit_intercept=True, n_jobs=None, normalize=False)"
            ]
          },
          "metadata": {},
          "execution_count": 160
        }
      ]
    },
    {
      "cell_type": "markdown",
      "metadata": {
        "id": "9mQ4gIGTYmJx"
      },
      "source": [
        "### Prediction, error estimate, and regression evaluation matrices"
      ]
    },
    {
      "cell_type": "markdown",
      "metadata": {
        "id": "kdmdFsdTYpUU"
      },
      "source": [
        "**Prediction using the lm model**<br>\n",
        "Use model.predict() on X_test and store them in a variable called \"predictions\".<br>\n",
        "Print type and size of the predictions. Size should be (1500,) if everything is correct."
      ]
    },
    {
      "cell_type": "code",
      "metadata": {
        "colab": {
          "base_uri": "https://localhost:8080/"
        },
        "id": "JCPKetRfYtj6",
        "outputId": "27046311-1ba6-4047-b857-de9991c29e85"
      },
      "source": [
        "# add code here\n",
        "\n",
        "predictions = lm.predict(X_test)\n",
        "print(type(predictions))\n",
        "predictions.shape"
      ],
      "execution_count": 161,
      "outputs": [
        {
          "output_type": "stream",
          "name": "stdout",
          "text": [
            "<class 'numpy.ndarray'>\n"
          ]
        },
        {
          "output_type": "execute_result",
          "data": {
            "text/plain": [
              "(1500,)"
            ]
          },
          "metadata": {},
          "execution_count": 161
        }
      ]
    },
    {
      "cell_type": "markdown",
      "metadata": {
        "id": "40PLlq1P4_Z5"
      },
      "source": [
        "**Since we're done with our predictions, let's compare it with y_test and see how accurate our predictions are.<br> Plot a Scatter plot of predicted price and y_test set to see if the data fall on a 45 degree straight line**"
      ]
    },
    {
      "cell_type": "code",
      "metadata": {
        "colab": {
          "base_uri": "https://localhost:8080/",
          "height": 369
        },
        "id": "Jyrt1lEO5HqP",
        "outputId": "87f00df7-8bb0-4e1f-835e-cf18f353337e"
      },
      "source": [
        "# add code here\n",
        "\n",
        "fig, ax = plt.subplots(figsize = (10, 5))\n",
        "ax.scatter(predictions, y_test, color = 'green', edgecolors = 'red',\n",
        "           linewidths = 1)\n",
        "ax.set_title('Predictions V/s y_test')\n",
        "ax.set_xlabel('Prediction')\n",
        "ax.set_ylabel('y_test')\n",
        "plt.tight_layout()"
      ],
      "execution_count": 162,
      "outputs": [
        {
          "output_type": "display_data",
          "data": {
            "image/png": "[encoded data removed]",
            "text/plain": [
              "<Figure size 720x360 with 1 Axes>"
            ]
          },
          "metadata": {
            "needs_background": "light"
          }
        }
      ]
    },
    {
      "cell_type": "markdown",
      "metadata": {
        "id": "I13T4caS9--M"
      },
      "source": [
        "**Print the R-square value and round it to 3 decimal places**"
      ]
    },
    {
      "cell_type": "code",
      "metadata": {
        "colab": {
          "base_uri": "https://localhost:8080/"
        },
        "id": "YhrMLzVE7ic4",
        "outputId": "cae50c1e-9367-4d9e-dcd3-834d60c29186"
      },
      "source": [
        "# add code here\n",
        "\n",
        "R_square = round(skm.r2_score(predictions, y_test), 3)\n",
        "R_square"
      ],
      "execution_count": 163,
      "outputs": [
        {
          "output_type": "execute_result",
          "data": {
            "text/plain": [
              "0.913"
            ]
          },
          "metadata": {},
          "execution_count": 163
        }
      ]
    },
    {
      "cell_type": "markdown",
      "metadata": {
        "id": "SvfW6_c7BFzd"
      },
      "source": [
        "# 2) K-nearest neighbor Classification"
      ]
    },
    {
      "cell_type": "markdown",
      "metadata": {
        "id": "UVkj7j43BIbg"
      },
      "source": [
        "### Import packages and dataset"
      ]
    },
    {
      "cell_type": "code",
      "metadata": {
        "id": "1FFIURLgBLL-"
      },
      "source": [
        "# import numpy, pandas, matplotlib, seaborn\n",
        "# add code here\n",
        "\n",
        "import numpy as np\n",
        "import pandas as pd\n",
        "import matplotlib.pyplot as plt\n",
        "import seaborn as sns\n",
        "\n",
        "%matplotlib inline"
      ],
      "execution_count": 164,
      "outputs": []
    },
    {
      "cell_type": "markdown",
      "metadata": {
        "id": "vAQRHja9Bak3"
      },
      "source": [
        "**Read classified_data.txt using pandas and call head() to show first few records. Call this dataframe \"df\"**"
      ]
    },
    {
      "cell_type": "code",
      "metadata": {
        "colab": {
          "base_uri": "https://localhost:8080/",
          "height": 357
        },
        "id": "Fqzfvm1kBd-P",
        "outputId": "eb63e26a-de83-4b19-d4de-4b931d95fbcc"
      },
      "source": [
        "# add code here\n",
        "\n",
        "classified_path = \"/content/gdrive/MyDrive/synapse_w2/classified_data.txt\"\n",
        "\n",
        "df = pd.read_csv(classified_path)\n",
        "df.head(10)"
      ],
      "execution_count": 165,
      "outputs": [
        {
          "output_type": "execute_result",
          "data": {
            "text/html": [
              "<div>\n",
              "<style scoped>\n",
              "    .dataframe tbody tr th:only-of-type {\n",
              "        vertical-align: middle;\n",
              "    }\n",
              "\n",
              "    .dataframe tbody tr th {\n",
              "        vertical-align: top;\n",
              "    }\n",
              "\n",
              "    .dataframe thead th {\n",
              "        text-align: right;\n",
              "    }\n",
              "</style>\n",
              "<table border=\"1\" class=\"dataframe\">\n",
              "  <thead>\n",
              "    <tr style=\"text-align: right;\">\n",
              "      <th></th>\n",
              "      <th>Unnamed: 0</th>\n",
              "      <th>WTT</th>\n",
              "      <th>PTI</th>\n",
              "      <th>EQW</th>\n",
              "      <th>SBI</th>\n",
              "      <th>LQE</th>\n",
              "      <th>QWG</th>\n",
              "      <th>FDJ</th>\n",
              "      <th>PJF</th>\n",
              "      <th>HQE</th>\n",
              "      <th>NXJ</th>\n",
              "      <th>TARGET CLASS</th>\n",
              "    </tr>\n",
              "  </thead>\n",
              "  <tbody>\n",
              "    <tr>\n",
              "      <th>0</th>\n",
              "      <td>0</td>\n",
              "      <td>0.913917</td>\n",
              "      <td>1.162073</td>\n",
              "      <td>0.567946</td>\n",
              "      <td>0.755464</td>\n",
              "      <td>0.780862</td>\n",
              "      <td>0.352608</td>\n",
              "      <td>0.759697</td>\n",
              "      <td>0.643798</td>\n",
              "      <td>0.879422</td>\n",
              "      <td>1.231409</td>\n",
              "      <td>1</td>\n",
              "    </tr>\n",
              "    <tr>\n",
              "      <th>1</th>\n",
              "      <td>1</td>\n",
              "      <td>0.635632</td>\n",
              "      <td>1.003722</td>\n",
              "      <td>0.535342</td>\n",
              "      <td>0.825645</td>\n",
              "      <td>0.924109</td>\n",
              "      <td>0.648450</td>\n",
              "      <td>0.675334</td>\n",
              "      <td>1.013546</td>\n",
              "      <td>0.621552</td>\n",
              "      <td>1.492702</td>\n",
              "      <td>0</td>\n",
              "    </tr>\n",
              "    <tr>\n",
              "      <th>2</th>\n",
              "      <td>2</td>\n",
              "      <td>0.721360</td>\n",
              "      <td>1.201493</td>\n",
              "      <td>0.921990</td>\n",
              "      <td>0.855595</td>\n",
              "      <td>1.526629</td>\n",
              "      <td>0.720781</td>\n",
              "      <td>1.626351</td>\n",
              "      <td>1.154483</td>\n",
              "      <td>0.957877</td>\n",
              "      <td>1.285597</td>\n",
              "      <td>0</td>\n",
              "    </tr>\n",
              "    <tr>\n",
              "      <th>3</th>\n",
              "      <td>3</td>\n",
              "      <td>1.234204</td>\n",
              "      <td>1.386726</td>\n",
              "      <td>0.653046</td>\n",
              "      <td>0.825624</td>\n",
              "      <td>1.142504</td>\n",
              "      <td>0.875128</td>\n",
              "      <td>1.409708</td>\n",
              "      <td>1.380003</td>\n",
              "      <td>1.522692</td>\n",
              "      <td>1.153093</td>\n",
              "      <td>1</td>\n",
              "    </tr>\n",
              "    <tr>\n",
              "      <th>4</th>\n",
              "      <td>4</td>\n",
              "      <td>1.279491</td>\n",
              "      <td>0.949750</td>\n",
              "      <td>0.627280</td>\n",
              "      <td>0.668976</td>\n",
              "      <td>1.232537</td>\n",
              "      <td>0.703727</td>\n",
              "      <td>1.115596</td>\n",
              "      <td>0.646691</td>\n",
              "      <td>1.463812</td>\n",
              "      <td>1.419167</td>\n",
              "      <td>1</td>\n",
              "    </tr>\n",
              "    <tr>\n",
              "      <th>5</th>\n",
              "      <td>5</td>\n",
              "      <td>0.833928</td>\n",
              "      <td>1.523302</td>\n",
              "      <td>1.104743</td>\n",
              "      <td>1.021139</td>\n",
              "      <td>1.107377</td>\n",
              "      <td>1.010930</td>\n",
              "      <td>1.279538</td>\n",
              "      <td>1.280677</td>\n",
              "      <td>0.510350</td>\n",
              "      <td>1.528044</td>\n",
              "      <td>0</td>\n",
              "    </tr>\n",
              "    <tr>\n",
              "      <th>6</th>\n",
              "      <td>6</td>\n",
              "      <td>0.944705</td>\n",
              "      <td>1.251761</td>\n",
              "      <td>1.074885</td>\n",
              "      <td>0.286473</td>\n",
              "      <td>0.996440</td>\n",
              "      <td>0.428860</td>\n",
              "      <td>0.910805</td>\n",
              "      <td>0.755305</td>\n",
              "      <td>1.111800</td>\n",
              "      <td>1.110842</td>\n",
              "      <td>0</td>\n",
              "    </tr>\n",
              "    <tr>\n",
              "      <th>7</th>\n",
              "      <td>7</td>\n",
              "      <td>0.816174</td>\n",
              "      <td>1.088392</td>\n",
              "      <td>0.895343</td>\n",
              "      <td>0.243860</td>\n",
              "      <td>0.943123</td>\n",
              "      <td>1.045131</td>\n",
              "      <td>1.146536</td>\n",
              "      <td>1.341886</td>\n",
              "      <td>1.225324</td>\n",
              "      <td>1.425784</td>\n",
              "      <td>0</td>\n",
              "    </tr>\n",
              "    <tr>\n",
              "      <th>8</th>\n",
              "      <td>8</td>\n",
              "      <td>0.776551</td>\n",
              "      <td>1.463812</td>\n",
              "      <td>0.783825</td>\n",
              "      <td>0.337278</td>\n",
              "      <td>0.742215</td>\n",
              "      <td>1.072756</td>\n",
              "      <td>0.880300</td>\n",
              "      <td>1.312951</td>\n",
              "      <td>1.118165</td>\n",
              "      <td>1.225922</td>\n",
              "      <td>0</td>\n",
              "    </tr>\n",
              "    <tr>\n",
              "      <th>9</th>\n",
              "      <td>9</td>\n",
              "      <td>0.772280</td>\n",
              "      <td>0.515111</td>\n",
              "      <td>0.891596</td>\n",
              "      <td>0.940862</td>\n",
              "      <td>1.430568</td>\n",
              "      <td>0.885876</td>\n",
              "      <td>1.205231</td>\n",
              "      <td>0.596858</td>\n",
              "      <td>1.542580</td>\n",
              "      <td>0.981879</td>\n",
              "      <td>1</td>\n",
              "    </tr>\n",
              "  </tbody>\n",
              "</table>\n",
              "</div>"
            ],
            "text/plain": [
              "   Unnamed: 0       WTT       PTI  ...       HQE       NXJ  TARGET CLASS\n",
              "0           0  0.913917  1.162073  ...  0.879422  1.231409             1\n",
              "1           1  0.635632  1.003722  ...  0.621552  1.492702             0\n",
              "2           2  0.721360  1.201493  ...  0.957877  1.285597             0\n",
              "3           3  1.234204  1.386726  ...  1.522692  1.153093             1\n",
              "4           4  1.279491  0.949750  ...  1.463812  1.419167             1\n",
              "5           5  0.833928  1.523302  ...  0.510350  1.528044             0\n",
              "6           6  0.944705  1.251761  ...  1.111800  1.110842             0\n",
              "7           7  0.816174  1.088392  ...  1.225324  1.425784             0\n",
              "8           8  0.776551  1.463812  ...  1.118165  1.225922             0\n",
              "9           9  0.772280  0.515111  ...  1.542580  0.981879             1\n",
              "\n",
              "[10 rows x 12 columns]"
            ]
          },
          "metadata": {},
          "execution_count": 165
        }
      ]
    },
    {
      "cell_type": "markdown",
      "metadata": {
        "id": "j5sxdVcABrt5"
      },
      "source": [
        "### Exloratory Data Analysis (EDA)"
      ]
    },
    {
      "cell_type": "markdown",
      "metadata": {
        "id": "Ek8djLrjBskO"
      },
      "source": [
        "**'info()' method to check the data types and number**"
      ]
    },
    {
      "cell_type": "code",
      "metadata": {
        "colab": {
          "base_uri": "https://localhost:8080/"
        },
        "id": "dYtRKZOsBvlM",
        "outputId": "d124f8ce-ad4a-4da3-ebda-5ccf9ca9d244"
      },
      "source": [
        "# add code here\n",
        "\n",
        "df.info()"
      ],
      "execution_count": 166,
      "outputs": [
        {
          "output_type": "stream",
          "name": "stdout",
          "text": [
            "<class 'pandas.core.frame.DataFrame'>\n",
            "RangeIndex: 1000 entries, 0 to 999\n",
            "Data columns (total 12 columns):\n",
            " #   Column        Non-Null Count  Dtype  \n",
            "---  ------        --------------  -----  \n",
            " 0   Unnamed: 0    1000 non-null   int64  \n",
            " 1   WTT           1000 non-null   float64\n",
            " 2   PTI           1000 non-null   float64\n",
            " 3   EQW           1000 non-null   float64\n",
            " 4   SBI           1000 non-null   float64\n",
            " 5   LQE           1000 non-null   float64\n",
            " 6   QWG           1000 non-null   float64\n",
            " 7   FDJ           1000 non-null   float64\n",
            " 8   PJF           1000 non-null   float64\n",
            " 9   HQE           1000 non-null   float64\n",
            " 10  NXJ           1000 non-null   float64\n",
            " 11  TARGET CLASS  1000 non-null   int64  \n",
            "dtypes: float64(10), int64(2)\n",
            "memory usage: 93.9 KB\n"
          ]
        }
      ]
    },
    {
      "cell_type": "markdown",
      "metadata": {
        "id": "_3Yw2KJIJJVh"
      },
      "source": [
        "**Get the statistical summary of the data set**"
      ]
    },
    {
      "cell_type": "code",
      "metadata": {
        "colab": {
          "base_uri": "https://localhost:8080/",
          "height": 332
        },
        "id": "E21ZQVCYJLlh",
        "outputId": "fdc74cff-20d2-4e5e-ed22-70a5ea3c1093"
      },
      "source": [
        "# add code here\n",
        "\n",
        "df.describe()"
      ],
      "execution_count": 167,
      "outputs": [
        {
          "output_type": "execute_result",
          "data": {
            "text/html": [
              "<div>\n",
              "<style scoped>\n",
              "    .dataframe tbody tr th:only-of-type {\n",
              "        vertical-align: middle;\n",
              "    }\n",
              "\n",
              "    .dataframe tbody tr th {\n",
              "        vertical-align: top;\n",
              "    }\n",
              "\n",
              "    .dataframe thead th {\n",
              "        text-align: right;\n",
              "    }\n",
              "</style>\n",
              "<table border=\"1\" class=\"dataframe\">\n",
              "  <thead>\n",
              "    <tr style=\"text-align: right;\">\n",
              "      <th></th>\n",
              "      <th>Unnamed: 0</th>\n",
              "      <th>WTT</th>\n",
              "      <th>PTI</th>\n",
              "      <th>EQW</th>\n",
              "      <th>SBI</th>\n",
              "      <th>LQE</th>\n",
              "      <th>QWG</th>\n",
              "      <th>FDJ</th>\n",
              "      <th>PJF</th>\n",
              "      <th>HQE</th>\n",
              "      <th>NXJ</th>\n",
              "      <th>TARGET CLASS</th>\n",
              "    </tr>\n",
              "  </thead>\n",
              "  <tbody>\n",
              "    <tr>\n",
              "      <th>count</th>\n",
              "      <td>1000.000000</td>\n",
              "      <td>1000.000000</td>\n",
              "      <td>1000.000000</td>\n",
              "      <td>1000.000000</td>\n",
              "      <td>1000.000000</td>\n",
              "      <td>1000.000000</td>\n",
              "      <td>1000.000000</td>\n",
              "      <td>1000.000000</td>\n",
              "      <td>1000.000000</td>\n",
              "      <td>1000.000000</td>\n",
              "      <td>1000.000000</td>\n",
              "      <td>1000.00000</td>\n",
              "    </tr>\n",
              "    <tr>\n",
              "      <th>mean</th>\n",
              "      <td>499.500000</td>\n",
              "      <td>0.949682</td>\n",
              "      <td>1.114303</td>\n",
              "      <td>0.834127</td>\n",
              "      <td>0.682099</td>\n",
              "      <td>1.032336</td>\n",
              "      <td>0.943534</td>\n",
              "      <td>0.963422</td>\n",
              "      <td>1.071960</td>\n",
              "      <td>1.158251</td>\n",
              "      <td>1.362725</td>\n",
              "      <td>0.50000</td>\n",
              "    </tr>\n",
              "    <tr>\n",
              "      <th>std</th>\n",
              "      <td>288.819436</td>\n",
              "      <td>0.289635</td>\n",
              "      <td>0.257085</td>\n",
              "      <td>0.291554</td>\n",
              "      <td>0.229645</td>\n",
              "      <td>0.243413</td>\n",
              "      <td>0.256121</td>\n",
              "      <td>0.255118</td>\n",
              "      <td>0.288982</td>\n",
              "      <td>0.293738</td>\n",
              "      <td>0.204225</td>\n",
              "      <td>0.50025</td>\n",
              "    </tr>\n",
              "    <tr>\n",
              "      <th>min</th>\n",
              "      <td>0.000000</td>\n",
              "      <td>0.174412</td>\n",
              "      <td>0.441398</td>\n",
              "      <td>0.170924</td>\n",
              "      <td>0.045027</td>\n",
              "      <td>0.315307</td>\n",
              "      <td>0.262389</td>\n",
              "      <td>0.295228</td>\n",
              "      <td>0.299476</td>\n",
              "      <td>0.365157</td>\n",
              "      <td>0.639693</td>\n",
              "      <td>0.00000</td>\n",
              "    </tr>\n",
              "    <tr>\n",
              "      <th>25%</th>\n",
              "      <td>249.750000</td>\n",
              "      <td>0.742358</td>\n",
              "      <td>0.942071</td>\n",
              "      <td>0.615451</td>\n",
              "      <td>0.515010</td>\n",
              "      <td>0.870855</td>\n",
              "      <td>0.761064</td>\n",
              "      <td>0.784407</td>\n",
              "      <td>0.866306</td>\n",
              "      <td>0.934340</td>\n",
              "      <td>1.222623</td>\n",
              "      <td>0.00000</td>\n",
              "    </tr>\n",
              "    <tr>\n",
              "      <th>50%</th>\n",
              "      <td>499.500000</td>\n",
              "      <td>0.940475</td>\n",
              "      <td>1.118486</td>\n",
              "      <td>0.813264</td>\n",
              "      <td>0.676835</td>\n",
              "      <td>1.035824</td>\n",
              "      <td>0.941502</td>\n",
              "      <td>0.945333</td>\n",
              "      <td>1.065500</td>\n",
              "      <td>1.165556</td>\n",
              "      <td>1.375368</td>\n",
              "      <td>0.50000</td>\n",
              "    </tr>\n",
              "    <tr>\n",
              "      <th>75%</th>\n",
              "      <td>749.250000</td>\n",
              "      <td>1.163295</td>\n",
              "      <td>1.307904</td>\n",
              "      <td>1.028340</td>\n",
              "      <td>0.834317</td>\n",
              "      <td>1.198270</td>\n",
              "      <td>1.123060</td>\n",
              "      <td>1.134852</td>\n",
              "      <td>1.283156</td>\n",
              "      <td>1.383173</td>\n",
              "      <td>1.504832</td>\n",
              "      <td>1.00000</td>\n",
              "    </tr>\n",
              "    <tr>\n",
              "      <th>max</th>\n",
              "      <td>999.000000</td>\n",
              "      <td>1.721779</td>\n",
              "      <td>1.833757</td>\n",
              "      <td>1.722725</td>\n",
              "      <td>1.634884</td>\n",
              "      <td>1.650050</td>\n",
              "      <td>1.666902</td>\n",
              "      <td>1.713342</td>\n",
              "      <td>1.785420</td>\n",
              "      <td>1.885690</td>\n",
              "      <td>1.893950</td>\n",
              "      <td>1.00000</td>\n",
              "    </tr>\n",
              "  </tbody>\n",
              "</table>\n",
              "</div>"
            ],
            "text/plain": [
              "        Unnamed: 0          WTT  ...          NXJ  TARGET CLASS\n",
              "count  1000.000000  1000.000000  ...  1000.000000    1000.00000\n",
              "mean    499.500000     0.949682  ...     1.362725       0.50000\n",
              "std     288.819436     0.289635  ...     0.204225       0.50025\n",
              "min       0.000000     0.174412  ...     0.639693       0.00000\n",
              "25%     249.750000     0.742358  ...     1.222623       0.00000\n",
              "50%     499.500000     0.940475  ...     1.375368       0.50000\n",
              "75%     749.250000     1.163295  ...     1.504832       1.00000\n",
              "max     999.000000     1.721779  ...     1.893950       1.00000\n",
              "\n",
              "[8 rows x 12 columns]"
            ]
          },
          "metadata": {},
          "execution_count": 167
        }
      ]
    },
    {
      "cell_type": "markdown",
      "metadata": {
        "id": "lvfdtY8nJUL0"
      },
      "source": [
        "### Check the spread of the features"
      ]
    },
    {
      "cell_type": "markdown",
      "metadata": {
        "id": "7CGPwYB6Je1E"
      },
      "source": [
        "**Store the column names in a list**"
      ]
    },
    {
      "cell_type": "code",
      "metadata": {
        "colab": {
          "base_uri": "https://localhost:8080/"
        },
        "id": "yKdtF5RmJUXr",
        "outputId": "af36f86d-be37-4eaa-87cc-508d4729fd1f"
      },
      "source": [
        "# add code here\n",
        "\n",
        "column_names_classified = list(df.columns)\n",
        "column_names_classified"
      ],
      "execution_count": 168,
      "outputs": [
        {
          "output_type": "execute_result",
          "data": {
            "text/plain": [
              "['Unnamed: 0',\n",
              " 'WTT',\n",
              " 'PTI',\n",
              " 'EQW',\n",
              " 'SBI',\n",
              " 'LQE',\n",
              " 'QWG',\n",
              " 'FDJ',\n",
              " 'PJF',\n",
              " 'HQE',\n",
              " 'NXJ',\n",
              " 'TARGET CLASS']"
            ]
          },
          "metadata": {},
          "execution_count": 168
        }
      ]
    },
    {
      "cell_type": "markdown",
      "metadata": {
        "id": "vgubiy-MJixV"
      },
      "source": [
        "**Run a 'for' loop to draw boxplots of all the features for '0' and '1' TARGET CLASS**"
      ]
    },
    {
      "cell_type": "code",
      "metadata": {
        "colab": {
          "base_uri": "https://localhost:8080/",
          "height": 499
        },
        "id": "1sVwGbrGJjnj",
        "outputId": "20f6aae3-c45b-423c-e2d0-c974c24d782d"
      },
      "source": [
        "# add code here\n",
        "\n",
        "fig, ax = plt.subplots(2, 5, figsize = (16, 8))\n",
        "\n",
        "j = 0\n",
        "for col in df.drop(['Unnamed: 0', 'TARGET CLASS'], axis = 1) :\n",
        "  if j < 5 :\n",
        "    sns.boxplot(x = df['TARGET CLASS'], y = df[col], ax = ax[0][j])\n",
        "    ax[0][j].set_title('{} V/s Target Class'.format(col))\n",
        "  else :\n",
        "    sns.boxplot(x = df['TARGET CLASS'], y = df[col], ax = ax[1][j-5]) \n",
        "    ax[1][j-5].set_title('{} V/s Target Class'.format(col))\n",
        "  j += 1   \n",
        "\n",
        "plt.tight_layout()"
      ],
      "execution_count": 169,
      "outputs": [
        {
          "output_type": "display_data",
          "data": {
            "image/png": "[encoded data removed]",
            "text/plain": [
              "<Figure size 1152x576 with 10 Axes>"
            ]
          },
          "metadata": {
            "needs_background": "light"
          }
        }
      ]
    },
    {
      "cell_type": "markdown",
      "metadata": {
        "id": "1uXA-tIndeLQ"
      },
      "source": [
        "### Standardize the features using sklearn.preprocessing \n",
        "Why should we standardize?<br>\n",
        "Variables that are measured at different scales do not contribute equally to the model fitting & model learned function and might end up creating a bias. Thus, to deal with this potential problem feature-wise standardized (μ=0, σ=1) is usually used prior to model fitting"
      ]
    },
    {
      "cell_type": "markdown",
      "metadata": {
        "id": "AWyFkPoWYP4O"
      },
      "source": [
        "**import StandardScaler from Sklearn and instantiate it to a variable called \"scaler\"**"
      ]
    },
    {
      "cell_type": "code",
      "metadata": {
        "id": "8-tG1_FIdM8W"
      },
      "source": [
        "# add code here\n",
        "\n",
        "from sklearn.preprocessing import StandardScaler\n",
        "\n",
        "scaler = StandardScaler()"
      ],
      "execution_count": 170,
      "outputs": []
    },
    {
      "cell_type": "markdown",
      "metadata": {
        "id": "LPsmO2fgqd-9"
      },
      "source": [
        "**Fit only the features data to this scaler (leaving the TARGET CLASS column out) and then transform**"
      ]
    },
    {
      "cell_type": "code",
      "metadata": {
        "id": "s5hmP_Tsqhio"
      },
      "source": [
        "# add code here\n",
        "\n",
        "scaler.fit(df.drop(['TARGET CLASS'], axis = 1))\n",
        "scaled_data = scaler.transform(df.drop(['TARGET CLASS'], axis = 1))"
      ],
      "execution_count": 171,
      "outputs": []
    },
    {
      "cell_type": "markdown",
      "metadata": {
        "id": "DZyJeC3XqkBy"
      },
      "source": [
        "**Scaler.transform() will return an array. We need to convert this into a dataframe. Do this and add the column names to the dataframe. Call this new dataframe as \"df_feat\". Call head() on this df**"
      ]
    },
    {
      "cell_type": "code",
      "metadata": {
        "colab": {
          "base_uri": "https://localhost:8080/",
          "height": 203
        },
        "id": "58tLICSrqkKq",
        "outputId": "d9981c85-ff1d-4a01-c735-99d0dee297fc"
      },
      "source": [
        "# add code here\n",
        "\n",
        "df_feat = pd.DataFrame(scaled_data)\n",
        "df_feat.columns = column_names_classified[:-1]\n",
        "df_feat.head()"
      ],
      "execution_count": 172,
      "outputs": [
        {
          "output_type": "execute_result",
          "data": {
            "text/html": [
              "<div>\n",
              "<style scoped>\n",
              "    .dataframe tbody tr th:only-of-type {\n",
              "        vertical-align: middle;\n",
              "    }\n",
              "\n",
              "    .dataframe tbody tr th {\n",
              "        vertical-align: top;\n",
              "    }\n",
              "\n",
              "    .dataframe thead th {\n",
              "        text-align: right;\n",
              "    }\n",
              "</style>\n",
              "<table border=\"1\" class=\"dataframe\">\n",
              "  <thead>\n",
              "    <tr style=\"text-align: right;\">\n",
              "      <th></th>\n",
              "      <th>Unnamed: 0</th>\n",
              "      <th>WTT</th>\n",
              "      <th>PTI</th>\n",
              "      <th>EQW</th>\n",
              "      <th>SBI</th>\n",
              "      <th>LQE</th>\n",
              "      <th>QWG</th>\n",
              "      <th>FDJ</th>\n",
              "      <th>PJF</th>\n",
              "      <th>HQE</th>\n",
              "      <th>NXJ</th>\n",
              "    </tr>\n",
              "  </thead>\n",
              "  <tbody>\n",
              "    <tr>\n",
              "      <th>0</th>\n",
              "      <td>-1.730320</td>\n",
              "      <td>-0.123542</td>\n",
              "      <td>0.185907</td>\n",
              "      <td>-0.913431</td>\n",
              "      <td>0.319629</td>\n",
              "      <td>-1.033637</td>\n",
              "      <td>-2.308375</td>\n",
              "      <td>-0.798951</td>\n",
              "      <td>-1.482368</td>\n",
              "      <td>-0.949719</td>\n",
              "      <td>-0.643314</td>\n",
              "    </tr>\n",
              "    <tr>\n",
              "      <th>1</th>\n",
              "      <td>-1.726856</td>\n",
              "      <td>-1.084836</td>\n",
              "      <td>-0.430348</td>\n",
              "      <td>-1.025313</td>\n",
              "      <td>0.625388</td>\n",
              "      <td>-0.444847</td>\n",
              "      <td>-1.152706</td>\n",
              "      <td>-1.129797</td>\n",
              "      <td>-0.202240</td>\n",
              "      <td>-1.828051</td>\n",
              "      <td>0.636759</td>\n",
              "    </tr>\n",
              "    <tr>\n",
              "      <th>2</th>\n",
              "      <td>-1.723391</td>\n",
              "      <td>-0.788702</td>\n",
              "      <td>0.339318</td>\n",
              "      <td>0.301511</td>\n",
              "      <td>0.755873</td>\n",
              "      <td>2.031693</td>\n",
              "      <td>-0.870156</td>\n",
              "      <td>2.599818</td>\n",
              "      <td>0.285707</td>\n",
              "      <td>-0.682494</td>\n",
              "      <td>-0.377850</td>\n",
              "    </tr>\n",
              "    <tr>\n",
              "      <th>3</th>\n",
              "      <td>-1.719927</td>\n",
              "      <td>0.982841</td>\n",
              "      <td>1.060193</td>\n",
              "      <td>-0.621399</td>\n",
              "      <td>0.625299</td>\n",
              "      <td>0.452820</td>\n",
              "      <td>-0.267220</td>\n",
              "      <td>1.750208</td>\n",
              "      <td>1.066491</td>\n",
              "      <td>1.241325</td>\n",
              "      <td>-1.026987</td>\n",
              "    </tr>\n",
              "    <tr>\n",
              "      <th>4</th>\n",
              "      <td>-1.716463</td>\n",
              "      <td>1.139275</td>\n",
              "      <td>-0.640392</td>\n",
              "      <td>-0.709819</td>\n",
              "      <td>-0.057175</td>\n",
              "      <td>0.822886</td>\n",
              "      <td>-0.936773</td>\n",
              "      <td>0.596782</td>\n",
              "      <td>-1.472352</td>\n",
              "      <td>1.040772</td>\n",
              "      <td>0.276510</td>\n",
              "    </tr>\n",
              "  </tbody>\n",
              "</table>\n",
              "</div>"
            ],
            "text/plain": [
              "   Unnamed: 0       WTT       PTI  ...       PJF       HQE       NXJ\n",
              "0   -1.730320 -0.123542  0.185907  ... -1.482368 -0.949719 -0.643314\n",
              "1   -1.726856 -1.084836 -0.430348  ... -0.202240 -1.828051  0.636759\n",
              "2   -1.723391 -0.788702  0.339318  ...  0.285707 -0.682494 -0.377850\n",
              "3   -1.719927  0.982841  1.060193  ...  1.066491  1.241325 -1.026987\n",
              "4   -1.716463  1.139275 -0.640392  ... -1.472352  1.040772  0.276510\n",
              "\n",
              "[5 rows x 11 columns]"
            ]
          },
          "metadata": {},
          "execution_count": 172
        }
      ]
    },
    {
      "cell_type": "markdown",
      "metadata": {
        "id": "xMbEIcw5qqmZ"
      },
      "source": [
        "### Train/Test split"
      ]
    },
    {
      "cell_type": "markdown",
      "metadata": {
        "id": "peOUpAIb7tU-"
      },
      "source": [
        "**Set X to be equal to df_feat and set y accordingly. As you know, X contains our training features and y contains our target.**"
      ]
    },
    {
      "cell_type": "code",
      "metadata": {
        "id": "UUa1RT9y7yR6"
      },
      "source": [
        "# add code here\n",
        "\n",
        "X = df_feat\n",
        " \n",
        "y = pd.DataFrame(df['TARGET CLASS'])"
      ],
      "execution_count": 173,
      "outputs": []
    },
    {
      "cell_type": "code",
      "metadata": {
        "colab": {
          "base_uri": "https://localhost:8080/",
          "height": 203
        },
        "id": "8oBcHbCr9G3A",
        "outputId": "89481efb-63af-431a-8674-fb40b6ab1b53"
      },
      "source": [
        "X.head()"
      ],
      "execution_count": 174,
      "outputs": [
        {
          "output_type": "execute_result",
          "data": {
            "text/html": [
              "<div>\n",
              "<style scoped>\n",
              "    .dataframe tbody tr th:only-of-type {\n",
              "        vertical-align: middle;\n",
              "    }\n",
              "\n",
              "    .dataframe tbody tr th {\n",
              "        vertical-align: top;\n",
              "    }\n",
              "\n",
              "    .dataframe thead th {\n",
              "        text-align: right;\n",
              "    }\n",
              "</style>\n",
              "<table border=\"1\" class=\"dataframe\">\n",
              "  <thead>\n",
              "    <tr style=\"text-align: right;\">\n",
              "      <th></th>\n",
              "      <th>Unnamed: 0</th>\n",
              "      <th>WTT</th>\n",
              "      <th>PTI</th>\n",
              "      <th>EQW</th>\n",
              "      <th>SBI</th>\n",
              "      <th>LQE</th>\n",
              "      <th>QWG</th>\n",
              "      <th>FDJ</th>\n",
              "      <th>PJF</th>\n",
              "      <th>HQE</th>\n",
              "      <th>NXJ</th>\n",
              "    </tr>\n",
              "  </thead>\n",
              "  <tbody>\n",
              "    <tr>\n",
              "      <th>0</th>\n",
              "      <td>-1.730320</td>\n",
              "      <td>-0.123542</td>\n",
              "      <td>0.185907</td>\n",
              "      <td>-0.913431</td>\n",
              "      <td>0.319629</td>\n",
              "      <td>-1.033637</td>\n",
              "      <td>-2.308375</td>\n",
              "      <td>-0.798951</td>\n",
              "      <td>-1.482368</td>\n",
              "      <td>-0.949719</td>\n",
              "      <td>-0.643314</td>\n",
              "    </tr>\n",
              "    <tr>\n",
              "      <th>1</th>\n",
              "      <td>-1.726856</td>\n",
              "      <td>-1.084836</td>\n",
              "      <td>-0.430348</td>\n",
              "      <td>-1.025313</td>\n",
              "      <td>0.625388</td>\n",
              "      <td>-0.444847</td>\n",
              "      <td>-1.152706</td>\n",
              "      <td>-1.129797</td>\n",
              "      <td>-0.202240</td>\n",
              "      <td>-1.828051</td>\n",
              "      <td>0.636759</td>\n",
              "    </tr>\n",
              "    <tr>\n",
              "      <th>2</th>\n",
              "      <td>-1.723391</td>\n",
              "      <td>-0.788702</td>\n",
              "      <td>0.339318</td>\n",
              "      <td>0.301511</td>\n",
              "      <td>0.755873</td>\n",
              "      <td>2.031693</td>\n",
              "      <td>-0.870156</td>\n",
              "      <td>2.599818</td>\n",
              "      <td>0.285707</td>\n",
              "      <td>-0.682494</td>\n",
              "      <td>-0.377850</td>\n",
              "    </tr>\n",
              "    <tr>\n",
              "      <th>3</th>\n",
              "      <td>-1.719927</td>\n",
              "      <td>0.982841</td>\n",
              "      <td>1.060193</td>\n",
              "      <td>-0.621399</td>\n",
              "      <td>0.625299</td>\n",
              "      <td>0.452820</td>\n",
              "      <td>-0.267220</td>\n",
              "      <td>1.750208</td>\n",
              "      <td>1.066491</td>\n",
              "      <td>1.241325</td>\n",
              "      <td>-1.026987</td>\n",
              "    </tr>\n",
              "    <tr>\n",
              "      <th>4</th>\n",
              "      <td>-1.716463</td>\n",
              "      <td>1.139275</td>\n",
              "      <td>-0.640392</td>\n",
              "      <td>-0.709819</td>\n",
              "      <td>-0.057175</td>\n",
              "      <td>0.822886</td>\n",
              "      <td>-0.936773</td>\n",
              "      <td>0.596782</td>\n",
              "      <td>-1.472352</td>\n",
              "      <td>1.040772</td>\n",
              "      <td>0.276510</td>\n",
              "    </tr>\n",
              "  </tbody>\n",
              "</table>\n",
              "</div>"
            ],
            "text/plain": [
              "   Unnamed: 0       WTT       PTI  ...       PJF       HQE       NXJ\n",
              "0   -1.730320 -0.123542  0.185907  ... -1.482368 -0.949719 -0.643314\n",
              "1   -1.726856 -1.084836 -0.430348  ... -0.202240 -1.828051  0.636759\n",
              "2   -1.723391 -0.788702  0.339318  ...  0.285707 -0.682494 -0.377850\n",
              "3   -1.719927  0.982841  1.060193  ...  1.066491  1.241325 -1.026987\n",
              "4   -1.716463  1.139275 -0.640392  ... -1.472352  1.040772  0.276510\n",
              "\n",
              "[5 rows x 11 columns]"
            ]
          },
          "metadata": {},
          "execution_count": 174
        }
      ]
    },
    {
      "cell_type": "code",
      "metadata": {
        "colab": {
          "base_uri": "https://localhost:8080/",
          "height": 203
        },
        "id": "X9PGx_ie9HCN",
        "outputId": "e1c092c0-06bf-4640-92ab-8882ef728285"
      },
      "source": [
        "y.head()"
      ],
      "execution_count": 175,
      "outputs": [
        {
          "output_type": "execute_result",
          "data": {
            "text/html": [
              "<div>\n",
              "<style scoped>\n",
              "    .dataframe tbody tr th:only-of-type {\n",
              "        vertical-align: middle;\n",
              "    }\n",
              "\n",
              "    .dataframe tbody tr th {\n",
              "        vertical-align: top;\n",
              "    }\n",
              "\n",
              "    .dataframe thead th {\n",
              "        text-align: right;\n",
              "    }\n",
              "</style>\n",
              "<table border=\"1\" class=\"dataframe\">\n",
              "  <thead>\n",
              "    <tr style=\"text-align: right;\">\n",
              "      <th></th>\n",
              "      <th>TARGET CLASS</th>\n",
              "    </tr>\n",
              "  </thead>\n",
              "  <tbody>\n",
              "    <tr>\n",
              "      <th>0</th>\n",
              "      <td>1</td>\n",
              "    </tr>\n",
              "    <tr>\n",
              "      <th>1</th>\n",
              "      <td>0</td>\n",
              "    </tr>\n",
              "    <tr>\n",
              "      <th>2</th>\n",
              "      <td>0</td>\n",
              "    </tr>\n",
              "    <tr>\n",
              "      <th>3</th>\n",
              "      <td>1</td>\n",
              "    </tr>\n",
              "    <tr>\n",
              "      <th>4</th>\n",
              "      <td>1</td>\n",
              "    </tr>\n",
              "  </tbody>\n",
              "</table>\n",
              "</div>"
            ],
            "text/plain": [
              "   TARGET CLASS\n",
              "0             1\n",
              "1             0\n",
              "2             0\n",
              "3             1\n",
              "4             1"
            ]
          },
          "metadata": {},
          "execution_count": 175
        }
      ]
    },
    {
      "cell_type": "markdown",
      "metadata": {
        "id": "I0NCCKLV8tkN"
      },
      "source": [
        "**Import train_test_split function from scikit-learn**<br>\n",
        "**Create X and y train and test splits in one command using a test size of 0.3 and a random seed**<br>\n",
        "They should be called X_train, X_test, y_train, y_test"
      ]
    },
    {
      "cell_type": "code",
      "metadata": {
        "id": "sPVc7H2R8uGi"
      },
      "source": [
        "# add code here\n",
        "\n",
        "from sklearn.model_selection import train_test_split\n",
        "\n",
        "X_train, X_test, y_train, y_test = train_test_split(X, y, test_size = 0.3, \n",
        "                                                    random_state = 20212008)"
      ],
      "execution_count": 176,
      "outputs": []
    },
    {
      "cell_type": "code",
      "metadata": {
        "colab": {
          "base_uri": "https://localhost:8080/"
        },
        "id": "ZlHCfc3q9n9z",
        "outputId": "9b4cf2b4-9208-4b85-a6eb-a47dfd35692d"
      },
      "source": [
        "print('The size of X_train is {} and X_test is {}'.format(X_train.size, X_test.size))\n",
        "print('The size of y_train is {} and y_test is {}'.format(y_train.size, y_test.size))\n",
        "print('The shape of X_train is {} and X_test is {}'.format(X_train.shape, X_test.shape))\n",
        "print('The shape of y_train is {} and y_test is {}'.format(y_train.shape, y_test.shape))"
      ],
      "execution_count": 177,
      "outputs": [
        {
          "output_type": "stream",
          "name": "stdout",
          "text": [
            "The size of X_train is 7700 and X_test is 3300\n",
            "The size of y_train is 700 and y_test is 300\n",
            "The shape of X_train is (700, 11) and X_test is (300, 11)\n",
            "The shape of y_train is (700, 1) and y_test is (300, 1)\n"
          ]
        }
      ]
    },
    {
      "cell_type": "markdown",
      "metadata": {
        "id": "Xd8Nitnq9_qe"
      },
      "source": [
        "### Model fit and training"
      ]
    },
    {
      "cell_type": "markdown",
      "metadata": {
        "id": "89zJKDPr-CIT"
      },
      "source": [
        "**import KNeighborsClassifier from sklearn and initialize it with neighbours = 1. Fit this on X_train and y_train**"
      ]
    },
    {
      "cell_type": "code",
      "metadata": {
        "colab": {
          "base_uri": "https://localhost:8080/"
        },
        "id": "--QmqtP3-GC1",
        "outputId": "f7a2a3c7-c279-4dd0-a541-8b6e9d29034d"
      },
      "source": [
        "# add code here\n",
        "\n",
        "from sklearn.neighbors import KNeighborsClassifier\n",
        "\n",
        "knn = KNeighborsClassifier(n_neighbors = 1)\n",
        "knn.fit(X_train, y_train.values.ravel())"
      ],
      "execution_count": 178,
      "outputs": [
        {
          "output_type": "execute_result",
          "data": {
            "text/plain": [
              "KNeighborsClassifier(algorithm='auto', leaf_size=30, metric='minkowski',\n",
              "                     metric_params=None, n_jobs=None, n_neighbors=1, p=2,\n",
              "                     weights='uniform')"
            ]
          },
          "metadata": {},
          "execution_count": 178
        }
      ]
    },
    {
      "cell_type": "markdown",
      "metadata": {
        "id": "S27d4c_iAZXP"
      },
      "source": [
        "**Using this fitted model, predict on X_test. Store these predictions in variable called pred.**"
      ]
    },
    {
      "cell_type": "code",
      "metadata": {
        "id": "cnNytpC-AdoA"
      },
      "source": [
        "# add code here\n",
        "\n",
        "pred = knn.predict(X_test)"
      ],
      "execution_count": 179,
      "outputs": []
    },
    {
      "cell_type": "markdown",
      "metadata": {
        "id": "oaaKQAPcA-uM"
      },
      "source": [
        "**Let us check how correct these predictions are.<br>\n",
        "Print a classification report of y_test and pred**"
      ]
    },
    {
      "cell_type": "code",
      "metadata": {
        "colab": {
          "base_uri": "https://localhost:8080/"
        },
        "id": "ypyjJerHBCTa",
        "outputId": "c6160caf-7ecf-46b9-a542-6ce24557ae4e"
      },
      "source": [
        "# add code here\n",
        "\n",
        "from sklearn.metrics import classification_report\n",
        "\n",
        "print(classification_report(y_test, pred))"
      ],
      "execution_count": 180,
      "outputs": [
        {
          "output_type": "stream",
          "name": "stdout",
          "text": [
            "              precision    recall  f1-score   support\n",
            "\n",
            "           0       0.91      0.90      0.91       147\n",
            "           1       0.91      0.92      0.91       153\n",
            "\n",
            "    accuracy                           0.91       300\n",
            "   macro avg       0.91      0.91      0.91       300\n",
            "weighted avg       0.91      0.91      0.91       300\n",
            "\n"
          ]
        }
      ]
    },
    {
      "cell_type": "markdown",
      "metadata": {
        "id": "lSjn6Wy8BGBq"
      },
      "source": [
        "**Print the accuracy using numpy and round it to 3 decimal places.**"
      ]
    },
    {
      "cell_type": "code",
      "metadata": {
        "colab": {
          "base_uri": "https://localhost:8080/"
        },
        "id": "6lNegcBnBGLS",
        "outputId": "e024be02-3761-4a64-cde2-07568c00d692"
      },
      "source": [
        "# add code here\n",
        "\n",
        "true_values = np.array(y_test['TARGET CLASS'])\n",
        "prediction_values = np.array(pred)\n",
        "\n",
        "acc = (true_values == prediction_values).sum() / true_values.shape[0]\n",
        "print(f'The accuracy is : {round(acc, 3)}')"
      ],
      "execution_count": 181,
      "outputs": [
        {
          "output_type": "stream",
          "name": "stdout",
          "text": [
            "The accuracy is : 0.91\n"
          ]
        }
      ]
    },
    {
      "cell_type": "markdown",
      "metadata": {
        "id": "mKDTLjz9Ht6-"
      },
      "source": [
        "### Choosing optimal 'k'"
      ]
    },
    {
      "cell_type": "markdown",
      "metadata": {
        "id": "haTPxorcHwlr"
      },
      "source": [
        "**Above, we chose n_neighbours to be equal to 1. Choosing a small value of K leads to unstable decision boundaries. <br>\n",
        "We need to select n_neighbours by calculating the accuracy for every value of n from 1 to 60 and then choosing the one which gives the highest accuracy.**"
      ]
    },
    {
      "cell_type": "code",
      "metadata": {
        "colab": {
          "base_uri": "https://localhost:8080/"
        },
        "id": "XZjYShhiHy2r",
        "outputId": "e2dacbd6-70a0-4387-de5c-c0e81533927b"
      },
      "source": [
        "# Do the same as we did above, but this time make a loop from n = 1 to n = 60 and append the accuracy\n",
        "# for each in a list\n",
        "\n",
        "# add code here\n",
        "\n",
        "def accuracy_fun(n) :\n",
        "  knn = KNeighborsClassifier(n_neighbors = n)\n",
        "  knn.fit(X_train, y_train.values.ravel())\n",
        "\n",
        "  pred = knn.predict(X_test)\n",
        "\n",
        "  true_values = np.array(y_test['TARGET CLASS'])\n",
        "  prediction_values = np.array(pred)\n",
        "\n",
        "  acc = (true_values == prediction_values).sum() / true_values.shape[0]\n",
        "\n",
        "  return acc\n",
        "\n",
        "\n",
        "acc_list = []\n",
        "for n in range(1, 61) :\n",
        "  acc_list.append(accuracy_fun(n))\n",
        "\n",
        "acc_list"
      ],
      "execution_count": 182,
      "outputs": [
        {
          "output_type": "execute_result",
          "data": {
            "text/plain": [
              "[0.91,\n",
              " 0.8866666666666667,\n",
              " 0.9066666666666666,\n",
              " 0.9133333333333333,\n",
              " 0.92,\n",
              " 0.92,\n",
              " 0.93,\n",
              " 0.93,\n",
              " 0.93,\n",
              " 0.9366666666666666,\n",
              " 0.9333333333333333,\n",
              " 0.93,\n",
              " 0.9333333333333333,\n",
              " 0.9333333333333333,\n",
              " 0.9366666666666666,\n",
              " 0.9366666666666666,\n",
              " 0.9366666666666666,\n",
              " 0.9366666666666666,\n",
              " 0.9366666666666666,\n",
              " 0.9366666666666666,\n",
              " 0.94,\n",
              " 0.9366666666666666,\n",
              " 0.94,\n",
              " 0.9366666666666666,\n",
              " 0.94,\n",
              " 0.9366666666666666,\n",
              " 0.9366666666666666,\n",
              " 0.9366666666666666,\n",
              " 0.9366666666666666,\n",
              " 0.94,\n",
              " 0.9366666666666666,\n",
              " 0.9366666666666666,\n",
              " 0.9366666666666666,\n",
              " 0.9366666666666666,\n",
              " 0.9366666666666666,\n",
              " 0.93,\n",
              " 0.9333333333333333,\n",
              " 0.9366666666666666,\n",
              " 0.9333333333333333,\n",
              " 0.9366666666666666,\n",
              " 0.94,\n",
              " 0.9366666666666666,\n",
              " 0.94,\n",
              " 0.9366666666666666,\n",
              " 0.9366666666666666,\n",
              " 0.9366666666666666,\n",
              " 0.9333333333333333,\n",
              " 0.94,\n",
              " 0.9366666666666666,\n",
              " 0.94,\n",
              " 0.94,\n",
              " 0.94,\n",
              " 0.9433333333333334,\n",
              " 0.94,\n",
              " 0.94,\n",
              " 0.94,\n",
              " 0.94,\n",
              " 0.94,\n",
              " 0.94,\n",
              " 0.94]"
            ]
          },
          "metadata": {},
          "execution_count": 182
        }
      ]
    },
    {
      "cell_type": "markdown",
      "metadata": {
        "id": "__YKEqdDJkoN"
      },
      "source": [
        "**Plot a graph of K value vs Accuracy**"
      ]
    },
    {
      "cell_type": "code",
      "metadata": {
        "colab": {
          "base_uri": "https://localhost:8080/",
          "height": 429
        },
        "id": "AaUip6vsJlYM",
        "outputId": "4004e9d8-80b9-41e0-c654-dc990bbfda31"
      },
      "source": [
        "# add code here\n",
        "\n",
        "fig, ax = plt.subplots(figsize = (14, 6))\n",
        "ax.plot(range(1, 61), acc_list, marker = 'o', color = '#87CEEB',\n",
        "        ms = 10, mfc = 'yellow', mec = 'red', mew = 3,\n",
        "        linestyle = '-.', linewidth = 3)\n",
        "ax.set_title('K value V/s Accuracy')\n",
        "ax.set_xlabel('K value')\n",
        "ax.set_xticks(range(1, 61))\n",
        "ax.set_ylabel('Accuracy')\n",
        "plt.tight_layout()"
      ],
      "execution_count": 183,
      "outputs": [
        {
          "output_type": "display_data",
          "data": {
            "image/png": "[encoded data removed]",
            "text/plain": [
              "<Figure size 1008x432 with 1 Axes>"
            ]
          },
          "metadata": {
            "needs_background": "light"
          }
        }
      ]
    },
    {
      "cell_type": "markdown",
      "metadata": {
        "id": "QPk1RYPD0ZNr"
      },
      "source": [
        "**Choose the best value of n_neighbours and give a reason why and also print the accuracy**"
      ]
    },
    {
      "cell_type": "code",
      "metadata": {
        "colab": {
          "base_uri": "https://localhost:8080/"
        },
        "id": "7CWDuYqIz7Cv",
        "outputId": "27d31a83-b87e-4be2-a269-f9759780d120"
      },
      "source": [
        "# add code here \n",
        "\n",
        "\"\"\"\n",
        "Choosing the value of n_neighbors as 53 because it gives maximum accuracy, i.e., \n",
        "the value which gives minimum error rate, since it will increase the accuracy of \n",
        "the model.\n",
        "\"\"\"\n",
        "\n",
        "print(__doc__)\n",
        "print(f'The accuracy at K value 53 is: {accuracy_fun(53)}')"
      ],
      "execution_count": 184,
      "outputs": [
        {
          "output_type": "stream",
          "name": "stdout",
          "text": [
            "\n",
            "Choosing the value of n_neighbors as 53 because it gives maximum accuracy, i.e., \n",
            "the value which gives minimum error rate, since it will increase the accuracy of \n",
            "the model.\n",
            "\n",
            "The accuracy at K value 53 is: 0.9433333333333334\n"
          ]
        }
      ]
    },
    {
      "cell_type": "markdown",
      "metadata": {
        "id": "wMX9ZYOP2Zmm"
      },
      "source": [
        "# 3). Decision Tree Classifier"
      ]
    },
    {
      "cell_type": "markdown",
      "metadata": {
        "id": "NMRAr-Zb2cVt"
      },
      "source": [
        "<b>read the titanic_data.csv using pandas and show the dataframe</b>"
      ]
    },
    {
      "cell_type": "code",
      "metadata": {
        "colab": {
          "base_uri": "https://localhost:8080/",
          "height": 501
        },
        "id": "2Bd7RyhP2gtx",
        "outputId": "630d010e-a3d6-4cd1-9212-3837330812f5"
      },
      "source": [
        "#write code here\n",
        "\n",
        "titanic_path = \"/content/gdrive/MyDrive/synapse_w2/titanic_data.csv\"\n",
        "\n",
        "titanic_df = pd.read_csv(titanic_path)\n",
        "titanic_df"
      ],
      "execution_count": 185,
      "outputs": [
        {
          "output_type": "execute_result",
          "data": {
            "text/html": [
              "<div>\n",
              "<style scoped>\n",
              "    .dataframe tbody tr th:only-of-type {\n",
              "        vertical-align: middle;\n",
              "    }\n",
              "\n",
              "    .dataframe tbody tr th {\n",
              "        vertical-align: top;\n",
              "    }\n",
              "\n",
              "    .dataframe thead th {\n",
              "        text-align: right;\n",
              "    }\n",
              "</style>\n",
              "<table border=\"1\" class=\"dataframe\">\n",
              "  <thead>\n",
              "    <tr style=\"text-align: right;\">\n",
              "      <th></th>\n",
              "      <th>PassengerId</th>\n",
              "      <th>Survived</th>\n",
              "      <th>Pclass</th>\n",
              "      <th>Name</th>\n",
              "      <th>Sex</th>\n",
              "      <th>Age</th>\n",
              "      <th>SibSp</th>\n",
              "      <th>Parch</th>\n",
              "      <th>Ticket</th>\n",
              "      <th>Fare</th>\n",
              "      <th>Cabin</th>\n",
              "      <th>Embarked</th>\n",
              "    </tr>\n",
              "  </thead>\n",
              "  <tbody>\n",
              "    <tr>\n",
              "      <th>0</th>\n",
              "      <td>1</td>\n",
              "      <td>0</td>\n",
              "      <td>3</td>\n",
              "      <td>Braund, Mr. Owen Harris</td>\n",
              "      <td>male</td>\n",
              "      <td>22.0</td>\n",
              "      <td>1</td>\n",
              "      <td>0</td>\n",
              "      <td>A/5 21171</td>\n",
              "      <td>7.2500</td>\n",
              "      <td>NaN</td>\n",
              "      <td>S</td>\n",
              "    </tr>\n",
              "    <tr>\n",
              "      <th>1</th>\n",
              "      <td>2</td>\n",
              "      <td>1</td>\n",
              "      <td>1</td>\n",
              "      <td>Cumings, Mrs. John Bradley (Florence Briggs Th...</td>\n",
              "      <td>female</td>\n",
              "      <td>38.0</td>\n",
              "      <td>1</td>\n",
              "      <td>0</td>\n",
              "      <td>PC 17599</td>\n",
              "      <td>71.2833</td>\n",
              "      <td>C85</td>\n",
              "      <td>C</td>\n",
              "    </tr>\n",
              "    <tr>\n",
              "      <th>2</th>\n",
              "      <td>3</td>\n",
              "      <td>1</td>\n",
              "      <td>3</td>\n",
              "      <td>Heikkinen, Miss. Laina</td>\n",
              "      <td>female</td>\n",
              "      <td>26.0</td>\n",
              "      <td>0</td>\n",
              "      <td>0</td>\n",
              "      <td>STON/O2. 3101282</td>\n",
              "      <td>7.9250</td>\n",
              "      <td>NaN</td>\n",
              "      <td>S</td>\n",
              "    </tr>\n",
              "    <tr>\n",
              "      <th>3</th>\n",
              "      <td>4</td>\n",
              "      <td>1</td>\n",
              "      <td>1</td>\n",
              "      <td>Futrelle, Mrs. Jacques Heath (Lily May Peel)</td>\n",
              "      <td>female</td>\n",
              "      <td>35.0</td>\n",
              "      <td>1</td>\n",
              "      <td>0</td>\n",
              "      <td>113803</td>\n",
              "      <td>53.1000</td>\n",
              "      <td>C123</td>\n",
              "      <td>S</td>\n",
              "    </tr>\n",
              "    <tr>\n",
              "      <th>4</th>\n",
              "      <td>5</td>\n",
              "      <td>0</td>\n",
              "      <td>3</td>\n",
              "      <td>Allen, Mr. William Henry</td>\n",
              "      <td>male</td>\n",
              "      <td>35.0</td>\n",
              "      <td>0</td>\n",
              "      <td>0</td>\n",
              "      <td>373450</td>\n",
              "      <td>8.0500</td>\n",
              "      <td>NaN</td>\n",
              "      <td>S</td>\n",
              "    </tr>\n",
              "    <tr>\n",
              "      <th>...</th>\n",
              "      <td>...</td>\n",
              "      <td>...</td>\n",
              "      <td>...</td>\n",
              "      <td>...</td>\n",
              "      <td>...</td>\n",
              "      <td>...</td>\n",
              "      <td>...</td>\n",
              "      <td>...</td>\n",
              "      <td>...</td>\n",
              "      <td>...</td>\n",
              "      <td>...</td>\n",
              "      <td>...</td>\n",
              "    </tr>\n",
              "    <tr>\n",
              "      <th>886</th>\n",
              "      <td>887</td>\n",
              "      <td>0</td>\n",
              "      <td>2</td>\n",
              "      <td>Montvila, Rev. Juozas</td>\n",
              "      <td>male</td>\n",
              "      <td>27.0</td>\n",
              "      <td>0</td>\n",
              "      <td>0</td>\n",
              "      <td>211536</td>\n",
              "      <td>13.0000</td>\n",
              "      <td>NaN</td>\n",
              "      <td>S</td>\n",
              "    </tr>\n",
              "    <tr>\n",
              "      <th>887</th>\n",
              "      <td>888</td>\n",
              "      <td>1</td>\n",
              "      <td>1</td>\n",
              "      <td>Graham, Miss. Margaret Edith</td>\n",
              "      <td>female</td>\n",
              "      <td>19.0</td>\n",
              "      <td>0</td>\n",
              "      <td>0</td>\n",
              "      <td>112053</td>\n",
              "      <td>30.0000</td>\n",
              "      <td>B42</td>\n",
              "      <td>S</td>\n",
              "    </tr>\n",
              "    <tr>\n",
              "      <th>888</th>\n",
              "      <td>889</td>\n",
              "      <td>0</td>\n",
              "      <td>3</td>\n",
              "      <td>Johnston, Miss. Catherine Helen \"Carrie\"</td>\n",
              "      <td>female</td>\n",
              "      <td>NaN</td>\n",
              "      <td>1</td>\n",
              "      <td>2</td>\n",
              "      <td>W./C. 6607</td>\n",
              "      <td>23.4500</td>\n",
              "      <td>NaN</td>\n",
              "      <td>S</td>\n",
              "    </tr>\n",
              "    <tr>\n",
              "      <th>889</th>\n",
              "      <td>890</td>\n",
              "      <td>1</td>\n",
              "      <td>1</td>\n",
              "      <td>Behr, Mr. Karl Howell</td>\n",
              "      <td>male</td>\n",
              "      <td>26.0</td>\n",
              "      <td>0</td>\n",
              "      <td>0</td>\n",
              "      <td>111369</td>\n",
              "      <td>30.0000</td>\n",
              "      <td>C148</td>\n",
              "      <td>C</td>\n",
              "    </tr>\n",
              "    <tr>\n",
              "      <th>890</th>\n",
              "      <td>891</td>\n",
              "      <td>0</td>\n",
              "      <td>3</td>\n",
              "      <td>Dooley, Mr. Patrick</td>\n",
              "      <td>male</td>\n",
              "      <td>32.0</td>\n",
              "      <td>0</td>\n",
              "      <td>0</td>\n",
              "      <td>370376</td>\n",
              "      <td>7.7500</td>\n",
              "      <td>NaN</td>\n",
              "      <td>Q</td>\n",
              "    </tr>\n",
              "  </tbody>\n",
              "</table>\n",
              "<p>891 rows × 12 columns</p>\n",
              "</div>"
            ],
            "text/plain": [
              "     PassengerId  Survived  Pclass  ...     Fare Cabin  Embarked\n",
              "0              1         0       3  ...   7.2500   NaN         S\n",
              "1              2         1       1  ...  71.2833   C85         C\n",
              "2              3         1       3  ...   7.9250   NaN         S\n",
              "3              4         1       1  ...  53.1000  C123         S\n",
              "4              5         0       3  ...   8.0500   NaN         S\n",
              "..           ...       ...     ...  ...      ...   ...       ...\n",
              "886          887         0       2  ...  13.0000   NaN         S\n",
              "887          888         1       1  ...  30.0000   B42         S\n",
              "888          889         0       3  ...  23.4500   NaN         S\n",
              "889          890         1       1  ...  30.0000  C148         C\n",
              "890          891         0       3  ...   7.7500   NaN         Q\n",
              "\n",
              "[891 rows x 12 columns]"
            ]
          },
          "metadata": {},
          "execution_count": 185
        }
      ]
    },
    {
      "cell_type": "markdown",
      "metadata": {
        "id": "S0QBQBYc3T7o"
      },
      "source": [
        "<b>Write a function which accepts a dataframe, preprocesses the data (use task 1 notebook) and returns a new dataframe. </b> "
      ]
    },
    {
      "cell_type": "code",
      "metadata": {
        "colab": {
          "base_uri": "https://localhost:8080/",
          "height": 437
        },
        "id": "stJFFpar3Z9z",
        "outputId": "e6c58ad6-4248-4568-ff5f-d37755aa4395"
      },
      "source": [
        "def titanic_preprocessing_pipeline(df) :\n",
        "  df = adding_title(df)\n",
        "\n",
        "  df.drop(['PassengerId', 'Ticket', 'Name'], axis = 1, inplace = True)\n",
        "\n",
        "  df = nan_analysis(df)\n",
        "\n",
        "  df = extra_features(df)\n",
        "\n",
        "  df['Age'] = normalize_fun(df, 'Age')\n",
        "  df['Fare'] = normalize_fun(df, 'Fare')\n",
        "  df['Family_members'] = normalize_fun(df, 'Family_members')\n",
        "\n",
        "  df = one_hot_encoding(df)\n",
        "\n",
        "  return df\n",
        "\n",
        "\n",
        "# Adding the title column\n",
        "def adding_title(title_df) :\n",
        "  import re\n",
        "\n",
        "  title = []\n",
        "  for title_df_name in title_df['Name'] :\n",
        "    title_search = re.search('(\\w+)\\.', title_df_name)\n",
        "    title.append(title_search.group(1))\n",
        "\n",
        "  title_df['Title'] = title\n",
        "\n",
        "  return title_df\n",
        "\n",
        "# Function for Nan Analysis\n",
        "def nan_analysis(nan_df) :\n",
        "  for item in nan_df :\n",
        "    if (nan_df[item].isnull().sum() * 100 / len(nan_df)) > 50 :\n",
        "      nan_df.drop([item], axis = 1, inplace = True)\n",
        "\n",
        "  nan_df['Embarked'] = nan_df['Embarked'].fillna(nan_df['Embarked'].mode()[0])  \n",
        "  nan_df['Age'] = nan_df['Age'].fillna(nan_df['Age'].mean())\n",
        "\n",
        "  return nan_df\n",
        "\n",
        "# Function for adding and remove features to the dataframe\n",
        "def extra_features(extra_df) :\n",
        "  extra_df[\"Family_members\"] = extra_df[\"SibSp\"] + extra_df[\"Parch\"]\n",
        "  extra_df.drop(['SibSp', 'Parch'], axis = 1, inplace = True)\n",
        "\n",
        "  return extra_df\n",
        "\n",
        "# Normalizing data\n",
        "def normalize_fun(df, col) :\n",
        "  data_max, data_min = max(df[col]), min(df[col])\n",
        "  data_normalize = []\n",
        "  for item in df[col] :\n",
        "    data_normalize.append((item - data_min) / (data_max - data_min))\n",
        "\n",
        "  return data_normalize\n",
        "\n",
        "# Hot Encoding function\n",
        "def one_hot_encoding(ohe_df) :\n",
        "  df_ohe = pd.get_dummies(ohe_df, columns=['Pclass', 'Sex', 'Title', 'Embarked'])\n",
        "  return df_ohe\n",
        "\n",
        "\n",
        "titanic_df = titanic_preprocessing_pipeline(titanic_df)\n",
        "titanic_df"
      ],
      "execution_count": 186,
      "outputs": [
        {
          "output_type": "execute_result",
          "data": {
            "text/html": [
              "<div>\n",
              "<style scoped>\n",
              "    .dataframe tbody tr th:only-of-type {\n",
              "        vertical-align: middle;\n",
              "    }\n",
              "\n",
              "    .dataframe tbody tr th {\n",
              "        vertical-align: top;\n",
              "    }\n",
              "\n",
              "    .dataframe thead th {\n",
              "        text-align: right;\n",
              "    }\n",
              "</style>\n",
              "<table border=\"1\" class=\"dataframe\">\n",
              "  <thead>\n",
              "    <tr style=\"text-align: right;\">\n",
              "      <th></th>\n",
              "      <th>Survived</th>\n",
              "      <th>Age</th>\n",
              "      <th>Fare</th>\n",
              "      <th>Family_members</th>\n",
              "      <th>Pclass_1</th>\n",
              "      <th>Pclass_2</th>\n",
              "      <th>Pclass_3</th>\n",
              "      <th>Sex_female</th>\n",
              "      <th>Sex_male</th>\n",
              "      <th>Title_Capt</th>\n",
              "      <th>Title_Col</th>\n",
              "      <th>Title_Countess</th>\n",
              "      <th>Title_Don</th>\n",
              "      <th>Title_Dr</th>\n",
              "      <th>Title_Jonkheer</th>\n",
              "      <th>Title_Lady</th>\n",
              "      <th>Title_Major</th>\n",
              "      <th>Title_Master</th>\n",
              "      <th>Title_Miss</th>\n",
              "      <th>Title_Mlle</th>\n",
              "      <th>Title_Mme</th>\n",
              "      <th>Title_Mr</th>\n",
              "      <th>Title_Mrs</th>\n",
              "      <th>Title_Ms</th>\n",
              "      <th>Title_Rev</th>\n",
              "      <th>Title_Sir</th>\n",
              "      <th>Embarked_C</th>\n",
              "      <th>Embarked_Q</th>\n",
              "      <th>Embarked_S</th>\n",
              "    </tr>\n",
              "  </thead>\n",
              "  <tbody>\n",
              "    <tr>\n",
              "      <th>0</th>\n",
              "      <td>0</td>\n",
              "      <td>0.271174</td>\n",
              "      <td>0.014151</td>\n",
              "      <td>0.1</td>\n",
              "      <td>0</td>\n",
              "      <td>0</td>\n",
              "      <td>1</td>\n",
              "      <td>0</td>\n",
              "      <td>1</td>\n",
              "      <td>0</td>\n",
              "      <td>0</td>\n",
              "      <td>0</td>\n",
              "      <td>0</td>\n",
              "      <td>0</td>\n",
              "      <td>0</td>\n",
              "      <td>0</td>\n",
              "      <td>0</td>\n",
              "      <td>0</td>\n",
              "      <td>0</td>\n",
              "      <td>0</td>\n",
              "      <td>0</td>\n",
              "      <td>1</td>\n",
              "      <td>0</td>\n",
              "      <td>0</td>\n",
              "      <td>0</td>\n",
              "      <td>0</td>\n",
              "      <td>0</td>\n",
              "      <td>0</td>\n",
              "      <td>1</td>\n",
              "    </tr>\n",
              "    <tr>\n",
              "      <th>1</th>\n",
              "      <td>1</td>\n",
              "      <td>0.472229</td>\n",
              "      <td>0.139136</td>\n",
              "      <td>0.1</td>\n",
              "      <td>1</td>\n",
              "      <td>0</td>\n",
              "      <td>0</td>\n",
              "      <td>1</td>\n",
              "      <td>0</td>\n",
              "      <td>0</td>\n",
              "      <td>0</td>\n",
              "      <td>0</td>\n",
              "      <td>0</td>\n",
              "      <td>0</td>\n",
              "      <td>0</td>\n",
              "      <td>0</td>\n",
              "      <td>0</td>\n",
              "      <td>0</td>\n",
              "      <td>0</td>\n",
              "      <td>0</td>\n",
              "      <td>0</td>\n",
              "      <td>0</td>\n",
              "      <td>1</td>\n",
              "      <td>0</td>\n",
              "      <td>0</td>\n",
              "      <td>0</td>\n",
              "      <td>1</td>\n",
              "      <td>0</td>\n",
              "      <td>0</td>\n",
              "    </tr>\n",
              "    <tr>\n",
              "      <th>2</th>\n",
              "      <td>1</td>\n",
              "      <td>0.321438</td>\n",
              "      <td>0.015469</td>\n",
              "      <td>0.0</td>\n",
              "      <td>0</td>\n",
              "      <td>0</td>\n",
              "      <td>1</td>\n",
              "      <td>1</td>\n",
              "      <td>0</td>\n",
              "      <td>0</td>\n",
              "      <td>0</td>\n",
              "      <td>0</td>\n",
              "      <td>0</td>\n",
              "      <td>0</td>\n",
              "      <td>0</td>\n",
              "      <td>0</td>\n",
              "      <td>0</td>\n",
              "      <td>0</td>\n",
              "      <td>1</td>\n",
              "      <td>0</td>\n",
              "      <td>0</td>\n",
              "      <td>0</td>\n",
              "      <td>0</td>\n",
              "      <td>0</td>\n",
              "      <td>0</td>\n",
              "      <td>0</td>\n",
              "      <td>0</td>\n",
              "      <td>0</td>\n",
              "      <td>1</td>\n",
              "    </tr>\n",
              "    <tr>\n",
              "      <th>3</th>\n",
              "      <td>1</td>\n",
              "      <td>0.434531</td>\n",
              "      <td>0.103644</td>\n",
              "      <td>0.1</td>\n",
              "      <td>1</td>\n",
              "      <td>0</td>\n",
              "      <td>0</td>\n",
              "      <td>1</td>\n",
              "      <td>0</td>\n",
              "      <td>0</td>\n",
              "      <td>0</td>\n",
              "      <td>0</td>\n",
              "      <td>0</td>\n",
              "      <td>0</td>\n",
              "      <td>0</td>\n",
              "      <td>0</td>\n",
              "      <td>0</td>\n",
              "      <td>0</td>\n",
              "      <td>0</td>\n",
              "      <td>0</td>\n",
              "      <td>0</td>\n",
              "      <td>0</td>\n",
              "      <td>1</td>\n",
              "      <td>0</td>\n",
              "      <td>0</td>\n",
              "      <td>0</td>\n",
              "      <td>0</td>\n",
              "      <td>0</td>\n",
              "      <td>1</td>\n",
              "    </tr>\n",
              "    <tr>\n",
              "      <th>4</th>\n",
              "      <td>0</td>\n",
              "      <td>0.434531</td>\n",
              "      <td>0.015713</td>\n",
              "      <td>0.0</td>\n",
              "      <td>0</td>\n",
              "      <td>0</td>\n",
              "      <td>1</td>\n",
              "      <td>0</td>\n",
              "      <td>1</td>\n",
              "      <td>0</td>\n",
              "      <td>0</td>\n",
              "      <td>0</td>\n",
              "      <td>0</td>\n",
              "      <td>0</td>\n",
              "      <td>0</td>\n",
              "      <td>0</td>\n",
              "      <td>0</td>\n",
              "      <td>0</td>\n",
              "      <td>0</td>\n",
              "      <td>0</td>\n",
              "      <td>0</td>\n",
              "      <td>1</td>\n",
              "      <td>0</td>\n",
              "      <td>0</td>\n",
              "      <td>0</td>\n",
              "      <td>0</td>\n",
              "      <td>0</td>\n",
              "      <td>0</td>\n",
              "      <td>1</td>\n",
              "    </tr>\n",
              "    <tr>\n",
              "      <th>...</th>\n",
              "      <td>...</td>\n",
              "      <td>...</td>\n",
              "      <td>...</td>\n",
              "      <td>...</td>\n",
              "      <td>...</td>\n",
              "      <td>...</td>\n",
              "      <td>...</td>\n",
              "      <td>...</td>\n",
              "      <td>...</td>\n",
              "      <td>...</td>\n",
              "      <td>...</td>\n",
              "      <td>...</td>\n",
              "      <td>...</td>\n",
              "      <td>...</td>\n",
              "      <td>...</td>\n",
              "      <td>...</td>\n",
              "      <td>...</td>\n",
              "      <td>...</td>\n",
              "      <td>...</td>\n",
              "      <td>...</td>\n",
              "      <td>...</td>\n",
              "      <td>...</td>\n",
              "      <td>...</td>\n",
              "      <td>...</td>\n",
              "      <td>...</td>\n",
              "      <td>...</td>\n",
              "      <td>...</td>\n",
              "      <td>...</td>\n",
              "      <td>...</td>\n",
              "    </tr>\n",
              "    <tr>\n",
              "      <th>886</th>\n",
              "      <td>0</td>\n",
              "      <td>0.334004</td>\n",
              "      <td>0.025374</td>\n",
              "      <td>0.0</td>\n",
              "      <td>0</td>\n",
              "      <td>1</td>\n",
              "      <td>0</td>\n",
              "      <td>0</td>\n",
              "      <td>1</td>\n",
              "      <td>0</td>\n",
              "      <td>0</td>\n",
              "      <td>0</td>\n",
              "      <td>0</td>\n",
              "      <td>0</td>\n",
              "      <td>0</td>\n",
              "      <td>0</td>\n",
              "      <td>0</td>\n",
              "      <td>0</td>\n",
              "      <td>0</td>\n",
              "      <td>0</td>\n",
              "      <td>0</td>\n",
              "      <td>0</td>\n",
              "      <td>0</td>\n",
              "      <td>0</td>\n",
              "      <td>1</td>\n",
              "      <td>0</td>\n",
              "      <td>0</td>\n",
              "      <td>0</td>\n",
              "      <td>1</td>\n",
              "    </tr>\n",
              "    <tr>\n",
              "      <th>887</th>\n",
              "      <td>1</td>\n",
              "      <td>0.233476</td>\n",
              "      <td>0.058556</td>\n",
              "      <td>0.0</td>\n",
              "      <td>1</td>\n",
              "      <td>0</td>\n",
              "      <td>0</td>\n",
              "      <td>1</td>\n",
              "      <td>0</td>\n",
              "      <td>0</td>\n",
              "      <td>0</td>\n",
              "      <td>0</td>\n",
              "      <td>0</td>\n",
              "      <td>0</td>\n",
              "      <td>0</td>\n",
              "      <td>0</td>\n",
              "      <td>0</td>\n",
              "      <td>0</td>\n",
              "      <td>1</td>\n",
              "      <td>0</td>\n",
              "      <td>0</td>\n",
              "      <td>0</td>\n",
              "      <td>0</td>\n",
              "      <td>0</td>\n",
              "      <td>0</td>\n",
              "      <td>0</td>\n",
              "      <td>0</td>\n",
              "      <td>0</td>\n",
              "      <td>1</td>\n",
              "    </tr>\n",
              "    <tr>\n",
              "      <th>888</th>\n",
              "      <td>0</td>\n",
              "      <td>0.367921</td>\n",
              "      <td>0.045771</td>\n",
              "      <td>0.3</td>\n",
              "      <td>0</td>\n",
              "      <td>0</td>\n",
              "      <td>1</td>\n",
              "      <td>1</td>\n",
              "      <td>0</td>\n",
              "      <td>0</td>\n",
              "      <td>0</td>\n",
              "      <td>0</td>\n",
              "      <td>0</td>\n",
              "      <td>0</td>\n",
              "      <td>0</td>\n",
              "      <td>0</td>\n",
              "      <td>0</td>\n",
              "      <td>0</td>\n",
              "      <td>1</td>\n",
              "      <td>0</td>\n",
              "      <td>0</td>\n",
              "      <td>0</td>\n",
              "      <td>0</td>\n",
              "      <td>0</td>\n",
              "      <td>0</td>\n",
              "      <td>0</td>\n",
              "      <td>0</td>\n",
              "      <td>0</td>\n",
              "      <td>1</td>\n",
              "    </tr>\n",
              "    <tr>\n",
              "      <th>889</th>\n",
              "      <td>1</td>\n",
              "      <td>0.321438</td>\n",
              "      <td>0.058556</td>\n",
              "      <td>0.0</td>\n",
              "      <td>1</td>\n",
              "      <td>0</td>\n",
              "      <td>0</td>\n",
              "      <td>0</td>\n",
              "      <td>1</td>\n",
              "      <td>0</td>\n",
              "      <td>0</td>\n",
              "      <td>0</td>\n",
              "      <td>0</td>\n",
              "      <td>0</td>\n",
              "      <td>0</td>\n",
              "      <td>0</td>\n",
              "      <td>0</td>\n",
              "      <td>0</td>\n",
              "      <td>0</td>\n",
              "      <td>0</td>\n",
              "      <td>0</td>\n",
              "      <td>1</td>\n",
              "      <td>0</td>\n",
              "      <td>0</td>\n",
              "      <td>0</td>\n",
              "      <td>0</td>\n",
              "      <td>1</td>\n",
              "      <td>0</td>\n",
              "      <td>0</td>\n",
              "    </tr>\n",
              "    <tr>\n",
              "      <th>890</th>\n",
              "      <td>0</td>\n",
              "      <td>0.396833</td>\n",
              "      <td>0.015127</td>\n",
              "      <td>0.0</td>\n",
              "      <td>0</td>\n",
              "      <td>0</td>\n",
              "      <td>1</td>\n",
              "      <td>0</td>\n",
              "      <td>1</td>\n",
              "      <td>0</td>\n",
              "      <td>0</td>\n",
              "      <td>0</td>\n",
              "      <td>0</td>\n",
              "      <td>0</td>\n",
              "      <td>0</td>\n",
              "      <td>0</td>\n",
              "      <td>0</td>\n",
              "      <td>0</td>\n",
              "      <td>0</td>\n",
              "      <td>0</td>\n",
              "      <td>0</td>\n",
              "      <td>1</td>\n",
              "      <td>0</td>\n",
              "      <td>0</td>\n",
              "      <td>0</td>\n",
              "      <td>0</td>\n",
              "      <td>0</td>\n",
              "      <td>1</td>\n",
              "      <td>0</td>\n",
              "    </tr>\n",
              "  </tbody>\n",
              "</table>\n",
              "<p>891 rows × 29 columns</p>\n",
              "</div>"
            ],
            "text/plain": [
              "     Survived       Age      Fare  ...  Embarked_C  Embarked_Q  Embarked_S\n",
              "0           0  0.271174  0.014151  ...           0           0           1\n",
              "1           1  0.472229  0.139136  ...           1           0           0\n",
              "2           1  0.321438  0.015469  ...           0           0           1\n",
              "3           1  0.434531  0.103644  ...           0           0           1\n",
              "4           0  0.434531  0.015713  ...           0           0           1\n",
              "..        ...       ...       ...  ...         ...         ...         ...\n",
              "886         0  0.334004  0.025374  ...           0           0           1\n",
              "887         1  0.233476  0.058556  ...           0           0           1\n",
              "888         0  0.367921  0.045771  ...           0           0           1\n",
              "889         1  0.321438  0.058556  ...           1           0           0\n",
              "890         0  0.396833  0.015127  ...           0           1           0\n",
              "\n",
              "[891 rows x 29 columns]"
            ]
          },
          "metadata": {},
          "execution_count": 186
        }
      ]
    },
    {
      "cell_type": "markdown",
      "metadata": {
        "id": "xe9NYn8Ijk6-"
      },
      "source": [
        "<b>extract the y label (survived) from the dataframe and store it in a new variable</b>"
      ]
    },
    {
      "cell_type": "code",
      "metadata": {
        "colab": {
          "base_uri": "https://localhost:8080/"
        },
        "id": "_YDegxlHjnNp",
        "outputId": "1ca9bde5-6d3b-4749-8984-63ce4414bb0f"
      },
      "source": [
        "#write code here\n",
        "\n",
        "y_label = titanic_df['Survived']\n",
        "y_label"
      ],
      "execution_count": 187,
      "outputs": [
        {
          "output_type": "execute_result",
          "data": {
            "text/plain": [
              "0      0\n",
              "1      1\n",
              "2      1\n",
              "3      1\n",
              "4      0\n",
              "      ..\n",
              "886    0\n",
              "887    1\n",
              "888    0\n",
              "889    1\n",
              "890    0\n",
              "Name: Survived, Length: 891, dtype: int64"
            ]
          },
          "metadata": {},
          "execution_count": 187
        }
      ]
    },
    {
      "cell_type": "markdown",
      "metadata": {
        "id": "M785QYj8kGCD"
      },
      "source": [
        "<b>remove the y_label (survived) from the dataframe</b>"
      ]
    },
    {
      "cell_type": "code",
      "metadata": {
        "colab": {
          "base_uri": "https://localhost:8080/",
          "height": 437
        },
        "id": "NlEMrU32kGah",
        "outputId": "23c5bd70-c7cb-4a22-d1bb-cf4c7e0c534b"
      },
      "source": [
        "#write code here\n",
        "\n",
        "titanic_df.drop(['Survived'], axis = 1, inplace = True)\n",
        "titanic_df"
      ],
      "execution_count": 188,
      "outputs": [
        {
          "output_type": "execute_result",
          "data": {
            "text/html": [
              "<div>\n",
              "<style scoped>\n",
              "    .dataframe tbody tr th:only-of-type {\n",
              "        vertical-align: middle;\n",
              "    }\n",
              "\n",
              "    .dataframe tbody tr th {\n",
              "        vertical-align: top;\n",
              "    }\n",
              "\n",
              "    .dataframe thead th {\n",
              "        text-align: right;\n",
              "    }\n",
              "</style>\n",
              "<table border=\"1\" class=\"dataframe\">\n",
              "  <thead>\n",
              "    <tr style=\"text-align: right;\">\n",
              "      <th></th>\n",
              "      <th>Age</th>\n",
              "      <th>Fare</th>\n",
              "      <th>Family_members</th>\n",
              "      <th>Pclass_1</th>\n",
              "      <th>Pclass_2</th>\n",
              "      <th>Pclass_3</th>\n",
              "      <th>Sex_female</th>\n",
              "      <th>Sex_male</th>\n",
              "      <th>Title_Capt</th>\n",
              "      <th>Title_Col</th>\n",
              "      <th>Title_Countess</th>\n",
              "      <th>Title_Don</th>\n",
              "      <th>Title_Dr</th>\n",
              "      <th>Title_Jonkheer</th>\n",
              "      <th>Title_Lady</th>\n",
              "      <th>Title_Major</th>\n",
              "      <th>Title_Master</th>\n",
              "      <th>Title_Miss</th>\n",
              "      <th>Title_Mlle</th>\n",
              "      <th>Title_Mme</th>\n",
              "      <th>Title_Mr</th>\n",
              "      <th>Title_Mrs</th>\n",
              "      <th>Title_Ms</th>\n",
              "      <th>Title_Rev</th>\n",
              "      <th>Title_Sir</th>\n",
              "      <th>Embarked_C</th>\n",
              "      <th>Embarked_Q</th>\n",
              "      <th>Embarked_S</th>\n",
              "    </tr>\n",
              "  </thead>\n",
              "  <tbody>\n",
              "    <tr>\n",
              "      <th>0</th>\n",
              "      <td>0.271174</td>\n",
              "      <td>0.014151</td>\n",
              "      <td>0.1</td>\n",
              "      <td>0</td>\n",
              "      <td>0</td>\n",
              "      <td>1</td>\n",
              "      <td>0</td>\n",
              "      <td>1</td>\n",
              "      <td>0</td>\n",
              "      <td>0</td>\n",
              "      <td>0</td>\n",
              "      <td>0</td>\n",
              "      <td>0</td>\n",
              "      <td>0</td>\n",
              "      <td>0</td>\n",
              "      <td>0</td>\n",
              "      <td>0</td>\n",
              "      <td>0</td>\n",
              "      <td>0</td>\n",
              "      <td>0</td>\n",
              "      <td>1</td>\n",
              "      <td>0</td>\n",
              "      <td>0</td>\n",
              "      <td>0</td>\n",
              "      <td>0</td>\n",
              "      <td>0</td>\n",
              "      <td>0</td>\n",
              "      <td>1</td>\n",
              "    </tr>\n",
              "    <tr>\n",
              "      <th>1</th>\n",
              "      <td>0.472229</td>\n",
              "      <td>0.139136</td>\n",
              "      <td>0.1</td>\n",
              "      <td>1</td>\n",
              "      <td>0</td>\n",
              "      <td>0</td>\n",
              "      <td>1</td>\n",
              "      <td>0</td>\n",
              "      <td>0</td>\n",
              "      <td>0</td>\n",
              "      <td>0</td>\n",
              "      <td>0</td>\n",
              "      <td>0</td>\n",
              "      <td>0</td>\n",
              "      <td>0</td>\n",
              "      <td>0</td>\n",
              "      <td>0</td>\n",
              "      <td>0</td>\n",
              "      <td>0</td>\n",
              "      <td>0</td>\n",
              "      <td>0</td>\n",
              "      <td>1</td>\n",
              "      <td>0</td>\n",
              "      <td>0</td>\n",
              "      <td>0</td>\n",
              "      <td>1</td>\n",
              "      <td>0</td>\n",
              "      <td>0</td>\n",
              "    </tr>\n",
              "    <tr>\n",
              "      <th>2</th>\n",
              "      <td>0.321438</td>\n",
              "      <td>0.015469</td>\n",
              "      <td>0.0</td>\n",
              "      <td>0</td>\n",
              "      <td>0</td>\n",
              "      <td>1</td>\n",
              "      <td>1</td>\n",
              "      <td>0</td>\n",
              "      <td>0</td>\n",
              "      <td>0</td>\n",
              "      <td>0</td>\n",
              "      <td>0</td>\n",
              "      <td>0</td>\n",
              "      <td>0</td>\n",
              "      <td>0</td>\n",
              "      <td>0</td>\n",
              "      <td>0</td>\n",
              "      <td>1</td>\n",
              "      <td>0</td>\n",
              "      <td>0</td>\n",
              "      <td>0</td>\n",
              "      <td>0</td>\n",
              "      <td>0</td>\n",
              "      <td>0</td>\n",
              "      <td>0</td>\n",
              "      <td>0</td>\n",
              "      <td>0</td>\n",
              "      <td>1</td>\n",
              "    </tr>\n",
              "    <tr>\n",
              "      <th>3</th>\n",
              "      <td>0.434531</td>\n",
              "      <td>0.103644</td>\n",
              "      <td>0.1</td>\n",
              "      <td>1</td>\n",
              "      <td>0</td>\n",
              "      <td>0</td>\n",
              "      <td>1</td>\n",
              "      <td>0</td>\n",
              "      <td>0</td>\n",
              "      <td>0</td>\n",
              "      <td>0</td>\n",
              "      <td>0</td>\n",
              "      <td>0</td>\n",
              "      <td>0</td>\n",
              "      <td>0</td>\n",
              "      <td>0</td>\n",
              "      <td>0</td>\n",
              "      <td>0</td>\n",
              "      <td>0</td>\n",
              "      <td>0</td>\n",
              "      <td>0</td>\n",
              "      <td>1</td>\n",
              "      <td>0</td>\n",
              "      <td>0</td>\n",
              "      <td>0</td>\n",
              "      <td>0</td>\n",
              "      <td>0</td>\n",
              "      <td>1</td>\n",
              "    </tr>\n",
              "    <tr>\n",
              "      <th>4</th>\n",
              "      <td>0.434531</td>\n",
              "      <td>0.015713</td>\n",
              "      <td>0.0</td>\n",
              "      <td>0</td>\n",
              "      <td>0</td>\n",
              "      <td>1</td>\n",
              "      <td>0</td>\n",
              "      <td>1</td>\n",
              "      <td>0</td>\n",
              "      <td>0</td>\n",
              "      <td>0</td>\n",
              "      <td>0</td>\n",
              "      <td>0</td>\n",
              "      <td>0</td>\n",
              "      <td>0</td>\n",
              "      <td>0</td>\n",
              "      <td>0</td>\n",
              "      <td>0</td>\n",
              "      <td>0</td>\n",
              "      <td>0</td>\n",
              "      <td>1</td>\n",
              "      <td>0</td>\n",
              "      <td>0</td>\n",
              "      <td>0</td>\n",
              "      <td>0</td>\n",
              "      <td>0</td>\n",
              "      <td>0</td>\n",
              "      <td>1</td>\n",
              "    </tr>\n",
              "    <tr>\n",
              "      <th>...</th>\n",
              "      <td>...</td>\n",
              "      <td>...</td>\n",
              "      <td>...</td>\n",
              "      <td>...</td>\n",
              "      <td>...</td>\n",
              "      <td>...</td>\n",
              "      <td>...</td>\n",
              "      <td>...</td>\n",
              "      <td>...</td>\n",
              "      <td>...</td>\n",
              "      <td>...</td>\n",
              "      <td>...</td>\n",
              "      <td>...</td>\n",
              "      <td>...</td>\n",
              "      <td>...</td>\n",
              "      <td>...</td>\n",
              "      <td>...</td>\n",
              "      <td>...</td>\n",
              "      <td>...</td>\n",
              "      <td>...</td>\n",
              "      <td>...</td>\n",
              "      <td>...</td>\n",
              "      <td>...</td>\n",
              "      <td>...</td>\n",
              "      <td>...</td>\n",
              "      <td>...</td>\n",
              "      <td>...</td>\n",
              "      <td>...</td>\n",
              "    </tr>\n",
              "    <tr>\n",
              "      <th>886</th>\n",
              "      <td>0.334004</td>\n",
              "      <td>0.025374</td>\n",
              "      <td>0.0</td>\n",
              "      <td>0</td>\n",
              "      <td>1</td>\n",
              "      <td>0</td>\n",
              "      <td>0</td>\n",
              "      <td>1</td>\n",
              "      <td>0</td>\n",
              "      <td>0</td>\n",
              "      <td>0</td>\n",
              "      <td>0</td>\n",
              "      <td>0</td>\n",
              "      <td>0</td>\n",
              "      <td>0</td>\n",
              "      <td>0</td>\n",
              "      <td>0</td>\n",
              "      <td>0</td>\n",
              "      <td>0</td>\n",
              "      <td>0</td>\n",
              "      <td>0</td>\n",
              "      <td>0</td>\n",
              "      <td>0</td>\n",
              "      <td>1</td>\n",
              "      <td>0</td>\n",
              "      <td>0</td>\n",
              "      <td>0</td>\n",
              "      <td>1</td>\n",
              "    </tr>\n",
              "    <tr>\n",
              "      <th>887</th>\n",
              "      <td>0.233476</td>\n",
              "      <td>0.058556</td>\n",
              "      <td>0.0</td>\n",
              "      <td>1</td>\n",
              "      <td>0</td>\n",
              "      <td>0</td>\n",
              "      <td>1</td>\n",
              "      <td>0</td>\n",
              "      <td>0</td>\n",
              "      <td>0</td>\n",
              "      <td>0</td>\n",
              "      <td>0</td>\n",
              "      <td>0</td>\n",
              "      <td>0</td>\n",
              "      <td>0</td>\n",
              "      <td>0</td>\n",
              "      <td>0</td>\n",
              "      <td>1</td>\n",
              "      <td>0</td>\n",
              "      <td>0</td>\n",
              "      <td>0</td>\n",
              "      <td>0</td>\n",
              "      <td>0</td>\n",
              "      <td>0</td>\n",
              "      <td>0</td>\n",
              "      <td>0</td>\n",
              "      <td>0</td>\n",
              "      <td>1</td>\n",
              "    </tr>\n",
              "    <tr>\n",
              "      <th>888</th>\n",
              "      <td>0.367921</td>\n",
              "      <td>0.045771</td>\n",
              "      <td>0.3</td>\n",
              "      <td>0</td>\n",
              "      <td>0</td>\n",
              "      <td>1</td>\n",
              "      <td>1</td>\n",
              "      <td>0</td>\n",
              "      <td>0</td>\n",
              "      <td>0</td>\n",
              "      <td>0</td>\n",
              "      <td>0</td>\n",
              "      <td>0</td>\n",
              "      <td>0</td>\n",
              "      <td>0</td>\n",
              "      <td>0</td>\n",
              "      <td>0</td>\n",
              "      <td>1</td>\n",
              "      <td>0</td>\n",
              "      <td>0</td>\n",
              "      <td>0</td>\n",
              "      <td>0</td>\n",
              "      <td>0</td>\n",
              "      <td>0</td>\n",
              "      <td>0</td>\n",
              "      <td>0</td>\n",
              "      <td>0</td>\n",
              "      <td>1</td>\n",
              "    </tr>\n",
              "    <tr>\n",
              "      <th>889</th>\n",
              "      <td>0.321438</td>\n",
              "      <td>0.058556</td>\n",
              "      <td>0.0</td>\n",
              "      <td>1</td>\n",
              "      <td>0</td>\n",
              "      <td>0</td>\n",
              "      <td>0</td>\n",
              "      <td>1</td>\n",
              "      <td>0</td>\n",
              "      <td>0</td>\n",
              "      <td>0</td>\n",
              "      <td>0</td>\n",
              "      <td>0</td>\n",
              "      <td>0</td>\n",
              "      <td>0</td>\n",
              "      <td>0</td>\n",
              "      <td>0</td>\n",
              "      <td>0</td>\n",
              "      <td>0</td>\n",
              "      <td>0</td>\n",
              "      <td>1</td>\n",
              "      <td>0</td>\n",
              "      <td>0</td>\n",
              "      <td>0</td>\n",
              "      <td>0</td>\n",
              "      <td>1</td>\n",
              "      <td>0</td>\n",
              "      <td>0</td>\n",
              "    </tr>\n",
              "    <tr>\n",
              "      <th>890</th>\n",
              "      <td>0.396833</td>\n",
              "      <td>0.015127</td>\n",
              "      <td>0.0</td>\n",
              "      <td>0</td>\n",
              "      <td>0</td>\n",
              "      <td>1</td>\n",
              "      <td>0</td>\n",
              "      <td>1</td>\n",
              "      <td>0</td>\n",
              "      <td>0</td>\n",
              "      <td>0</td>\n",
              "      <td>0</td>\n",
              "      <td>0</td>\n",
              "      <td>0</td>\n",
              "      <td>0</td>\n",
              "      <td>0</td>\n",
              "      <td>0</td>\n",
              "      <td>0</td>\n",
              "      <td>0</td>\n",
              "      <td>0</td>\n",
              "      <td>1</td>\n",
              "      <td>0</td>\n",
              "      <td>0</td>\n",
              "      <td>0</td>\n",
              "      <td>0</td>\n",
              "      <td>0</td>\n",
              "      <td>1</td>\n",
              "      <td>0</td>\n",
              "    </tr>\n",
              "  </tbody>\n",
              "</table>\n",
              "<p>891 rows × 28 columns</p>\n",
              "</div>"
            ],
            "text/plain": [
              "          Age      Fare  Family_members  ...  Embarked_C  Embarked_Q  Embarked_S\n",
              "0    0.271174  0.014151             0.1  ...           0           0           1\n",
              "1    0.472229  0.139136             0.1  ...           1           0           0\n",
              "2    0.321438  0.015469             0.0  ...           0           0           1\n",
              "3    0.434531  0.103644             0.1  ...           0           0           1\n",
              "4    0.434531  0.015713             0.0  ...           0           0           1\n",
              "..        ...       ...             ...  ...         ...         ...         ...\n",
              "886  0.334004  0.025374             0.0  ...           0           0           1\n",
              "887  0.233476  0.058556             0.0  ...           0           0           1\n",
              "888  0.367921  0.045771             0.3  ...           0           0           1\n",
              "889  0.321438  0.058556             0.0  ...           1           0           0\n",
              "890  0.396833  0.015127             0.0  ...           0           1           0\n",
              "\n",
              "[891 rows x 28 columns]"
            ]
          },
          "metadata": {},
          "execution_count": 188
        }
      ]
    },
    {
      "cell_type": "markdown",
      "metadata": {
        "id": "W881qCEekc_0"
      },
      "source": [
        "<b>Split the data into train and test. (do a split in the ratio 30:70)</b>"
      ]
    },
    {
      "cell_type": "code",
      "metadata": {
        "id": "pyiJik35kdJd"
      },
      "source": [
        "#write code here\n",
        "\n",
        "from sklearn.model_selection import train_test_split\n",
        "\n",
        "X_train, X_test, y_train, y_test = train_test_split(titanic_df, y_label, stratify = y_label, \n",
        "                                                    test_size = 0.3, random_state = 20212008)"
      ],
      "execution_count": 189,
      "outputs": []
    },
    {
      "cell_type": "code",
      "metadata": {
        "colab": {
          "base_uri": "https://localhost:8080/"
        },
        "id": "P9pVwVTaYPvu",
        "outputId": "17a622e9-5913-4820-bc32-df759b69668d"
      },
      "source": [
        "print('The size of X_train is {} and X_test is {}'.format(X_train.size, X_test.size))\n",
        "print('The size of y_train is {} and y_test is {}'.format(y_train.size, y_test.size))\n",
        "print('The shape of X_train is {} and X_test is {}'.format(X_train.shape, X_test.shape))\n",
        "print('The shape of y_train is {} and y_test is {}'.format(y_train.shape, y_test.shape))\n",
        "\n",
        "print()\n",
        "print(f'Test Case:\\n{y_test.value_counts(normalize = True)}')\n",
        "\n",
        "print()\n",
        "print(f'Train Case:\\n{y_train.value_counts(normalize = True)}')"
      ],
      "execution_count": 190,
      "outputs": [
        {
          "output_type": "stream",
          "name": "stdout",
          "text": [
            "The size of X_train is 17444 and X_test is 7504\n",
            "The size of y_train is 623 and y_test is 268\n",
            "The shape of X_train is (623, 28) and X_test is (268, 28)\n",
            "The shape of y_train is (623,) and y_test is (268,)\n",
            "\n",
            "Test Case:\n",
            "0    0.615672\n",
            "1    0.384328\n",
            "Name: Survived, dtype: float64\n",
            "\n",
            "Train Case:\n",
            "0    0.616372\n",
            "1    0.383628\n",
            "Name: Survived, dtype: float64\n"
          ]
        }
      ]
    },
    {
      "cell_type": "markdown",
      "metadata": {
        "id": "JUecQsgOYeWa"
      },
      "source": [
        "<b>Now that you have the entire preprocessed and split data, implement the decision tree algorithm from sklearn and fit it to this dataset</b> <br>\n",
        "\n",
        "Make sure that you play with the hyperparameters to get a good result. You can even use bagging and boosting methods like random forest or adaboost to improve your accuracy. Visualize results, try different hyperparameters by using a loop, GET CREATIVE!<br>\n",
        "\n",
        "Machine learning is an iteritive process. You will have to keep playing with hyperparameters and algorithms. No fixed algorithm will work on a fixed dataset."
      ]
    },
    {
      "cell_type": "markdown",
      "metadata": {
        "id": "ezOQYX1Lkq8K"
      },
      "source": [
        "**Decision Tree Classifier**"
      ]
    },
    {
      "cell_type": "code",
      "metadata": {
        "id": "0Yo4q2yUYdkI"
      },
      "source": [
        "#write code here\n",
        "\n",
        "from sklearn.tree import DecisionTreeClassifier"
      ],
      "execution_count": 191,
      "outputs": []
    },
    {
      "cell_type": "code",
      "metadata": {
        "colab": {
          "base_uri": "https://localhost:8080/"
        },
        "id": "p-abMcnTSKBt",
        "outputId": "6fbfa46e-46eb-4073-cfab-5fc9fa1e7a39"
      },
      "source": [
        "train_accuracy, test_accuracy = [], []\n",
        "\n",
        "for i in range(1, 15) :\n",
        "  dt_model = DecisionTreeClassifier(max_depth = i, random_state = 20201008)\n",
        "  dt_model.fit(X_train, y_train)\n",
        "  train_accuracy.append(dt_model.score(X_train, y_train))\n",
        "  test_accuracy.append(dt_model.score(X_test, y_test))\n",
        "\n",
        "frame_depth = pd.DataFrame({'max_depth' : range(1, 15), 'Train Accuracy' : train_accuracy, \n",
        "                      'Test Accuracy' : test_accuracy})\n",
        "\n",
        "train_accuracy, test_accuracy = [], []\n",
        "\n",
        "for i in range(2, 21) :\n",
        "  dt_model = DecisionTreeClassifier(max_depth = 5, max_leaf_nodes = i, random_state = 20201008)\n",
        "  dt_model.fit(X_train, y_train)\n",
        "  train_accuracy.append(dt_model.score(X_train, y_train))\n",
        "  test_accuracy.append(dt_model.score(X_test, y_test))\n",
        "\n",
        "frame_leaf = pd.DataFrame({'max_leaf_nodes' : range(2, 21), 'Train Accuracy' : train_accuracy, \n",
        "                      'Test Accuracy' : test_accuracy})\n",
        "print(frame_depth)\n",
        "print()\n",
        "print(frame_leaf)"
      ],
      "execution_count": 192,
      "outputs": [
        {
          "output_type": "stream",
          "name": "stdout",
          "text": [
            "    max_depth  Train Accuracy  Test Accuracy\n",
            "0           1        0.791332       0.761194\n",
            "1           2        0.791332       0.761194\n",
            "2           3        0.837881       0.798507\n",
            "3           4        0.861958       0.828358\n",
            "4           5        0.869984       0.824627\n",
            "5           6        0.886035       0.813433\n",
            "6           7        0.903692       0.761194\n",
            "7           8        0.924559       0.764925\n",
            "8           9        0.940610       0.776119\n",
            "9          10        0.953451       0.772388\n",
            "10         11        0.964687       0.783582\n",
            "11         12        0.975923       0.768657\n",
            "12         13        0.975923       0.768657\n",
            "13         14        0.982343       0.753731\n",
            "\n",
            "    max_leaf_nodes  Train Accuracy  Test Accuracy\n",
            "0                2        0.791332       0.761194\n",
            "1                3        0.791332       0.761194\n",
            "2                4        0.826645       0.813433\n",
            "3                5        0.826645       0.805970\n",
            "4                6        0.826645       0.805970\n",
            "5                7        0.837881       0.798507\n",
            "6                8        0.849117       0.817164\n",
            "7                9        0.852327       0.813433\n",
            "8               10        0.858748       0.817164\n",
            "9               11        0.858748       0.817164\n",
            "10              12        0.861958       0.817164\n",
            "11              13        0.861958       0.817164\n",
            "12              14        0.863563       0.817164\n",
            "13              15        0.865169       0.817164\n",
            "14              16        0.866774       0.824627\n",
            "15              17        0.866774       0.824627\n",
            "16              18        0.868379       0.824627\n",
            "17              19        0.868379       0.824627\n",
            "18              20        0.868379       0.824627\n"
          ]
        }
      ]
    },
    {
      "cell_type": "code",
      "metadata": {
        "colab": {
          "base_uri": "https://localhost:8080/",
          "height": 429
        },
        "id": "aIS3PY1ZVYY5",
        "outputId": "e6c50340-4ea5-4572-97a6-05892172fb5f"
      },
      "source": [
        "fig, ax = plt.subplots(1, 2, figsize = (14, 6))\n",
        "\n",
        "ax[0].plot(frame_depth['max_depth'], frame_depth['Train Accuracy'], \n",
        "           marker = 'o', label = 'Training Accuracy', color = 'blue')\n",
        "ax[0].plot(frame_depth['max_depth'], frame_depth['Test Accuracy'], \n",
        "           marker = 'o', label = 'Testing Accuracy', color = 'red')\n",
        "ax[0].set_xlabel('max_depth')\n",
        "ax[0].set_ylabel('Accuracy')\n",
        "ax[0].legend()\n",
        "\n",
        "ax[1].plot(frame_leaf['max_leaf_nodes'], frame_leaf['Train Accuracy'], \n",
        "           marker = 'o', label = 'Training Accuracy', color = 'green')\n",
        "ax[1].plot(frame_leaf['max_leaf_nodes'], frame_leaf['Test Accuracy'], \n",
        "           marker = 'o', label = 'Testing Accuracy', color ='orange')\n",
        "ax[1].set_xlabel('max_leaf_nodes')\n",
        "ax[1].set_ylabel('Accuracy')\n",
        "ax[1].legend()\n",
        "\n",
        "plt.tight_layout()"
      ],
      "execution_count": 193,
      "outputs": [
        {
          "output_type": "display_data",
          "data": {
            "image/png": "[encoded data removed]",
            "text/plain": [
              "<Figure size 1008x432 with 2 Axes>"
            ]
          },
          "metadata": {
            "needs_background": "light"
          }
        }
      ]
    },
    {
      "cell_type": "code",
      "metadata": {
        "colab": {
          "base_uri": "https://localhost:8080/"
        },
        "id": "nfl92RDAZqL0",
        "outputId": "83376dfd-5bd6-4b56-9770-7c19674a4898"
      },
      "source": [
        "titanic_model = DecisionTreeClassifier(criterion = 'gini', max_depth = 4,\n",
        "                                       max_leaf_nodes = 12, random_state= 20201008)\n",
        "\n",
        "titanic_model.fit(X_train, y_train)"
      ],
      "execution_count": 194,
      "outputs": [
        {
          "output_type": "execute_result",
          "data": {
            "text/plain": [
              "DecisionTreeClassifier(ccp_alpha=0.0, class_weight=None, criterion='gini',\n",
              "                       max_depth=4, max_features=None, max_leaf_nodes=12,\n",
              "                       min_impurity_decrease=0.0, min_impurity_split=None,\n",
              "                       min_samples_leaf=1, min_samples_split=2,\n",
              "                       min_weight_fraction_leaf=0.0, presort='deprecated',\n",
              "                       random_state=20201008, splitter='best')"
            ]
          },
          "metadata": {},
          "execution_count": 194
        }
      ]
    },
    {
      "cell_type": "code",
      "metadata": {
        "colab": {
          "base_uri": "https://localhost:8080/",
          "height": 427
        },
        "id": "tgnCWI_2GR1t",
        "outputId": "3025b6d0-981d-427c-88d2-1031dc208735"
      },
      "source": [
        "from sklearn import tree\n",
        "\n",
        "fig, ax = plt.subplots(figsize = (18, 8))\n",
        "titanic_tree = tree.export_graphviz(titanic_model, out_file = 'titanic_tree.dot', \n",
        "                                    filled = True, feature_names = X_train.columns, \n",
        "                                    rounded = True)\n",
        "\n",
        "!dot -Tpng titanic_tree.dot -o titanic_tree.png\n",
        "\n",
        "img = plt.imread('titanic_tree.png')\n",
        "plt.imshow(img)"
      ],
      "execution_count": 195,
      "outputs": [
        {
          "output_type": "execute_result",
          "data": {
            "text/plain": [
              "<matplotlib.image.AxesImage at 0x7fc1936cac90>"
            ]
          },
          "metadata": {},
          "execution_count": 195
        },
        {
          "output_type": "display_data",
          "data": {
            "image/png": "[encoded data removed]",
            "text/plain": [
              "<Figure size 1296x576 with 1 Axes>"
            ]
          },
          "metadata": {
            "needs_background": "light"
          }
        }
      ]
    },
    {
      "cell_type": "markdown",
      "metadata": {
        "id": "jMx0c3zek2xh"
      },
      "source": [
        "**Random Forest Classifier**"
      ]
    },
    {
      "cell_type": "code",
      "metadata": {
        "id": "ilOQkv6ML8Kb"
      },
      "source": [
        "from sklearn.ensemble import RandomForestClassifier"
      ],
      "execution_count": 196,
      "outputs": []
    },
    {
      "cell_type": "code",
      "metadata": {
        "colab": {
          "base_uri": "https://localhost:8080/"
        },
        "id": "bR8J37_GL8ZE",
        "outputId": "2d954fd6-05d6-4bfc-ed2f-f87370454bb4"
      },
      "source": [
        "train_accuracy, test_accuracy = [], []\n",
        "\n",
        "for i in range(1, 15) :\n",
        "  rfc_model = RandomForestClassifier(max_depth = i, random_state = 20201008)\n",
        "  rfc_model.fit(X_train, y_train)\n",
        "  train_accuracy.append(rfc_model.score(X_train, y_train))\n",
        "  test_accuracy.append(rfc_model.score(X_test, y_test))\n",
        "\n",
        "frame_depth = pd.DataFrame({'max_depth' : range(1, 15), 'Train Accuracy' : train_accuracy, \n",
        "                      'Test Accuracy' : test_accuracy})\n",
        "\n",
        "\n",
        "\n",
        "train_accuracy, test_accuracy = [], []\n",
        "\n",
        "for i in range(2, 31) :\n",
        "  rfc_model = RandomForestClassifier(max_depth = 8, max_leaf_nodes = i, random_state = 20201008)\n",
        "  rfc_model.fit(X_train, y_train)\n",
        "  train_accuracy.append(rfc_model.score(X_train, y_train))\n",
        "  test_accuracy.append(rfc_model.score(X_test, y_test))\n",
        "\n",
        "frame_leaf = pd.DataFrame({'max_leaf_nodes' : range(2, 31), 'Train Accuracy' : train_accuracy, \n",
        "                      'Test Accuracy' : test_accuracy})\n",
        "\n",
        "\n",
        "\n",
        "train_accuracy, test_accuracy = [], []\n",
        "\n",
        "for i in range(80, 121) : \n",
        "  rfc_model = RandomForestClassifier(n_estimators = i, max_depth = 8, \n",
        "                                     max_leaf_nodes = 23, n_jobs = -1,\n",
        "                                     random_state = 20201008)\n",
        "  rfc_model.fit(X_train, y_train)\n",
        "  train_accuracy.append(rfc_model.score(X_train, y_train))\n",
        "  test_accuracy.append(rfc_model.score(X_test, y_test))\n",
        "\n",
        "frame_estimators = pd.DataFrame({'max_nodes' : range(80, 121), 'Train Accuracy' : train_accuracy, \n",
        "                      'Test Accuracy' : test_accuracy})\n",
        "\n",
        "\n",
        "print(frame_depth)\n",
        "print()\n",
        "print(frame_leaf)\n",
        "print()\n",
        "print(frame_estimators)"
      ],
      "execution_count": 197,
      "outputs": [
        {
          "output_type": "stream",
          "name": "stdout",
          "text": [
            "    max_depth  Train Accuracy  Test Accuracy\n",
            "0           1        0.792937       0.772388\n",
            "1           2        0.796148       0.776119\n",
            "2           3        0.810594       0.787313\n",
            "3           4        0.839486       0.828358\n",
            "4           5        0.847512       0.824627\n",
            "5           6        0.882825       0.817164\n",
            "6           7        0.895666       0.824627\n",
            "7           8        0.924559       0.832090\n",
            "8           9        0.935795       0.813433\n",
            "9          10        0.950241       0.805970\n",
            "10         11        0.958266       0.787313\n",
            "11         12        0.966292       0.794776\n",
            "12         13        0.974318       0.791045\n",
            "13         14        0.975923       0.794776\n",
            "\n",
            "    max_leaf_nodes  Train Accuracy  Test Accuracy\n",
            "0                2        0.792937       0.772388\n",
            "1                3        0.792937       0.772388\n",
            "2                4        0.794543       0.776119\n",
            "3                5        0.802568       0.791045\n",
            "4                6        0.820225       0.809701\n",
            "5                7        0.828250       0.813433\n",
            "6                8        0.829856       0.824627\n",
            "7                9        0.834671       0.828358\n",
            "8               10        0.839486       0.828358\n",
            "9               11        0.839486       0.832090\n",
            "10              12        0.839486       0.832090\n",
            "11              13        0.841091       0.832090\n",
            "12              14        0.841091       0.832090\n",
            "13              15        0.845907       0.835821\n",
            "14              16        0.850722       0.835821\n",
            "15              17        0.853933       0.832090\n",
            "16              18        0.858748       0.835821\n",
            "17              19        0.861958       0.835821\n",
            "18              20        0.863563       0.832090\n",
            "19              21        0.868379       0.832090\n",
            "20              22        0.871589       0.828358\n",
            "21              23        0.873194       0.835821\n",
            "22              24        0.876404       0.832090\n",
            "23              25        0.878010       0.832090\n",
            "24              26        0.882825       0.832090\n",
            "25              27        0.886035       0.832090\n",
            "26              28        0.887640       0.824627\n",
            "27              29        0.894061       0.824627\n",
            "28              30        0.894061       0.824627\n",
            "\n",
            "    max_nodes  Train Accuracy  Test Accuracy\n",
            "0          80        0.876404       0.828358\n",
            "1          81        0.874799       0.832090\n",
            "2          82        0.876404       0.828358\n",
            "3          83        0.873194       0.828358\n",
            "4          84        0.876404       0.828358\n",
            "5          85        0.876404       0.832090\n",
            "6          86        0.878010       0.832090\n",
            "7          87        0.879615       0.832090\n",
            "8          88        0.874799       0.832090\n",
            "9          89        0.874799       0.832090\n",
            "10         90        0.873194       0.835821\n",
            "11         91        0.874799       0.832090\n",
            "12         92        0.873194       0.832090\n",
            "13         93        0.873194       0.832090\n",
            "14         94        0.873194       0.832090\n",
            "15         95        0.873194       0.832090\n",
            "16         96        0.871589       0.832090\n",
            "17         97        0.871589       0.832090\n",
            "18         98        0.871589       0.835821\n",
            "19         99        0.871589       0.835821\n",
            "20        100        0.873194       0.835821\n",
            "21        101        0.873194       0.835821\n",
            "22        102        0.873194       0.835821\n",
            "23        103        0.873194       0.835821\n",
            "24        104        0.873194       0.835821\n",
            "25        105        0.873194       0.835821\n",
            "26        106        0.873194       0.835821\n",
            "27        107        0.873194       0.832090\n",
            "28        108        0.873194       0.835821\n",
            "29        109        0.873194       0.835821\n",
            "30        110        0.871589       0.832090\n",
            "31        111        0.869984       0.832090\n",
            "32        112        0.869984       0.832090\n",
            "33        113        0.868379       0.832090\n",
            "34        114        0.868379       0.832090\n",
            "35        115        0.868379       0.832090\n",
            "36        116        0.868379       0.832090\n",
            "37        117        0.868379       0.832090\n",
            "38        118        0.868379       0.832090\n",
            "39        119        0.869984       0.832090\n",
            "40        120        0.869984       0.832090\n"
          ]
        }
      ]
    },
    {
      "cell_type": "code",
      "metadata": {
        "colab": {
          "base_uri": "https://localhost:8080/",
          "height": 377
        },
        "id": "qPHBR2g1SoGJ",
        "outputId": "6b47ac3c-9200-41ef-c099-0a77e609c92c"
      },
      "source": [
        "fig, ax = plt.subplots(1, 3, figsize = (16, 6))\n",
        "\n",
        "ax[0].plot(frame_depth['max_depth'], frame_depth['Train Accuracy'], \n",
        "           marker = 'o', label = 'Training Accuracy', color = 'orange')\n",
        "ax[0].plot(frame_depth['max_depth'], frame_depth['Test Accuracy'], \n",
        "           marker = 'o', label = 'Testing Accuracy', color = 'blue')\n",
        "ax[0].set_xlabel('max_depth')\n",
        "ax[0].set_ylabel('Accuracy')\n",
        "ax[0].legend()\n",
        "\n",
        "ax[1].plot(frame_leaf['max_leaf_nodes'], frame_leaf['Train Accuracy'], \n",
        "           marker = 'o', label = 'Training Accuracy', color = 'red')\n",
        "ax[1].plot(frame_leaf['max_leaf_nodes'], frame_leaf['Test Accuracy'], \n",
        "           marker = 'o', label = 'Testing Accuracy', color = 'yellow')\n",
        "ax[1].set_xlabel('max_leaf_nodes')\n",
        "ax[1].set_ylabel('Accuracy')\n",
        "ax[1].legend()\n",
        "\n",
        "ax[2].plot(frame_estimators['max_nodes'], frame_estimators['Train Accuracy'], \n",
        "           marker = 'o', label = 'Training Accuracy', color = 'green')\n",
        "ax[2].plot(frame_estimators['max_nodes'], frame_estimators['Test Accuracy'], \n",
        "           marker = 'o', label = 'Testing Accuracy', color = 'purple')\n",
        "ax[2].set_xlabel('max_nodes')\n",
        "ax[2].set_ylabel('Accuracy')\n",
        "ax[2].legend()\n",
        "\n",
        "plt.tight_layout()"
      ],
      "execution_count": 198,
      "outputs": [
        {
          "output_type": "display_data",
          "data": {
            "image/png": "[encoded data removed]",
            "text/plain": [
              "<Figure size 1152x432 with 3 Axes>"
            ]
          },
          "metadata": {
            "needs_background": "light"
          }
        }
      ]
    },
    {
      "cell_type": "markdown",
      "metadata": {
        "id": "foDvQa0HlGMT"
      },
      "source": [
        "**AdaBoost Classifier**"
      ]
    },
    {
      "cell_type": "code",
      "metadata": {
        "id": "9zxbT1-Ebo6K"
      },
      "source": [
        "from sklearn.ensemble import AdaBoostClassifier"
      ],
      "execution_count": 199,
      "outputs": []
    },
    {
      "cell_type": "code",
      "metadata": {
        "colab": {
          "base_uri": "https://localhost:8080/"
        },
        "id": "bmBQ-1Jfcapt",
        "outputId": "fb886004-ad36-4773-81a2-8e60edf28698"
      },
      "source": [
        "train_accuracy, test_accuracy = [], []\n",
        "\n",
        "l = [0.00001, 0.0001, 0.001, 0.005, 0.01, 0.04, 0.05, 0.08, 0.1, 0.2, 0.3, 0.4, 0.5, 0.6, 0.7, 0.8, 0.9, 1.0]\n",
        "for i in l :\n",
        "  abc_model = AdaBoostClassifier(n_estimators = 50, learning_rate = i, \n",
        "                                 base_estimator = DecisionTreeClassifier(max_depth = 4, \n",
        "                                                                         max_leaf_nodes = 12, random_state = 20201008),\n",
        "                                 random_state = 20201008)\n",
        "  abc_model.fit(X_train, y_train)\n",
        "  train_accuracy.append(abc_model.score(X_train, y_train))\n",
        "  test_accuracy.append(abc_model.score(X_test, y_test))\n",
        "\n",
        "frame_learning = pd.DataFrame({'learning_rate' : l, 'Train Accuracy' : train_accuracy, \n",
        "                               'Test Accuracy' : test_accuracy})\n",
        "\n",
        "\n",
        "\n",
        "train_accuracy, test_accuracy = [], []\n",
        "\n",
        "for i in range(21, 61) :\n",
        "  abc_model = AdaBoostClassifier(n_estimators = i, learning_rate = 0.001, \n",
        "                                 base_estimator = DecisionTreeClassifier(max_depth = 4, \n",
        "                                                                         max_leaf_nodes = 12, random_state= 20201008),\n",
        "                                 random_state = 20201008)\n",
        "  abc_model.fit(X_train, y_train)\n",
        "  train_accuracy.append(abc_model.score(X_train, y_train))\n",
        "  test_accuracy.append(abc_model.score(X_test, y_test))\n",
        "\n",
        "frame_estimators = pd.DataFrame({'n_estimators' : range(21, 61), 'Train Accuracy' : train_accuracy, \n",
        "                                 'Test Accuracy' : test_accuracy})\n",
        "\n",
        "\n",
        "\n",
        "print(frame_learning)\n",
        "print()\n",
        "print(frame_estimators)"
      ],
      "execution_count": 200,
      "outputs": [
        {
          "output_type": "stream",
          "name": "stdout",
          "text": [
            "    learning_rate  Train Accuracy  Test Accuracy\n",
            "0         0.00001        0.861958       0.828358\n",
            "1         0.00010        0.861958       0.828358\n",
            "2         0.00100        0.865169       0.824627\n",
            "3         0.00500        0.868379       0.820896\n",
            "4         0.01000        0.868379       0.817164\n",
            "5         0.04000        0.922953       0.779851\n",
            "6         0.05000        0.922953       0.802239\n",
            "7         0.08000        0.955056       0.794776\n",
            "8         0.10000        0.955056       0.794776\n",
            "9         0.20000        0.975923       0.746269\n",
            "10        0.30000        0.982343       0.761194\n",
            "11        0.40000        0.982343       0.742537\n",
            "12        0.50000        0.982343       0.791045\n",
            "13        0.60000        0.982343       0.738806\n",
            "14        0.70000        0.982343       0.753731\n",
            "15        0.80000        0.982343       0.712687\n",
            "16        0.90000        0.982343       0.776119\n",
            "17        1.00000        0.982343       0.779851\n",
            "\n",
            "    n_estimators  Train Accuracy  Test Accuracy\n",
            "0             21        0.861958       0.828358\n",
            "1             22        0.861958       0.828358\n",
            "2             23        0.861958       0.828358\n",
            "3             24        0.861958       0.828358\n",
            "4             25        0.861958       0.828358\n",
            "5             26        0.861958       0.828358\n",
            "6             27        0.861958       0.828358\n",
            "7             28        0.861958       0.828358\n",
            "8             29        0.861958       0.828358\n",
            "9             30        0.861958       0.828358\n",
            "10            31        0.865169       0.824627\n",
            "11            32        0.865169       0.824627\n",
            "12            33        0.865169       0.824627\n",
            "13            34        0.865169       0.824627\n",
            "14            35        0.865169       0.824627\n",
            "15            36        0.865169       0.824627\n",
            "16            37        0.865169       0.824627\n",
            "17            38        0.865169       0.824627\n",
            "18            39        0.865169       0.824627\n",
            "19            40        0.865169       0.824627\n",
            "20            41        0.865169       0.824627\n",
            "21            42        0.865169       0.824627\n",
            "22            43        0.865169       0.824627\n",
            "23            44        0.865169       0.824627\n",
            "24            45        0.865169       0.824627\n",
            "25            46        0.865169       0.824627\n",
            "26            47        0.865169       0.824627\n",
            "27            48        0.865169       0.824627\n",
            "28            49        0.865169       0.824627\n",
            "29            50        0.865169       0.824627\n",
            "30            51        0.865169       0.824627\n",
            "31            52        0.865169       0.824627\n",
            "32            53        0.865169       0.824627\n",
            "33            54        0.865169       0.824627\n",
            "34            55        0.865169       0.824627\n",
            "35            56        0.865169       0.824627\n",
            "36            57        0.865169       0.824627\n",
            "37            58        0.865169       0.824627\n",
            "38            59        0.865169       0.824627\n",
            "39            60        0.865169       0.824627\n"
          ]
        }
      ]
    },
    {
      "cell_type": "code",
      "metadata": {
        "id": "jHYJZuzrfvWX",
        "colab": {
          "base_uri": "https://localhost:8080/",
          "height": 429
        },
        "outputId": "a40a65b1-3c67-4ff3-856b-6073f9cc779b"
      },
      "source": [
        "fig, ax = plt.subplots(1, 2, figsize = (14, 6))\n",
        "\n",
        "ax[0].plot(frame_learning['learning_rate'], frame_learning['Train Accuracy'], \n",
        "           marker = 'o', label = 'Training Accuracy', color = 'teal')\n",
        "ax[0].plot(frame_learning['learning_rate'], frame_learning['Test Accuracy'], \n",
        "           marker = 'o', label = 'Testing Accuracy', color = 'magenta')\n",
        "ax[0].set_xlabel('learning_rate')\n",
        "ax[0].set_ylabel('Accuracy')\n",
        "ax[0].legend()\n",
        "\n",
        "ax[1].plot(frame_estimators['n_estimators'], frame_estimators['Train Accuracy'], \n",
        "           marker = 'o', label = 'Training Accuracy', color = 'red')\n",
        "ax[1].plot(frame_estimators['n_estimators'], frame_estimators['Test Accuracy'], \n",
        "           marker = 'o', label = 'Testing Accuracy', color = 'orange')\n",
        "ax[1].set_xlabel('n_estimators')\n",
        "ax[1].set_ylabel('Accuracy')\n",
        "ax[1].legend()\n",
        "\n",
        "plt.tight_layout()"
      ],
      "execution_count": 201,
      "outputs": [
        {
          "output_type": "display_data",
          "data": {
            "image/png": "[encoded data removed]",
            "text/plain": [
              "<Figure size 1008x432 with 2 Axes>"
            ]
          },
          "metadata": {
            "needs_background": "light"
          }
        }
      ]
    },
    {
      "cell_type": "markdown",
      "metadata": {
        "id": "Nl7pBHBOYtfQ"
      },
      "source": [
        "<b>print the test accuracy and train accuracy here</b>"
      ]
    },
    {
      "cell_type": "code",
      "metadata": {
        "id": "Fq90O8BwYwLA",
        "colab": {
          "base_uri": "https://localhost:8080/"
        },
        "outputId": "5300eeb1-baf1-4164-f43e-fdc741294d16"
      },
      "source": [
        "#write code here\n",
        "\n",
        "titanic_model = DecisionTreeClassifier(criterion = 'gini', max_depth = 4,\n",
        "                                       max_leaf_nodes = 12, random_state= 20201008)\n",
        "\n",
        "titanic_model.fit(X_train, y_train)\n",
        "\n",
        "print('With Decision Tree :\\nTraining Accuracy : {}\\nTesting Accuracy : {}'.format(titanic_model.score(X_train, y_train), titanic_model.score(X_test, y_test)))\n",
        "print()\n",
        "\n",
        "\n",
        "titanic_model = RandomForestClassifier(criterion = 'gini', n_estimators = 100, \n",
        "                                       max_depth = 8, max_leaf_nodes = 23, \n",
        "                                       n_jobs = -1, random_state= 20201008)\n",
        "\n",
        "titanic_model.fit(X_train, y_train)\n",
        "\n",
        "print('With Random Forest :\\nTraining Accuracy : {}\\nTesting Accuracy : {}'.format(titanic_model.score(X_train, y_train), titanic_model.score(X_test, y_test)))\n",
        "print()\n",
        "\n",
        "titanic_model = AdaBoostClassifier(n_estimators = 30, learning_rate = 0.001, \n",
        "                                   base_estimator = DecisionTreeClassifier(max_depth = 4, \n",
        "                                                                           max_leaf_nodes = 12, random_state= 20201008), \n",
        "                                   random_state = 20201008)\n",
        "\n",
        "titanic_model.fit(X_train, y_train)\n",
        "\n",
        "print('With Adaboost :\\nTraining Accuracy : {}\\nTesting Accuracy : {}'.format(titanic_model.score(X_train, y_train), titanic_model.score(X_test, y_test)))"
      ],
      "execution_count": 202,
      "outputs": [
        {
          "output_type": "stream",
          "name": "stdout",
          "text": [
            "With Decision Tree :\n",
            "Training Accuracy : 0.8619582664526485\n",
            "Testing Accuracy : 0.8283582089552238\n",
            "\n",
            "With Random Forest :\n",
            "Training Accuracy : 0.8731942215088283\n",
            "Testing Accuracy : 0.835820895522388\n",
            "\n",
            "With Adaboost :\n",
            "Training Accuracy : 0.8619582664526485\n",
            "Testing Accuracy : 0.8283582089552238\n"
          ]
        }
      ]
    },
    {
      "cell_type": "code",
      "metadata": {
        "colab": {
          "base_uri": "https://localhost:8080/"
        },
        "id": "2_J8HP72kUoA",
        "outputId": "33a142fc-34aa-495d-8961-3cb24f6fc435"
      },
      "source": [
        "from sklearn.model_selection import GridSearchCV\n",
        "\n",
        "param_g = {'n_estimators' : [100], 'learning_rate' : [0.001]}\n",
        "grid_model = GridSearchCV(titanic_model, param_grid = param_g, scoring = 'roc_auc')\n",
        "grid_model.fit(X_train, y_train)\n",
        "print('With GridSearchCV :\\nTraining Accuracy : {}\\nTesting Accuracy : {}'.format(grid_model.score(X_train, y_train), dt_model.score(X_test, y_test)))"
      ],
      "execution_count": 203,
      "outputs": [
        {
          "output_type": "stream",
          "name": "stdout",
          "text": [
            "With GridSearchCV :\n",
            "Training Accuracy : 0.9070998953974895\n",
            "Testing Accuracy : 0.8246268656716418\n"
          ]
        }
      ]
    }
  ]
}